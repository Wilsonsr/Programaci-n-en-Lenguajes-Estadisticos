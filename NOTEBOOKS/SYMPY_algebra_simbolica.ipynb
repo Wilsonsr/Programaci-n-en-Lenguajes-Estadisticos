{
  "cells": [
    {
      "cell_type": "markdown",
      "metadata": {
        "id": "6GYVfgAQ-Z8a"
      },
      "source": [
        "# EXPRESIONES SIMBÓLICAS\n",
        "\n",
        "Se puede señalar que los lenguajes computacionales de cálculo simbólico son aquellos que permiten la representación y el manejo computacional de expresiones algebraicas que empleamos en nuestros cursos de cálculo.\n",
        "\n",
        "Su capacidad de cálculo se puede observar en la facilidad con que realizan operaciones tanto algebraicas básicas como de cálculo avanzado como son: suma, resta, multiplicación, división y potenciación de monomios y polinomios integración, resolución de ecuaciones diferenciales y muchas más situaciones."
      ]
    },
    {
      "cell_type": "markdown",
      "metadata": {
        "id": "M-7Zcn6PCprP"
      },
      "source": [
        "\n",
        "\n",
        "---\n",
        "\n",
        "\n",
        "<center>\n",
        "<img src=\"https://www.sympy.org/static/images/logo.png\" width=300  >\n",
        "</center>\n",
        "La biblioteca Symbolic Python (SymPy) tiene como objetivo proporcionar un sistema de sistema de álgebra computacional (CAS). A diferencia de muchos otros CAS, SymPy es\n",
        "principalmente una biblioteca, más que un entorno completo. Esto hace que SymPy sea muy adecuado para\n",
        "integración en aplicaciones y cálculos que también utilizan otras bibliotecas de Python.\n"
      ]
    },
    {
      "cell_type": "code",
      "execution_count": null,
      "metadata": {
        "colab": {
          "base_uri": "https://localhost:8080/",
          "height": 1000,
          "resources": {
            "http://localhost:8080/_static/graphviz.css": {
              "data": "CjwhRE9DVFlQRSBodG1sPgo8aHRtbCBsYW5nPWVuPgogIDxtZXRhIGNoYXJzZXQ9dXRmLTg+CiAgPG1ldGEgbmFtZT12aWV3cG9ydCBjb250ZW50PSJpbml0aWFsLXNjYWxlPTEsIG1pbmltdW0tc2NhbGU9MSwgd2lkdGg9ZGV2aWNlLXdpZHRoIj4KICA8dGl0bGU+RXJyb3IgNDA0IChOb3QgRm91bmQpISExPC90aXRsZT4KICA8c3R5bGU+CiAgICAqe21hcmdpbjowO3BhZGRpbmc6MH1odG1sLGNvZGV7Zm9udDoxNXB4LzIycHggYXJpYWwsc2Fucy1zZXJpZn1odG1se2JhY2tncm91bmQ6I2ZmZjtjb2xvcjojMjIyO3BhZGRpbmc6MTVweH1ib2R5e21hcmdpbjo3JSBhdXRvIDA7bWF4LXdpZHRoOjM5MHB4O21pbi1oZWlnaHQ6MTgwcHg7cGFkZGluZzozMHB4IDAgMTVweH0qID4gYm9keXtiYWNrZ3JvdW5kOnVybCgvL3d3dy5nb29nbGUuY29tL2ltYWdlcy9lcnJvcnMvcm9ib3QucG5nKSAxMDAlIDVweCBuby1yZXBlYXQ7cGFkZGluZy1yaWdodDoyMDVweH1we21hcmdpbjoxMXB4IDAgMjJweDtvdmVyZmxvdzpoaWRkZW59aW5ze2NvbG9yOiM3Nzc7dGV4dC1kZWNvcmF0aW9uOm5vbmV9YSBpbWd7Ym9yZGVyOjB9QG1lZGlhIHNjcmVlbiBhbmQgKG1heC13aWR0aDo3NzJweCl7Ym9keXtiYWNrZ3JvdW5kOm5vbmU7bWFyZ2luLXRvcDowO21heC13aWR0aDpub25lO3BhZGRpbmctcmlnaHQ6MH19I2xvZ297YmFja2dyb3VuZDp1cmwoLy93d3cuZ29vZ2xlLmNvbS9pbWFnZXMvbG9nb3MvZXJyb3JwYWdlL2Vycm9yX2xvZ28tMTUweDU0LnBuZykgbm8tcmVwZWF0O21hcmdpbi1sZWZ0Oi01cHh9QG1lZGlhIG9ubHkgc2NyZWVuIGFuZCAobWluLXJlc29sdXRpb246MTkyZHBpKXsjbG9nb3tiYWNrZ3JvdW5kOnVybCgvL3d3dy5nb29nbGUuY29tL2ltYWdlcy9sb2dvcy9lcnJvcnBhZ2UvZXJyb3JfbG9nby0xNTB4NTQtMngucG5nKSBuby1yZXBlYXQgMCUgMCUvMTAwJSAxMDAlOy1tb3otYm9yZGVyLWltYWdlOnVybCgvL3d3dy5nb29nbGUuY29tL2ltYWdlcy9sb2dvcy9lcnJvcnBhZ2UvZXJyb3JfbG9nby0xNTB4NTQtMngucG5nKSAwfX1AbWVkaWEgb25seSBzY3JlZW4gYW5kICgtd2Via2l0LW1pbi1kZXZpY2UtcGl4ZWwtcmF0aW86Mil7I2xvZ297YmFja2dyb3VuZDp1cmwoLy93d3cuZ29vZ2xlLmNvbS9pbWFnZXMvbG9nb3MvZXJyb3JwYWdlL2Vycm9yX2xvZ28tMTUweDU0LTJ4LnBuZykgbm8tcmVwZWF0Oy13ZWJraXQtYmFja2dyb3VuZC1zaXplOjEwMCUgMTAwJX19I2xvZ297ZGlzcGxheTppbmxpbmUtYmxvY2s7aGVpZ2h0OjU0cHg7d2lkdGg6MTUwcHh9CiAgPC9zdHlsZT4KICA8YSBocmVmPS8vd3d3Lmdvb2dsZS5jb20vPjxzcGFuIGlkPWxvZ28gYXJpYS1sYWJlbD1Hb29nbGU+PC9zcGFuPjwvYT4KICA8cD48Yj40MDQuPC9iPiA8aW5zPlRoYXTigJlzIGFuIGVycm9yLjwvaW5zPgogIDxwPiAgPGlucz5UaGF04oCZcyBhbGwgd2Uga25vdy48L2lucz4K",
              "headers": [
                [
                  "content-length",
                  "1449"
                ],
                [
                  "content-type",
                  "text/html; charset=utf-8"
                ]
              ],
              "ok": false,
              "status": 404,
              "status_text": ""
            },
            "http://localhost:8080/_static/pygments.css": {
              "data": "CjwhRE9DVFlQRSBodG1sPgo8aHRtbCBsYW5nPWVuPgogIDxtZXRhIGNoYXJzZXQ9dXRmLTg+CiAgPG1ldGEgbmFtZT12aWV3cG9ydCBjb250ZW50PSJpbml0aWFsLXNjYWxlPTEsIG1pbmltdW0tc2NhbGU9MSwgd2lkdGg9ZGV2aWNlLXdpZHRoIj4KICA8dGl0bGU+RXJyb3IgNDA0IChOb3QgRm91bmQpISExPC90aXRsZT4KICA8c3R5bGU+CiAgICAqe21hcmdpbjowO3BhZGRpbmc6MH1odG1sLGNvZGV7Zm9udDoxNXB4LzIycHggYXJpYWwsc2Fucy1zZXJpZn1odG1se2JhY2tncm91bmQ6I2ZmZjtjb2xvcjojMjIyO3BhZGRpbmc6MTVweH1ib2R5e21hcmdpbjo3JSBhdXRvIDA7bWF4LXdpZHRoOjM5MHB4O21pbi1oZWlnaHQ6MTgwcHg7cGFkZGluZzozMHB4IDAgMTVweH0qID4gYm9keXtiYWNrZ3JvdW5kOnVybCgvL3d3dy5nb29nbGUuY29tL2ltYWdlcy9lcnJvcnMvcm9ib3QucG5nKSAxMDAlIDVweCBuby1yZXBlYXQ7cGFkZGluZy1yaWdodDoyMDVweH1we21hcmdpbjoxMXB4IDAgMjJweDtvdmVyZmxvdzpoaWRkZW59aW5ze2NvbG9yOiM3Nzc7dGV4dC1kZWNvcmF0aW9uOm5vbmV9YSBpbWd7Ym9yZGVyOjB9QG1lZGlhIHNjcmVlbiBhbmQgKG1heC13aWR0aDo3NzJweCl7Ym9keXtiYWNrZ3JvdW5kOm5vbmU7bWFyZ2luLXRvcDowO21heC13aWR0aDpub25lO3BhZGRpbmctcmlnaHQ6MH19I2xvZ297YmFja2dyb3VuZDp1cmwoLy93d3cuZ29vZ2xlLmNvbS9pbWFnZXMvbG9nb3MvZXJyb3JwYWdlL2Vycm9yX2xvZ28tMTUweDU0LnBuZykgbm8tcmVwZWF0O21hcmdpbi1sZWZ0Oi01cHh9QG1lZGlhIG9ubHkgc2NyZWVuIGFuZCAobWluLXJlc29sdXRpb246MTkyZHBpKXsjbG9nb3tiYWNrZ3JvdW5kOnVybCgvL3d3dy5nb29nbGUuY29tL2ltYWdlcy9sb2dvcy9lcnJvcnBhZ2UvZXJyb3JfbG9nby0xNTB4NTQtMngucG5nKSBuby1yZXBlYXQgMCUgMCUvMTAwJSAxMDAlOy1tb3otYm9yZGVyLWltYWdlOnVybCgvL3d3dy5nb29nbGUuY29tL2ltYWdlcy9sb2dvcy9lcnJvcnBhZ2UvZXJyb3JfbG9nby0xNTB4NTQtMngucG5nKSAwfX1AbWVkaWEgb25seSBzY3JlZW4gYW5kICgtd2Via2l0LW1pbi1kZXZpY2UtcGl4ZWwtcmF0aW86Mil7I2xvZ297YmFja2dyb3VuZDp1cmwoLy93d3cuZ29vZ2xlLmNvbS9pbWFnZXMvbG9nb3MvZXJyb3JwYWdlL2Vycm9yX2xvZ28tMTUweDU0LTJ4LnBuZykgbm8tcmVwZWF0Oy13ZWJraXQtYmFja2dyb3VuZC1zaXplOjEwMCUgMTAwJX19I2xvZ297ZGlzcGxheTppbmxpbmUtYmxvY2s7aGVpZ2h0OjU0cHg7d2lkdGg6MTUwcHh9CiAgPC9zdHlsZT4KICA8YSBocmVmPS8vd3d3Lmdvb2dsZS5jb20vPjxzcGFuIGlkPWxvZ28gYXJpYS1sYWJlbD1Hb29nbGU+PC9zcGFuPjwvYT4KICA8cD48Yj40MDQuPC9iPiA8aW5zPlRoYXTigJlzIGFuIGVycm9yLjwvaW5zPgogIDxwPiAgPGlucz5UaGF04oCZcyBhbGwgd2Uga25vdy48L2lucz4K",
              "headers": [
                [
                  "content-length",
                  "1449"
                ],
                [
                  "content-type",
                  "text/html; charset=utf-8"
                ]
              ],
              "ok": false,
              "status": 404,
              "status_text": ""
            },
            "http://localhost:8080/_static/sympylogo.png": {
              "data": "CjwhRE9DVFlQRSBodG1sPgo8aHRtbCBsYW5nPWVuPgogIDxtZXRhIGNoYXJzZXQ9dXRmLTg+CiAgPG1ldGEgbmFtZT12aWV3cG9ydCBjb250ZW50PSJpbml0aWFsLXNjYWxlPTEsIG1pbmltdW0tc2NhbGU9MSwgd2lkdGg9ZGV2aWNlLXdpZHRoIj4KICA8dGl0bGU+RXJyb3IgNDA0IChOb3QgRm91bmQpISExPC90aXRsZT4KICA8c3R5bGU+CiAgICAqe21hcmdpbjowO3BhZGRpbmc6MH1odG1sLGNvZGV7Zm9udDoxNXB4LzIycHggYXJpYWwsc2Fucy1zZXJpZn1odG1se2JhY2tncm91bmQ6I2ZmZjtjb2xvcjojMjIyO3BhZGRpbmc6MTVweH1ib2R5e21hcmdpbjo3JSBhdXRvIDA7bWF4LXdpZHRoOjM5MHB4O21pbi1oZWlnaHQ6MTgwcHg7cGFkZGluZzozMHB4IDAgMTVweH0qID4gYm9keXtiYWNrZ3JvdW5kOnVybCgvL3d3dy5nb29nbGUuY29tL2ltYWdlcy9lcnJvcnMvcm9ib3QucG5nKSAxMDAlIDVweCBuby1yZXBlYXQ7cGFkZGluZy1yaWdodDoyMDVweH1we21hcmdpbjoxMXB4IDAgMjJweDtvdmVyZmxvdzpoaWRkZW59aW5ze2NvbG9yOiM3Nzc7dGV4dC1kZWNvcmF0aW9uOm5vbmV9YSBpbWd7Ym9yZGVyOjB9QG1lZGlhIHNjcmVlbiBhbmQgKG1heC13aWR0aDo3NzJweCl7Ym9keXtiYWNrZ3JvdW5kOm5vbmU7bWFyZ2luLXRvcDowO21heC13aWR0aDpub25lO3BhZGRpbmctcmlnaHQ6MH19I2xvZ297YmFja2dyb3VuZDp1cmwoLy93d3cuZ29vZ2xlLmNvbS9pbWFnZXMvbG9nb3MvZXJyb3JwYWdlL2Vycm9yX2xvZ28tMTUweDU0LnBuZykgbm8tcmVwZWF0O21hcmdpbi1sZWZ0Oi01cHh9QG1lZGlhIG9ubHkgc2NyZWVuIGFuZCAobWluLXJlc29sdXRpb246MTkyZHBpKXsjbG9nb3tiYWNrZ3JvdW5kOnVybCgvL3d3dy5nb29nbGUuY29tL2ltYWdlcy9sb2dvcy9lcnJvcnBhZ2UvZXJyb3JfbG9nby0xNTB4NTQtMngucG5nKSBuby1yZXBlYXQgMCUgMCUvMTAwJSAxMDAlOy1tb3otYm9yZGVyLWltYWdlOnVybCgvL3d3dy5nb29nbGUuY29tL2ltYWdlcy9sb2dvcy9lcnJvcnBhZ2UvZXJyb3JfbG9nby0xNTB4NTQtMngucG5nKSAwfX1AbWVkaWEgb25seSBzY3JlZW4gYW5kICgtd2Via2l0LW1pbi1kZXZpY2UtcGl4ZWwtcmF0aW86Mil7I2xvZ297YmFja2dyb3VuZDp1cmwoLy93d3cuZ29vZ2xlLmNvbS9pbWFnZXMvbG9nb3MvZXJyb3JwYWdlL2Vycm9yX2xvZ28tMTUweDU0LTJ4LnBuZykgbm8tcmVwZWF0Oy13ZWJraXQtYmFja2dyb3VuZC1zaXplOjEwMCUgMTAwJX19I2xvZ297ZGlzcGxheTppbmxpbmUtYmxvY2s7aGVpZ2h0OjU0cHg7d2lkdGg6MTUwcHh9CiAgPC9zdHlsZT4KICA8YSBocmVmPS8vd3d3Lmdvb2dsZS5jb20vPjxzcGFuIGlkPWxvZ28gYXJpYS1sYWJlbD1Hb29nbGU+PC9zcGFuPjwvYT4KICA8cD48Yj40MDQuPC9iPiA8aW5zPlRoYXTigJlzIGFuIGVycm9yLjwvaW5zPgogIDxwPiAgPGlucz5UaGF04oCZcyBhbGwgd2Uga25vdy48L2lucz4K",
              "headers": [
                [
                  "content-length",
                  "1449"
                ],
                [
                  "content-type",
                  "text/html; charset=utf-8"
                ]
              ],
              "ok": false,
              "status": 404,
              "status_text": ""
            },
            "http://localhost:8080/_static/styles/furo-extensions.css?digest=30d1aed668e5c3a91c3e3bf6a60b675221979f0e": {
              "data": "CjwhRE9DVFlQRSBodG1sPgo8aHRtbCBsYW5nPWVuPgogIDxtZXRhIGNoYXJzZXQ9dXRmLTg+CiAgPG1ldGEgbmFtZT12aWV3cG9ydCBjb250ZW50PSJpbml0aWFsLXNjYWxlPTEsIG1pbmltdW0tc2NhbGU9MSwgd2lkdGg9ZGV2aWNlLXdpZHRoIj4KICA8dGl0bGU+RXJyb3IgNDA0IChOb3QgRm91bmQpISExPC90aXRsZT4KICA8c3R5bGU+CiAgICAqe21hcmdpbjowO3BhZGRpbmc6MH1odG1sLGNvZGV7Zm9udDoxNXB4LzIycHggYXJpYWwsc2Fucy1zZXJpZn1odG1se2JhY2tncm91bmQ6I2ZmZjtjb2xvcjojMjIyO3BhZGRpbmc6MTVweH1ib2R5e21hcmdpbjo3JSBhdXRvIDA7bWF4LXdpZHRoOjM5MHB4O21pbi1oZWlnaHQ6MTgwcHg7cGFkZGluZzozMHB4IDAgMTVweH0qID4gYm9keXtiYWNrZ3JvdW5kOnVybCgvL3d3dy5nb29nbGUuY29tL2ltYWdlcy9lcnJvcnMvcm9ib3QucG5nKSAxMDAlIDVweCBuby1yZXBlYXQ7cGFkZGluZy1yaWdodDoyMDVweH1we21hcmdpbjoxMXB4IDAgMjJweDtvdmVyZmxvdzpoaWRkZW59aW5ze2NvbG9yOiM3Nzc7dGV4dC1kZWNvcmF0aW9uOm5vbmV9YSBpbWd7Ym9yZGVyOjB9QG1lZGlhIHNjcmVlbiBhbmQgKG1heC13aWR0aDo3NzJweCl7Ym9keXtiYWNrZ3JvdW5kOm5vbmU7bWFyZ2luLXRvcDowO21heC13aWR0aDpub25lO3BhZGRpbmctcmlnaHQ6MH19I2xvZ297YmFja2dyb3VuZDp1cmwoLy93d3cuZ29vZ2xlLmNvbS9pbWFnZXMvbG9nb3MvZXJyb3JwYWdlL2Vycm9yX2xvZ28tMTUweDU0LnBuZykgbm8tcmVwZWF0O21hcmdpbi1sZWZ0Oi01cHh9QG1lZGlhIG9ubHkgc2NyZWVuIGFuZCAobWluLXJlc29sdXRpb246MTkyZHBpKXsjbG9nb3tiYWNrZ3JvdW5kOnVybCgvL3d3dy5nb29nbGUuY29tL2ltYWdlcy9sb2dvcy9lcnJvcnBhZ2UvZXJyb3JfbG9nby0xNTB4NTQtMngucG5nKSBuby1yZXBlYXQgMCUgMCUvMTAwJSAxMDAlOy1tb3otYm9yZGVyLWltYWdlOnVybCgvL3d3dy5nb29nbGUuY29tL2ltYWdlcy9sb2dvcy9lcnJvcnBhZ2UvZXJyb3JfbG9nby0xNTB4NTQtMngucG5nKSAwfX1AbWVkaWEgb25seSBzY3JlZW4gYW5kICgtd2Via2l0LW1pbi1kZXZpY2UtcGl4ZWwtcmF0aW86Mil7I2xvZ297YmFja2dyb3VuZDp1cmwoLy93d3cuZ29vZ2xlLmNvbS9pbWFnZXMvbG9nb3MvZXJyb3JwYWdlL2Vycm9yX2xvZ28tMTUweDU0LTJ4LnBuZykgbm8tcmVwZWF0Oy13ZWJraXQtYmFja2dyb3VuZC1zaXplOjEwMCUgMTAwJX19I2xvZ297ZGlzcGxheTppbmxpbmUtYmxvY2s7aGVpZ2h0OjU0cHg7d2lkdGg6MTUwcHh9CiAgPC9zdHlsZT4KICA8YSBocmVmPS8vd3d3Lmdvb2dsZS5jb20vPjxzcGFuIGlkPWxvZ28gYXJpYS1sYWJlbD1Hb29nbGU+PC9zcGFuPjwvYT4KICA8cD48Yj40MDQuPC9iPiA8aW5zPlRoYXTigJlzIGFuIGVycm9yLjwvaW5zPgogIDxwPiAgPGlucz5UaGF04oCZcyBhbGwgd2Uga25vdy48L2lucz4K",
              "ok": false,
              "headers": [
                [
                  "content-length",
                  "1449"
                ],
                [
                  "content-type",
                  "text/html; charset=utf-8"
                ]
              ],
              "status": 404,
              "status_text": ""
            },
            "http://localhost:8080/_static/styles/furo.css?digest=40978830699223671f4072448e654b5958f38b89": {
              "data": "CjwhRE9DVFlQRSBodG1sPgo8aHRtbCBsYW5nPWVuPgogIDxtZXRhIGNoYXJzZXQ9dXRmLTg+CiAgPG1ldGEgbmFtZT12aWV3cG9ydCBjb250ZW50PSJpbml0aWFsLXNjYWxlPTEsIG1pbmltdW0tc2NhbGU9MSwgd2lkdGg9ZGV2aWNlLXdpZHRoIj4KICA8dGl0bGU+RXJyb3IgNDA0IChOb3QgRm91bmQpISExPC90aXRsZT4KICA8c3R5bGU+CiAgICAqe21hcmdpbjowO3BhZGRpbmc6MH1odG1sLGNvZGV7Zm9udDoxNXB4LzIycHggYXJpYWwsc2Fucy1zZXJpZn1odG1se2JhY2tncm91bmQ6I2ZmZjtjb2xvcjojMjIyO3BhZGRpbmc6MTVweH1ib2R5e21hcmdpbjo3JSBhdXRvIDA7bWF4LXdpZHRoOjM5MHB4O21pbi1oZWlnaHQ6MTgwcHg7cGFkZGluZzozMHB4IDAgMTVweH0qID4gYm9keXtiYWNrZ3JvdW5kOnVybCgvL3d3dy5nb29nbGUuY29tL2ltYWdlcy9lcnJvcnMvcm9ib3QucG5nKSAxMDAlIDVweCBuby1yZXBlYXQ7cGFkZGluZy1yaWdodDoyMDVweH1we21hcmdpbjoxMXB4IDAgMjJweDtvdmVyZmxvdzpoaWRkZW59aW5ze2NvbG9yOiM3Nzc7dGV4dC1kZWNvcmF0aW9uOm5vbmV9YSBpbWd7Ym9yZGVyOjB9QG1lZGlhIHNjcmVlbiBhbmQgKG1heC13aWR0aDo3NzJweCl7Ym9keXtiYWNrZ3JvdW5kOm5vbmU7bWFyZ2luLXRvcDowO21heC13aWR0aDpub25lO3BhZGRpbmctcmlnaHQ6MH19I2xvZ297YmFja2dyb3VuZDp1cmwoLy93d3cuZ29vZ2xlLmNvbS9pbWFnZXMvbG9nb3MvZXJyb3JwYWdlL2Vycm9yX2xvZ28tMTUweDU0LnBuZykgbm8tcmVwZWF0O21hcmdpbi1sZWZ0Oi01cHh9QG1lZGlhIG9ubHkgc2NyZWVuIGFuZCAobWluLXJlc29sdXRpb246MTkyZHBpKXsjbG9nb3tiYWNrZ3JvdW5kOnVybCgvL3d3dy5nb29nbGUuY29tL2ltYWdlcy9sb2dvcy9lcnJvcnBhZ2UvZXJyb3JfbG9nby0xNTB4NTQtMngucG5nKSBuby1yZXBlYXQgMCUgMCUvMTAwJSAxMDAlOy1tb3otYm9yZGVyLWltYWdlOnVybCgvL3d3dy5nb29nbGUuY29tL2ltYWdlcy9sb2dvcy9lcnJvcnBhZ2UvZXJyb3JfbG9nby0xNTB4NTQtMngucG5nKSAwfX1AbWVkaWEgb25seSBzY3JlZW4gYW5kICgtd2Via2l0LW1pbi1kZXZpY2UtcGl4ZWwtcmF0aW86Mil7I2xvZ297YmFja2dyb3VuZDp1cmwoLy93d3cuZ29vZ2xlLmNvbS9pbWFnZXMvbG9nb3MvZXJyb3JwYWdlL2Vycm9yX2xvZ28tMTUweDU0LTJ4LnBuZykgbm8tcmVwZWF0Oy13ZWJraXQtYmFja2dyb3VuZC1zaXplOjEwMCUgMTAwJX19I2xvZ297ZGlzcGxheTppbmxpbmUtYmxvY2s7aGVpZ2h0OjU0cHg7d2lkdGg6MTUwcHh9CiAgPC9zdHlsZT4KICA8YSBocmVmPS8vd3d3Lmdvb2dsZS5jb20vPjxzcGFuIGlkPWxvZ28gYXJpYS1sYWJlbD1Hb29nbGU+PC9zcGFuPjwvYT4KICA8cD48Yj40MDQuPC9iPiA8aW5zPlRoYXTigJlzIGFuIGVycm9yLjwvaW5zPgogIDxwPiAgPGlucz5UaGF04oCZcyBhbGwgd2Uga25vdy48L2lucz4K",
              "ok": false,
              "headers": [
                [
                  "content-length",
                  "1449"
                ],
                [
                  "content-type",
                  "text/html; charset=utf-8"
                ]
              ],
              "status": 404,
              "status_text": ""
            },
            "http://localhost:8080/_static/copybutton.css": {
              "data": "CjwhRE9DVFlQRSBodG1sPgo8aHRtbCBsYW5nPWVuPgogIDxtZXRhIGNoYXJzZXQ9dXRmLTg+CiAgPG1ldGEgbmFtZT12aWV3cG9ydCBjb250ZW50PSJpbml0aWFsLXNjYWxlPTEsIG1pbmltdW0tc2NhbGU9MSwgd2lkdGg9ZGV2aWNlLXdpZHRoIj4KICA8dGl0bGU+RXJyb3IgNDA0IChOb3QgRm91bmQpISExPC90aXRsZT4KICA8c3R5bGU+CiAgICAqe21hcmdpbjowO3BhZGRpbmc6MH1odG1sLGNvZGV7Zm9udDoxNXB4LzIycHggYXJpYWwsc2Fucy1zZXJpZn1odG1se2JhY2tncm91bmQ6I2ZmZjtjb2xvcjojMjIyO3BhZGRpbmc6MTVweH1ib2R5e21hcmdpbjo3JSBhdXRvIDA7bWF4LXdpZHRoOjM5MHB4O21pbi1oZWlnaHQ6MTgwcHg7cGFkZGluZzozMHB4IDAgMTVweH0qID4gYm9keXtiYWNrZ3JvdW5kOnVybCgvL3d3dy5nb29nbGUuY29tL2ltYWdlcy9lcnJvcnMvcm9ib3QucG5nKSAxMDAlIDVweCBuby1yZXBlYXQ7cGFkZGluZy1yaWdodDoyMDVweH1we21hcmdpbjoxMXB4IDAgMjJweDtvdmVyZmxvdzpoaWRkZW59aW5ze2NvbG9yOiM3Nzc7dGV4dC1kZWNvcmF0aW9uOm5vbmV9YSBpbWd7Ym9yZGVyOjB9QG1lZGlhIHNjcmVlbiBhbmQgKG1heC13aWR0aDo3NzJweCl7Ym9keXtiYWNrZ3JvdW5kOm5vbmU7bWFyZ2luLXRvcDowO21heC13aWR0aDpub25lO3BhZGRpbmctcmlnaHQ6MH19I2xvZ297YmFja2dyb3VuZDp1cmwoLy93d3cuZ29vZ2xlLmNvbS9pbWFnZXMvbG9nb3MvZXJyb3JwYWdlL2Vycm9yX2xvZ28tMTUweDU0LnBuZykgbm8tcmVwZWF0O21hcmdpbi1sZWZ0Oi01cHh9QG1lZGlhIG9ubHkgc2NyZWVuIGFuZCAobWluLXJlc29sdXRpb246MTkyZHBpKXsjbG9nb3tiYWNrZ3JvdW5kOnVybCgvL3d3dy5nb29nbGUuY29tL2ltYWdlcy9sb2dvcy9lcnJvcnBhZ2UvZXJyb3JfbG9nby0xNTB4NTQtMngucG5nKSBuby1yZXBlYXQgMCUgMCUvMTAwJSAxMDAlOy1tb3otYm9yZGVyLWltYWdlOnVybCgvL3d3dy5nb29nbGUuY29tL2ltYWdlcy9sb2dvcy9lcnJvcnBhZ2UvZXJyb3JfbG9nby0xNTB4NTQtMngucG5nKSAwfX1AbWVkaWEgb25seSBzY3JlZW4gYW5kICgtd2Via2l0LW1pbi1kZXZpY2UtcGl4ZWwtcmF0aW86Mil7I2xvZ297YmFja2dyb3VuZDp1cmwoLy93d3cuZ29vZ2xlLmNvbS9pbWFnZXMvbG9nb3MvZXJyb3JwYWdlL2Vycm9yX2xvZ28tMTUweDU0LTJ4LnBuZykgbm8tcmVwZWF0Oy13ZWJraXQtYmFja2dyb3VuZC1zaXplOjEwMCUgMTAwJX19I2xvZ297ZGlzcGxheTppbmxpbmUtYmxvY2s7aGVpZ2h0OjU0cHg7d2lkdGg6MTUwcHh9CiAgPC9zdHlsZT4KICA8YSBocmVmPS8vd3d3Lmdvb2dsZS5jb20vPjxzcGFuIGlkPWxvZ28gYXJpYS1sYWJlbD1Hb29nbGU+PC9zcGFuPjwvYT4KICA8cD48Yj40MDQuPC9iPiA8aW5zPlRoYXTigJlzIGFuIGVycm9yLjwvaW5zPgogIDxwPiAgPGlucz5UaGF04oCZcyBhbGwgd2Uga25vdy48L2lucz4K",
              "ok": false,
              "headers": [
                [
                  "content-length",
                  "1449"
                ],
                [
                  "content-type",
                  "text/html; charset=utf-8"
                ]
              ],
              "status": 404,
              "status_text": ""
            },
            "http://localhost:8080/_static/custom.css": {
              "data": "CjwhRE9DVFlQRSBodG1sPgo8aHRtbCBsYW5nPWVuPgogIDxtZXRhIGNoYXJzZXQ9dXRmLTg+CiAgPG1ldGEgbmFtZT12aWV3cG9ydCBjb250ZW50PSJpbml0aWFsLXNjYWxlPTEsIG1pbmltdW0tc2NhbGU9MSwgd2lkdGg9ZGV2aWNlLXdpZHRoIj4KICA8dGl0bGU+RXJyb3IgNDA0IChOb3QgRm91bmQpISExPC90aXRsZT4KICA8c3R5bGU+CiAgICAqe21hcmdpbjowO3BhZGRpbmc6MH1odG1sLGNvZGV7Zm9udDoxNXB4LzIycHggYXJpYWwsc2Fucy1zZXJpZn1odG1se2JhY2tncm91bmQ6I2ZmZjtjb2xvcjojMjIyO3BhZGRpbmc6MTVweH1ib2R5e21hcmdpbjo3JSBhdXRvIDA7bWF4LXdpZHRoOjM5MHB4O21pbi1oZWlnaHQ6MTgwcHg7cGFkZGluZzozMHB4IDAgMTVweH0qID4gYm9keXtiYWNrZ3JvdW5kOnVybCgvL3d3dy5nb29nbGUuY29tL2ltYWdlcy9lcnJvcnMvcm9ib3QucG5nKSAxMDAlIDVweCBuby1yZXBlYXQ7cGFkZGluZy1yaWdodDoyMDVweH1we21hcmdpbjoxMXB4IDAgMjJweDtvdmVyZmxvdzpoaWRkZW59aW5ze2NvbG9yOiM3Nzc7dGV4dC1kZWNvcmF0aW9uOm5vbmV9YSBpbWd7Ym9yZGVyOjB9QG1lZGlhIHNjcmVlbiBhbmQgKG1heC13aWR0aDo3NzJweCl7Ym9keXtiYWNrZ3JvdW5kOm5vbmU7bWFyZ2luLXRvcDowO21heC13aWR0aDpub25lO3BhZGRpbmctcmlnaHQ6MH19I2xvZ297YmFja2dyb3VuZDp1cmwoLy93d3cuZ29vZ2xlLmNvbS9pbWFnZXMvbG9nb3MvZXJyb3JwYWdlL2Vycm9yX2xvZ28tMTUweDU0LnBuZykgbm8tcmVwZWF0O21hcmdpbi1sZWZ0Oi01cHh9QG1lZGlhIG9ubHkgc2NyZWVuIGFuZCAobWluLXJlc29sdXRpb246MTkyZHBpKXsjbG9nb3tiYWNrZ3JvdW5kOnVybCgvL3d3dy5nb29nbGUuY29tL2ltYWdlcy9sb2dvcy9lcnJvcnBhZ2UvZXJyb3JfbG9nby0xNTB4NTQtMngucG5nKSBuby1yZXBlYXQgMCUgMCUvMTAwJSAxMDAlOy1tb3otYm9yZGVyLWltYWdlOnVybCgvL3d3dy5nb29nbGUuY29tL2ltYWdlcy9sb2dvcy9lcnJvcnBhZ2UvZXJyb3JfbG9nby0xNTB4NTQtMngucG5nKSAwfX1AbWVkaWEgb25seSBzY3JlZW4gYW5kICgtd2Via2l0LW1pbi1kZXZpY2UtcGl4ZWwtcmF0aW86Mil7I2xvZ297YmFja2dyb3VuZDp1cmwoLy93d3cuZ29vZ2xlLmNvbS9pbWFnZXMvbG9nb3MvZXJyb3JwYWdlL2Vycm9yX2xvZ28tMTUweDU0LTJ4LnBuZykgbm8tcmVwZWF0Oy13ZWJraXQtYmFja2dyb3VuZC1zaXplOjEwMCUgMTAwJX19I2xvZ297ZGlzcGxheTppbmxpbmUtYmxvY2s7aGVpZ2h0OjU0cHg7d2lkdGg6MTUwcHh9CiAgPC9zdHlsZT4KICA8YSBocmVmPS8vd3d3Lmdvb2dsZS5jb20vPjxzcGFuIGlkPWxvZ28gYXJpYS1sYWJlbD1Hb29nbGU+PC9zcGFuPjwvYT4KICA8cD48Yj40MDQuPC9iPiA8aW5zPlRoYXTigJlzIGFuIGVycm9yLjwvaW5zPgogIDxwPiAgPGlucz5UaGF04oCZcyBhbGwgd2Uga25vdy48L2lucz4K",
              "ok": false,
              "headers": [
                [
                  "content-length",
                  "1449"
                ],
                [
                  "content-type",
                  "text/html; charset=utf-8"
                ]
              ],
              "status": 404,
              "status_text": ""
            },
            "http://localhost:8080/_static/plot_directive.css": {
              "data": "CjwhRE9DVFlQRSBodG1sPgo8aHRtbCBsYW5nPWVuPgogIDxtZXRhIGNoYXJzZXQ9dXRmLTg+CiAgPG1ldGEgbmFtZT12aWV3cG9ydCBjb250ZW50PSJpbml0aWFsLXNjYWxlPTEsIG1pbmltdW0tc2NhbGU9MSwgd2lkdGg9ZGV2aWNlLXdpZHRoIj4KICA8dGl0bGU+RXJyb3IgNDA0IChOb3QgRm91bmQpISExPC90aXRsZT4KICA8c3R5bGU+CiAgICAqe21hcmdpbjowO3BhZGRpbmc6MH1odG1sLGNvZGV7Zm9udDoxNXB4LzIycHggYXJpYWwsc2Fucy1zZXJpZn1odG1se2JhY2tncm91bmQ6I2ZmZjtjb2xvcjojMjIyO3BhZGRpbmc6MTVweH1ib2R5e21hcmdpbjo3JSBhdXRvIDA7bWF4LXdpZHRoOjM5MHB4O21pbi1oZWlnaHQ6MTgwcHg7cGFkZGluZzozMHB4IDAgMTVweH0qID4gYm9keXtiYWNrZ3JvdW5kOnVybCgvL3d3dy5nb29nbGUuY29tL2ltYWdlcy9lcnJvcnMvcm9ib3QucG5nKSAxMDAlIDVweCBuby1yZXBlYXQ7cGFkZGluZy1yaWdodDoyMDVweH1we21hcmdpbjoxMXB4IDAgMjJweDtvdmVyZmxvdzpoaWRkZW59aW5ze2NvbG9yOiM3Nzc7dGV4dC1kZWNvcmF0aW9uOm5vbmV9YSBpbWd7Ym9yZGVyOjB9QG1lZGlhIHNjcmVlbiBhbmQgKG1heC13aWR0aDo3NzJweCl7Ym9keXtiYWNrZ3JvdW5kOm5vbmU7bWFyZ2luLXRvcDowO21heC13aWR0aDpub25lO3BhZGRpbmctcmlnaHQ6MH19I2xvZ297YmFja2dyb3VuZDp1cmwoLy93d3cuZ29vZ2xlLmNvbS9pbWFnZXMvbG9nb3MvZXJyb3JwYWdlL2Vycm9yX2xvZ28tMTUweDU0LnBuZykgbm8tcmVwZWF0O21hcmdpbi1sZWZ0Oi01cHh9QG1lZGlhIG9ubHkgc2NyZWVuIGFuZCAobWluLXJlc29sdXRpb246MTkyZHBpKXsjbG9nb3tiYWNrZ3JvdW5kOnVybCgvL3d3dy5nb29nbGUuY29tL2ltYWdlcy9sb2dvcy9lcnJvcnBhZ2UvZXJyb3JfbG9nby0xNTB4NTQtMngucG5nKSBuby1yZXBlYXQgMCUgMCUvMTAwJSAxMDAlOy1tb3otYm9yZGVyLWltYWdlOnVybCgvL3d3dy5nb29nbGUuY29tL2ltYWdlcy9sb2dvcy9lcnJvcnBhZ2UvZXJyb3JfbG9nby0xNTB4NTQtMngucG5nKSAwfX1AbWVkaWEgb25seSBzY3JlZW4gYW5kICgtd2Via2l0LW1pbi1kZXZpY2UtcGl4ZWwtcmF0aW86Mil7I2xvZ297YmFja2dyb3VuZDp1cmwoLy93d3cuZ29vZ2xlLmNvbS9pbWFnZXMvbG9nb3MvZXJyb3JwYWdlL2Vycm9yX2xvZ28tMTUweDU0LTJ4LnBuZykgbm8tcmVwZWF0Oy13ZWJraXQtYmFja2dyb3VuZC1zaXplOjEwMCUgMTAwJX19I2xvZ297ZGlzcGxheTppbmxpbmUtYmxvY2s7aGVpZ2h0OjU0cHg7d2lkdGg6MTUwcHh9CiAgPC9zdHlsZT4KICA8YSBocmVmPS8vd3d3Lmdvb2dsZS5jb20vPjxzcGFuIGlkPWxvZ28gYXJpYS1sYWJlbD1Hb29nbGU+PC9zcGFuPjwvYT4KICA8cD48Yj40MDQuPC9iPiA8aW5zPlRoYXTigJlzIGFuIGVycm9yLjwvaW5zPgogIDxwPiAgPGlucz5UaGF04oCZcyBhbGwgd2Uga25vdy48L2lucz4K",
              "ok": false,
              "headers": [
                [
                  "content-length",
                  "1449"
                ],
                [
                  "content-type",
                  "text/html; charset=utf-8"
                ]
              ],
              "status": 404,
              "status_text": ""
            },
            "http://localhost:8080/_static/jquery.js": {
              "data": "CjwhRE9DVFlQRSBodG1sPgo8aHRtbCBsYW5nPWVuPgogIDxtZXRhIGNoYXJzZXQ9dXRmLTg+CiAgPG1ldGEgbmFtZT12aWV3cG9ydCBjb250ZW50PSJpbml0aWFsLXNjYWxlPTEsIG1pbmltdW0tc2NhbGU9MSwgd2lkdGg9ZGV2aWNlLXdpZHRoIj4KICA8dGl0bGU+RXJyb3IgNDA0IChOb3QgRm91bmQpISExPC90aXRsZT4KICA8c3R5bGU+CiAgICAqe21hcmdpbjowO3BhZGRpbmc6MH1odG1sLGNvZGV7Zm9udDoxNXB4LzIycHggYXJpYWwsc2Fucy1zZXJpZn1odG1se2JhY2tncm91bmQ6I2ZmZjtjb2xvcjojMjIyO3BhZGRpbmc6MTVweH1ib2R5e21hcmdpbjo3JSBhdXRvIDA7bWF4LXdpZHRoOjM5MHB4O21pbi1oZWlnaHQ6MTgwcHg7cGFkZGluZzozMHB4IDAgMTVweH0qID4gYm9keXtiYWNrZ3JvdW5kOnVybCgvL3d3dy5nb29nbGUuY29tL2ltYWdlcy9lcnJvcnMvcm9ib3QucG5nKSAxMDAlIDVweCBuby1yZXBlYXQ7cGFkZGluZy1yaWdodDoyMDVweH1we21hcmdpbjoxMXB4IDAgMjJweDtvdmVyZmxvdzpoaWRkZW59aW5ze2NvbG9yOiM3Nzc7dGV4dC1kZWNvcmF0aW9uOm5vbmV9YSBpbWd7Ym9yZGVyOjB9QG1lZGlhIHNjcmVlbiBhbmQgKG1heC13aWR0aDo3NzJweCl7Ym9keXtiYWNrZ3JvdW5kOm5vbmU7bWFyZ2luLXRvcDowO21heC13aWR0aDpub25lO3BhZGRpbmctcmlnaHQ6MH19I2xvZ297YmFja2dyb3VuZDp1cmwoLy93d3cuZ29vZ2xlLmNvbS9pbWFnZXMvbG9nb3MvZXJyb3JwYWdlL2Vycm9yX2xvZ28tMTUweDU0LnBuZykgbm8tcmVwZWF0O21hcmdpbi1sZWZ0Oi01cHh9QG1lZGlhIG9ubHkgc2NyZWVuIGFuZCAobWluLXJlc29sdXRpb246MTkyZHBpKXsjbG9nb3tiYWNrZ3JvdW5kOnVybCgvL3d3dy5nb29nbGUuY29tL2ltYWdlcy9sb2dvcy9lcnJvcnBhZ2UvZXJyb3JfbG9nby0xNTB4NTQtMngucG5nKSBuby1yZXBlYXQgMCUgMCUvMTAwJSAxMDAlOy1tb3otYm9yZGVyLWltYWdlOnVybCgvL3d3dy5nb29nbGUuY29tL2ltYWdlcy9sb2dvcy9lcnJvcnBhZ2UvZXJyb3JfbG9nby0xNTB4NTQtMngucG5nKSAwfX1AbWVkaWEgb25seSBzY3JlZW4gYW5kICgtd2Via2l0LW1pbi1kZXZpY2UtcGl4ZWwtcmF0aW86Mil7I2xvZ297YmFja2dyb3VuZDp1cmwoLy93d3cuZ29vZ2xlLmNvbS9pbWFnZXMvbG9nb3MvZXJyb3JwYWdlL2Vycm9yX2xvZ28tMTUweDU0LTJ4LnBuZykgbm8tcmVwZWF0Oy13ZWJraXQtYmFja2dyb3VuZC1zaXplOjEwMCUgMTAwJX19I2xvZ297ZGlzcGxheTppbmxpbmUtYmxvY2s7aGVpZ2h0OjU0cHg7d2lkdGg6MTUwcHh9CiAgPC9zdHlsZT4KICA8YSBocmVmPS8vd3d3Lmdvb2dsZS5jb20vPjxzcGFuIGlkPWxvZ28gYXJpYS1sYWJlbD1Hb29nbGU+PC9zcGFuPjwvYT4KICA8cD48Yj40MDQuPC9iPiA8aW5zPlRoYXTigJlzIGFuIGVycm9yLjwvaW5zPgogIDxwPiAgPGlucz5UaGF04oCZcyBhbGwgd2Uga25vdy48L2lucz4K",
              "ok": false,
              "headers": [
                [
                  "content-length",
                  "1449"
                ],
                [
                  "content-type",
                  "text/html; charset=utf-8"
                ]
              ],
              "status": 404,
              "status_text": ""
            }
          }
        },
        "id": "Mj8l2dPo-Xh-",
        "outputId": "3b51fd72-cda2-48f2-8d2f-ab7c6c42332b"
      },
      "outputs": [
        {
          "output_type": "execute_result",
          "data": {
            "text/plain": [
              "<IPython.core.display.HTML object>"
            ],
            "text/html": [
              "<!doctype html>\r\n",
              "<html class=\"no-js\" lang=\"en\">\r\n",
              "  <head><meta charset=\"utf-8\"/>\r\n",
              "    <meta name=\"viewport\" content=\"width=device-width,initial-scale=1\"/>\r\n",
              "    <meta name=\"color-scheme\" content=\"light dark\"><meta name=\"generator\" content=\"Docutils 0.18.1: http://docutils.sourceforge.net/\" />\r\n",
              "<link rel=\"index\" title=\"Index\" href=\"genindex.html\" /><link rel=\"search\" title=\"Search\" href=\"search.html\" /><link rel=\"next\" title=\"Installation\" href=\"install.html\" />\r\n",
              "        <link rel=\"canonical\" href=\"https://docs.sympy.org/latest/index.html\" />\r\n",
              "\r\n",
              "    <link rel=\"shortcut icon\" href=\"_static/sympy-notailtext-favicon.ico\"/><meta name=\"generator\" content=\"sphinx-5.1.1, furo 2022.06.21\"/>\r\n",
              "        <title>SymPy 1.11 documentation</title>\r\n",
              "      <link rel=\"stylesheet\" type=\"text/css\" href=\"_static/pygments.css\" />\r\n",
              "    <link rel=\"stylesheet\" type=\"text/css\" href=\"_static/styles/furo.css?digest=40978830699223671f4072448e654b5958f38b89\" />\r\n",
              "    <link rel=\"stylesheet\" type=\"text/css\" href=\"_static/copybutton.css\" />\r\n",
              "    <link rel=\"stylesheet\" type=\"text/css\" href=\"_static/graphviz.css\" />\r\n",
              "    <link rel=\"stylesheet\" type=\"text/css\" href=\"_static/plot_directive.css\" />\r\n",
              "    <link rel=\"stylesheet\" type=\"text/css\" href=\"_static/styles/furo-extensions.css?digest=30d1aed668e5c3a91c3e3bf6a60b675221979f0e\" />\r\n",
              "    <link rel=\"stylesheet\" type=\"text/css\" href=\"_static/custom.css\" />\r\n",
              "    \r\n",
              "    \r\n",
              "\r\n",
              "\r\n",
              "<style>\r\n",
              "  body {\r\n",
              "    --color-code-background: #eeffcc;\r\n",
              "  --color-code-foreground: black;\r\n",
              "  --color-brand-primary: #52833A;\r\n",
              "  --color-brand-content: #307748;\r\n",
              "  --color-sidebar-background: #3B5526;\r\n",
              "  --color-sidebar-background-border: var(--color-background-primary);\r\n",
              "  --color-sidebar-link-text: #FFFFFF;\r\n",
              "  --color-sidebar-brand-text: var(--color-sidebar-link-text--top-level);\r\n",
              "  --color-sidebar-link-text--top-level: #FFFFFF;\r\n",
              "  --color-sidebar-item-background--hover: var(--color-brand-primary);\r\n",
              "  --color-sidebar-item-expander-background--hover: var(--color-brand-primary);\r\n",
              "  --color-link-underline--hover: var(--color-link);\r\n",
              "  --color-api-keyword: #000000bd;\r\n",
              "  --color-api-name: var(--color-brand-content);\r\n",
              "  --color-api-pre-name: var(--color-brand-content);\r\n",
              "  --api-font-size: var(--font-size--normal);\r\n",
              "  --color-foreground-secondary: #53555B;\r\n",
              "  --color-admonition-title-background--seealso: #CCCCCC;\r\n",
              "  --color-admonition-title--seealso: black;\r\n",
              "  --color-admonition-title-background--note: #CCCCCC;\r\n",
              "  --color-admonition-title--note: black;\r\n",
              "  --color-admonition-title-background--warning: var(--color-problematic);\r\n",
              "  --color-admonition-title--warning: white;\r\n",
              "  --admonition-font-size: var(--font-size--normal);\r\n",
              "  --admonition-title-font-size: var(--font-size--normal);\r\n",
              "  --color-code-background: hsl(80deg 100% 95%);\r\n",
              "  --code-font-size: var(--font-size--small);\r\n",
              "  --font-stack--monospace: DejaVu Sans Mono,\"SFMono-Regular\",Menlo,Consolas,Monaco,Liberation Mono,Lucida Console,monospace;;\r\n",
              "  \r\n",
              "  }\r\n",
              "  @media not print {\r\n",
              "    body[data-theme=\"dark\"] {\r\n",
              "      --color-code-background: #202020;\r\n",
              "  --color-code-foreground: #d0d0d0;\r\n",
              "  --color-brand-primary: #33CB33;\r\n",
              "  --color-brand-content: #1DBD1D;\r\n",
              "  --color-sidebar-background: #3B5526;\r\n",
              "  --color-sidebar-background-border: var(--color-background-primary);\r\n",
              "  --color-sidebar-link-text: #FFFFFF;\r\n",
              "  --color-sidebar-brand-text: var(--color-sidebar-link-text--top-level);\r\n",
              "  --color-sidebar-link-text--top-level: #FFFFFF;\r\n",
              "  --color-sidebar-item-background--hover: #52833A;\r\n",
              "  --color-sidebar-item-expander-background--hover: #52833A;\r\n",
              "  --color-link-underline--hover: var(--color-link);\r\n",
              "  --color-api-keyword: #FFFFFFbd;\r\n",
              "  --color-api-name: var(--color-brand-content);\r\n",
              "  --color-api-pre-name: var(--color-brand-content);\r\n",
              "  --api-font-size: var(--font-size--normal);\r\n",
              "  --color-foreground-secondary: #9DA1AC;\r\n",
              "  --color-admonition-title-background--seealso: #555555;\r\n",
              "  --color-admonition-title--seealso: black;\r\n",
              "  --color-admonition-title-background--note: #555555;\r\n",
              "  --color-admonition-title--note: black;\r\n",
              "  --color-admonition-title-background--warning: var(--color-problematic);\r\n",
              "  --color-admonition-title--warning: white;\r\n",
              "  --admonition-font-size: var(--font-size--normal);\r\n",
              "  --admonition-title-font-size: var(--font-size--normal);\r\n",
              "  --color-code-background: hsl(80deg 100% 95%);\r\n",
              "  --code-font-size: var(--font-size--small);\r\n",
              "  --font-stack--monospace: DejaVu Sans Mono,\"SFMono-Regular\",Menlo,Consolas,Monaco,Liberation Mono,Lucida Console,monospace;;\r\n",
              "  --color-api-overall: #FFFFFF90;\r\n",
              "  --color-api-paren: #FFFFFF90;\r\n",
              "  --color-problematic: #B30000;\r\n",
              "  \r\n",
              "    }\r\n",
              "    @media (prefers-color-scheme: dark) {\r\n",
              "      body:not([data-theme=\"light\"]) {\r\n",
              "        --color-code-background: #202020;\r\n",
              "  --color-code-foreground: #d0d0d0;\r\n",
              "  --color-brand-primary: #33CB33;\r\n",
              "  --color-brand-content: #1DBD1D;\r\n",
              "  --color-sidebar-background: #3B5526;\r\n",
              "  --color-sidebar-background-border: var(--color-background-primary);\r\n",
              "  --color-sidebar-link-text: #FFFFFF;\r\n",
              "  --color-sidebar-brand-text: var(--color-sidebar-link-text--top-level);\r\n",
              "  --color-sidebar-link-text--top-level: #FFFFFF;\r\n",
              "  --color-sidebar-item-background--hover: #52833A;\r\n",
              "  --color-sidebar-item-expander-background--hover: #52833A;\r\n",
              "  --color-link-underline--hover: var(--color-link);\r\n",
              "  --color-api-keyword: #FFFFFFbd;\r\n",
              "  --color-api-name: var(--color-brand-content);\r\n",
              "  --color-api-pre-name: var(--color-brand-content);\r\n",
              "  --api-font-size: var(--font-size--normal);\r\n",
              "  --color-foreground-secondary: #9DA1AC;\r\n",
              "  --color-admonition-title-background--seealso: #555555;\r\n",
              "  --color-admonition-title--seealso: black;\r\n",
              "  --color-admonition-title-background--note: #555555;\r\n",
              "  --color-admonition-title--note: black;\r\n",
              "  --color-admonition-title-background--warning: var(--color-problematic);\r\n",
              "  --color-admonition-title--warning: white;\r\n",
              "  --admonition-font-size: var(--font-size--normal);\r\n",
              "  --admonition-title-font-size: var(--font-size--normal);\r\n",
              "  --color-code-background: hsl(80deg 100% 95%);\r\n",
              "  --code-font-size: var(--font-size--small);\r\n",
              "  --font-stack--monospace: DejaVu Sans Mono,\"SFMono-Regular\",Menlo,Consolas,Monaco,Liberation Mono,Lucida Console,monospace;;\r\n",
              "  --color-api-overall: #FFFFFF90;\r\n",
              "  --color-api-paren: #FFFFFF90;\r\n",
              "  --color-problematic: #B30000;\r\n",
              "  \r\n",
              "      }\r\n",
              "    }\r\n",
              "  }\r\n",
              "</style></head>\r\n",
              "  <body>\r\n",
              "    \r\n",
              "    <script>\r\n",
              "      document.body.dataset.theme = localStorage.getItem(\"theme\") || \"auto\";\r\n",
              "    </script>\r\n",
              "    \r\n",
              "\r\n",
              "<svg xmlns=\"http://www.w3.org/2000/svg\" style=\"display: none;\">\r\n",
              "  <symbol id=\"svg-toc\" viewBox=\"0 0 24 24\">\r\n",
              "    <title>Contents</title>\r\n",
              "    <svg stroke=\"currentColor\" fill=\"currentColor\" stroke-width=\"0\" viewBox=\"0 0 1024 1024\">\r\n",
              "      <path d=\"M408 442h480c4.4 0 8-3.6 8-8v-56c0-4.4-3.6-8-8-8H408c-4.4 0-8 3.6-8 8v56c0 4.4 3.6 8 8 8zm-8 204c0 4.4 3.6 8 8 8h480c4.4 0 8-3.6 8-8v-56c0-4.4-3.6-8-8-8H408c-4.4 0-8 3.6-8 8v56zm504-486H120c-4.4 0-8 3.6-8 8v56c0 4.4 3.6 8 8 8h784c4.4 0 8-3.6 8-8v-56c0-4.4-3.6-8-8-8zm0 632H120c-4.4 0-8 3.6-8 8v56c0 4.4 3.6 8 8 8h784c4.4 0 8-3.6 8-8v-56c0-4.4-3.6-8-8-8zM115.4 518.9L271.7 642c5.8 4.6 14.4.5 14.4-6.9V388.9c0-7.4-8.5-11.5-14.4-6.9L115.4 505.1a8.74 8.74 0 0 0 0 13.8z\"/>\r\n",
              "    </svg>\r\n",
              "  </symbol>\r\n",
              "  <symbol id=\"svg-menu\" viewBox=\"0 0 24 24\">\r\n",
              "    <title>Menu</title>\r\n",
              "    <svg xmlns=\"http://www.w3.org/2000/svg\" viewBox=\"0 0 24 24\" fill=\"none\" stroke=\"currentColor\"\r\n",
              "      stroke-width=\"2\" stroke-linecap=\"round\" stroke-linejoin=\"round\" class=\"feather-menu\">\r\n",
              "      <line x1=\"3\" y1=\"12\" x2=\"21\" y2=\"12\"></line>\r\n",
              "      <line x1=\"3\" y1=\"6\" x2=\"21\" y2=\"6\"></line>\r\n",
              "      <line x1=\"3\" y1=\"18\" x2=\"21\" y2=\"18\"></line>\r\n",
              "    </svg>\r\n",
              "  </symbol>\r\n",
              "  <symbol id=\"svg-arrow-right\" viewBox=\"0 0 24 24\">\r\n",
              "    <title>Expand</title>\r\n",
              "    <svg xmlns=\"http://www.w3.org/2000/svg\" viewBox=\"0 0 24 24\" fill=\"none\" stroke=\"currentColor\"\r\n",
              "      stroke-width=\"2\" stroke-linecap=\"round\" stroke-linejoin=\"round\" class=\"feather-chevron-right\">\r\n",
              "      <polyline points=\"9 18 15 12 9 6\"></polyline>\r\n",
              "    </svg>\r\n",
              "  </symbol>\r\n",
              "  <symbol id=\"svg-sun\" viewBox=\"0 0 24 24\">\r\n",
              "    <title>Light mode</title>\r\n",
              "    <svg xmlns=\"http://www.w3.org/2000/svg\" viewBox=\"0 0 24 24\" fill=\"none\" stroke=\"currentColor\"\r\n",
              "      stroke-width=\"1.5\" stroke-linecap=\"round\" stroke-linejoin=\"round\" class=\"feather-sun\">\r\n",
              "      <circle cx=\"12\" cy=\"12\" r=\"5\"></circle>\r\n",
              "      <line x1=\"12\" y1=\"1\" x2=\"12\" y2=\"3\"></line>\r\n",
              "      <line x1=\"12\" y1=\"21\" x2=\"12\" y2=\"23\"></line>\r\n",
              "      <line x1=\"4.22\" y1=\"4.22\" x2=\"5.64\" y2=\"5.64\"></line>\r\n",
              "      <line x1=\"18.36\" y1=\"18.36\" x2=\"19.78\" y2=\"19.78\"></line>\r\n",
              "      <line x1=\"1\" y1=\"12\" x2=\"3\" y2=\"12\"></line>\r\n",
              "      <line x1=\"21\" y1=\"12\" x2=\"23\" y2=\"12\"></line>\r\n",
              "      <line x1=\"4.22\" y1=\"19.78\" x2=\"5.64\" y2=\"18.36\"></line>\r\n",
              "      <line x1=\"18.36\" y1=\"5.64\" x2=\"19.78\" y2=\"4.22\"></line>\r\n",
              "    </svg>\r\n",
              "  </symbol>\r\n",
              "  <symbol id=\"svg-moon\" viewBox=\"0 0 24 24\">\r\n",
              "    <title>Dark mode</title>\r\n",
              "    <svg xmlns=\"http://www.w3.org/2000/svg\" viewBox=\"0 0 24 24\" fill=\"none\" stroke=\"currentColor\"\r\n",
              "      stroke-width=\"1.5\" stroke-linecap=\"round\" stroke-linejoin=\"round\" class=\"icon-tabler-moon\">\r\n",
              "      <path stroke=\"none\" d=\"M0 0h24v24H0z\" fill=\"none\" />\r\n",
              "      <path d=\"M12 3c.132 0 .263 0 .393 0a7.5 7.5 0 0 0 7.92 12.446a9 9 0 1 1 -8.313 -12.454z\" />\r\n",
              "    </svg>\r\n",
              "  </symbol>\r\n",
              "  <symbol id=\"svg-sun-half\" viewBox=\"0 0 24 24\">\r\n",
              "    <title>Auto light/dark mode</title>\r\n",
              "    <svg xmlns=\"http://www.w3.org/2000/svg\" viewBox=\"0 0 24 24\" fill=\"none\" stroke=\"currentColor\"\r\n",
              "      stroke-width=\"1.5\" stroke-linecap=\"round\" stroke-linejoin=\"round\" class=\"icon-tabler-shadow\">\r\n",
              "      <path stroke=\"none\" d=\"M0 0h24v24H0z\" fill=\"none\"/>\r\n",
              "      <circle cx=\"12\" cy=\"12\" r=\"9\" />\r\n",
              "      <path d=\"M13 12h5\" />\r\n",
              "      <path d=\"M13 15h4\" />\r\n",
              "      <path d=\"M13 18h1\" />\r\n",
              "      <path d=\"M13 9h4\" />\r\n",
              "      <path d=\"M13 6h1\" />\r\n",
              "    </svg>\r\n",
              "  </symbol>\r\n",
              "</svg>\r\n",
              "\r\n",
              "<input type=\"checkbox\" class=\"sidebar-toggle\" name=\"__navigation\" id=\"__navigation\">\r\n",
              "<input type=\"checkbox\" class=\"sidebar-toggle\" name=\"__toc\" id=\"__toc\">\r\n",
              "<label class=\"overlay sidebar-overlay\" for=\"__navigation\">\r\n",
              "  <div class=\"visually-hidden\">Hide navigation sidebar</div>\r\n",
              "</label>\r\n",
              "<label class=\"overlay toc-overlay\" for=\"__toc\">\r\n",
              "  <div class=\"visually-hidden\">Hide table of contents sidebar</div>\r\n",
              "</label>\r\n",
              "\r\n",
              "\r\n",
              "\r\n",
              "<div class=\"page\">\r\n",
              "  <header class=\"mobile-header\">\r\n",
              "    <div class=\"header-left\">\r\n",
              "      <label class=\"nav-overlay-icon\" for=\"__navigation\">\r\n",
              "        <div class=\"visually-hidden\">Toggle site navigation sidebar</div>\r\n",
              "        <i class=\"icon\"><svg><use href=\"#svg-menu\"></use></svg></i>\r\n",
              "      </label>\r\n",
              "    </div>\r\n",
              "    <div class=\"header-center\">\r\n",
              "      <a href=\"#\"><div class=\"brand\">SymPy 1.11 documentation</div></a>\r\n",
              "    </div>\r\n",
              "    <div class=\"header-right\">\r\n",
              "      <div class=\"theme-toggle-container theme-toggle-header\">\r\n",
              "        <button class=\"theme-toggle\">\r\n",
              "          <div class=\"visually-hidden\">Toggle Light / Dark / Auto color theme</div>\r\n",
              "          <svg class=\"theme-icon-when-auto\"><use href=\"#svg-sun-half\"></use></svg>\r\n",
              "          <svg class=\"theme-icon-when-dark\"><use href=\"#svg-moon\"></use></svg>\r\n",
              "          <svg class=\"theme-icon-when-light\"><use href=\"#svg-sun\"></use></svg>\r\n",
              "        </button>\r\n",
              "      </div>\r\n",
              "      <label class=\"toc-overlay-icon toc-header-icon no-toc\" for=\"__toc\">\r\n",
              "        <div class=\"visually-hidden\">Toggle table of contents sidebar</div>\r\n",
              "        <i class=\"icon\"><svg><use href=\"#svg-toc\"></use></svg></i>\r\n",
              "      </label>\r\n",
              "    </div>\r\n",
              "  </header>\r\n",
              "  <aside class=\"sidebar-drawer\">\r\n",
              "    <div class=\"sidebar-container\">\r\n",
              "      \r\n",
              "      <div class=\"sidebar-sticky\"><div class=\"sidebar-scroll\"><a class=\"sidebar-brand centered\" href=\"#\">\r\n",
              "  \r\n",
              "  <div class=\"sidebar-logo-container\">\r\n",
              "    <img class=\"sidebar-logo\" src=\"_static/sympylogo.png\" alt=\"Logo\"/>\r\n",
              "  </div>\r\n",
              "  \r\n",
              "  <span class=\"sidebar-brand-text\">SymPy 1.11 documentation</span>\r\n",
              "  \r\n",
              "</a><form class=\"sidebar-search-container\" method=\"get\" action=\"search.html\" role=\"search\">\r\n",
              "  <input class=\"sidebar-search\" placeholder=Search name=\"q\" aria-label=\"Search\">\r\n",
              "  <input type=\"hidden\" name=\"check_keywords\" value=\"yes\">\r\n",
              "  <input type=\"hidden\" name=\"area\" value=\"default\">\r\n",
              "</form>\r\n",
              "<div id=\"searchbox\"></div><div class=\"sidebar-tree\">\r\n",
              "  <ul>\r\n",
              "<li class=\"toctree-l1\"><a class=\"reference internal\" href=\"install.html\">Installation</a></li>\r\n",
              "<li class=\"toctree-l1 has-children\"><a class=\"reference internal\" href=\"tutorials/index.html\">Tutorials</a><input class=\"toctree-checkbox\" id=\"toctree-checkbox-1\" name=\"toctree-checkbox-1\" role=\"switch\" type=\"checkbox\"/><label for=\"toctree-checkbox-1\"><div class=\"visually-hidden\">Toggle child pages in navigation</div><i class=\"icon\"><svg><use href=\"#svg-arrow-right\"></use></svg></i></label><ul>\r\n",
              "<li class=\"toctree-l2 has-children\"><a class=\"reference internal\" href=\"tutorials/intro-tutorial/index.html\">Introductory Tutorial</a><input class=\"toctree-checkbox\" id=\"toctree-checkbox-2\" name=\"toctree-checkbox-2\" role=\"switch\" type=\"checkbox\"/><label for=\"toctree-checkbox-2\"><div class=\"visually-hidden\">Toggle child pages in navigation</div><i class=\"icon\"><svg><use href=\"#svg-arrow-right\"></use></svg></i></label><ul>\r\n",
              "<li class=\"toctree-l3\"><a class=\"reference internal\" href=\"tutorials/intro-tutorial/preliminaries.html\">Preliminaries</a></li>\r\n",
              "<li class=\"toctree-l3\"><a class=\"reference internal\" href=\"tutorials/intro-tutorial/intro.html\">Introduction</a></li>\r\n",
              "<li class=\"toctree-l3\"><a class=\"reference internal\" href=\"tutorials/intro-tutorial/gotchas.html\">Gotchas</a></li>\r\n",
              "<li class=\"toctree-l3 has-children\"><a class=\"reference internal\" href=\"tutorials/intro-tutorial/features.html\">SymPy Features</a><input class=\"toctree-checkbox\" id=\"toctree-checkbox-3\" name=\"toctree-checkbox-3\" role=\"switch\" type=\"checkbox\"/><label for=\"toctree-checkbox-3\"><div class=\"visually-hidden\">Toggle child pages in navigation</div><i class=\"icon\"><svg><use href=\"#svg-arrow-right\"></use></svg></i></label><ul>\r\n",
              "<li class=\"toctree-l4\"><a class=\"reference internal\" href=\"tutorials/intro-tutorial/basic_operations.html\">Basic Operations</a></li>\r\n",
              "<li class=\"toctree-l4\"><a class=\"reference internal\" href=\"tutorials/intro-tutorial/printing.html\">Printing</a></li>\r\n",
              "<li class=\"toctree-l4\"><a class=\"reference internal\" href=\"tutorials/intro-tutorial/simplification.html\">Simplification</a></li>\r\n",
              "<li class=\"toctree-l4\"><a class=\"reference internal\" href=\"tutorials/intro-tutorial/calculus.html\">Calculus</a></li>\r\n",
              "<li class=\"toctree-l4\"><a class=\"reference internal\" href=\"tutorials/intro-tutorial/solvers.html\">Solvers</a></li>\r\n",
              "<li class=\"toctree-l4\"><a class=\"reference internal\" href=\"tutorials/intro-tutorial/matrices.html\">Matrices</a></li>\r\n",
              "<li class=\"toctree-l4\"><a class=\"reference internal\" href=\"tutorials/intro-tutorial/manipulation.html\">Advanced Expression Manipulation</a></li>\r\n",
              "</ul>\r\n",
              "</li>\r\n",
              "<li class=\"toctree-l3\"><a class=\"reference internal\" href=\"tutorials/intro-tutorial/next.html\">What’s Next</a></li>\r\n",
              "</ul>\r\n",
              "</li>\r\n",
              "</ul>\r\n",
              "</li>\r\n",
              "<li class=\"toctree-l1 has-children\"><a class=\"reference internal\" href=\"guides/index.html\">How-to Guides</a><input class=\"toctree-checkbox\" id=\"toctree-checkbox-4\" name=\"toctree-checkbox-4\" role=\"switch\" type=\"checkbox\"/><label for=\"toctree-checkbox-4\"><div class=\"visually-hidden\">Toggle child pages in navigation</div><i class=\"icon\"><svg><use href=\"#svg-arrow-right\"></use></svg></i></label><ul>\r\n",
              "<li class=\"toctree-l2\"><a class=\"reference internal\" href=\"guides/assumptions.html\">Assumptions</a></li>\r\n",
              "<li class=\"toctree-l2\"><a class=\"reference internal\" href=\"guides/booleans.html\">Symbolic and fuzzy booleans</a></li>\r\n",
              "<li class=\"toctree-l2\"><a class=\"reference internal\" href=\"guides/custom-functions.html\">Writing Custom Functions</a></li>\r\n",
              "<li class=\"toctree-l2 has-children\"><a class=\"reference internal\" href=\"guides/solving/index.html\">Solve Equations</a><input class=\"toctree-checkbox\" id=\"toctree-checkbox-5\" name=\"toctree-checkbox-5\" role=\"switch\" type=\"checkbox\"/><label for=\"toctree-checkbox-5\"><div class=\"visually-hidden\">Toggle child pages in navigation</div><i class=\"icon\"><svg><use href=\"#svg-arrow-right\"></use></svg></i></label><ul>\r\n",
              "<li class=\"toctree-l3\"><a class=\"reference internal\" href=\"guides/solving/solve-equation-algebraically.html\">Solve an equation algebraically</a></li>\r\n",
              "</ul>\r\n",
              "</li>\r\n",
              "<li class=\"toctree-l2\"><a class=\"reference internal\" href=\"citing.html\">Citing SymPy</a></li>\r\n",
              "</ul>\r\n",
              "</li>\r\n",
              "<li class=\"toctree-l1 has-children\"><a class=\"reference internal\" href=\"explanation/index.html\">Explanations</a><input class=\"toctree-checkbox\" id=\"toctree-checkbox-6\" name=\"toctree-checkbox-6\" role=\"switch\" type=\"checkbox\"/><label for=\"toctree-checkbox-6\"><div class=\"visually-hidden\">Toggle child pages in navigation</div><i class=\"icon\"><svg><use href=\"#svg-arrow-right\"></use></svg></i></label><ul>\r\n",
              "<li class=\"toctree-l2\"><a class=\"reference internal\" href=\"explanation/gotchas.html\">Gotchas and Pitfalls</a></li>\r\n",
              "<li class=\"toctree-l2 has-children\"><a class=\"reference internal\" href=\"explanation/special_topics/index.html\">SymPy Special Topics</a><input class=\"toctree-checkbox\" id=\"toctree-checkbox-7\" name=\"toctree-checkbox-7\" role=\"switch\" type=\"checkbox\"/><label for=\"toctree-checkbox-7\"><div class=\"visually-hidden\">Toggle child pages in navigation</div><i class=\"icon\"><svg><use href=\"#svg-arrow-right\"></use></svg></i></label><ul>\r\n",
              "<li class=\"toctree-l3\"><a class=\"reference internal\" href=\"explanation/special_topics/finite_diff_derivatives.html\">Finite Difference Approximations to Derivatives</a></li>\r\n",
              "<li class=\"toctree-l3\"><a class=\"reference internal\" href=\"explanation/special_topics/classification.html\">Classification of SymPy objects</a></li>\r\n",
              "</ul>\r\n",
              "</li>\r\n",
              "<li class=\"toctree-l2\"><a class=\"reference internal\" href=\"explanation/active-deprecations.html\">List of active deprecations</a></li>\r\n",
              "</ul>\r\n",
              "</li>\r\n",
              "<li class=\"toctree-l1 has-children\"><a class=\"reference internal\" href=\"reference/index.html\">API Reference</a><input class=\"toctree-checkbox\" id=\"toctree-checkbox-8\" name=\"toctree-checkbox-8\" role=\"switch\" type=\"checkbox\"/><label for=\"toctree-checkbox-8\"><div class=\"visually-hidden\">Toggle child pages in navigation</div><i class=\"icon\"><svg><use href=\"#svg-arrow-right\"></use></svg></i></label><ul>\r\n",
              "<li class=\"toctree-l2 has-children\"><a class=\"reference internal\" href=\"reference/public/basics/index.html\">Basics</a><input class=\"toctree-checkbox\" id=\"toctree-checkbox-9\" name=\"toctree-checkbox-9\" role=\"switch\" type=\"checkbox\"/><label for=\"toctree-checkbox-9\"><div class=\"visually-hidden\">Toggle child pages in navigation</div><i class=\"icon\"><svg><use href=\"#svg-arrow-right\"></use></svg></i></label><ul>\r\n",
              "<li class=\"toctree-l3 has-children\"><a class=\"reference internal\" href=\"modules/assumptions/index.html\">Assumptions</a><input class=\"toctree-checkbox\" id=\"toctree-checkbox-10\" name=\"toctree-checkbox-10\" role=\"switch\" type=\"checkbox\"/><label for=\"toctree-checkbox-10\"><div class=\"visually-hidden\">Toggle child pages in navigation</div><i class=\"icon\"><svg><use href=\"#svg-arrow-right\"></use></svg></i></label><ul>\r\n",
              "<li class=\"toctree-l4\"><a class=\"reference internal\" href=\"modules/assumptions/ask.html\">Ask</a></li>\r\n",
              "<li class=\"toctree-l4\"><a class=\"reference internal\" href=\"modules/assumptions/assume.html\">Assume</a></li>\r\n",
              "<li class=\"toctree-l4\"><a class=\"reference internal\" href=\"modules/assumptions/refine.html\">Refine</a></li>\r\n",
              "<li class=\"toctree-l4\"><a class=\"reference internal\" href=\"modules/assumptions/predicates.html\">Predicates</a></li>\r\n",
              "</ul>\r\n",
              "</li>\r\n",
              "<li class=\"toctree-l3\"><a class=\"reference internal\" href=\"modules/calculus/index.html\">Calculus</a></li>\r\n",
              "<li class=\"toctree-l3 has-children\"><a class=\"reference internal\" href=\"modules/combinatorics/index.html\">Combinatorics</a><input class=\"toctree-checkbox\" id=\"toctree-checkbox-11\" name=\"toctree-checkbox-11\" role=\"switch\" type=\"checkbox\"/><label for=\"toctree-checkbox-11\"><div class=\"visually-hidden\">Toggle child pages in navigation</div><i class=\"icon\"><svg><use href=\"#svg-arrow-right\"></use></svg></i></label><ul>\r\n",
              "<li class=\"toctree-l4\"><a class=\"reference internal\" href=\"modules/combinatorics/partitions.html\">Partitions</a></li>\r\n",
              "<li class=\"toctree-l4\"><a class=\"reference internal\" href=\"modules/combinatorics/permutations.html\">Permutations</a></li>\r\n",
              "<li class=\"toctree-l4\"><a class=\"reference internal\" href=\"modules/combinatorics/perm_groups.html\">Permutation Groups</a></li>\r\n",
              "<li class=\"toctree-l4\"><a class=\"reference internal\" href=\"modules/combinatorics/polyhedron.html\">Polyhedron</a></li>\r\n",
              "<li class=\"toctree-l4\"><a class=\"reference internal\" href=\"modules/combinatorics/prufer.html\">Prufer Sequences</a></li>\r\n",
              "<li class=\"toctree-l4\"><a class=\"reference internal\" href=\"modules/combinatorics/subsets.html\">Subsets</a></li>\r\n",
              "<li class=\"toctree-l4\"><a class=\"reference internal\" href=\"modules/combinatorics/graycode.html\">Gray Code</a></li>\r\n",
              "<li class=\"toctree-l4\"><a class=\"reference internal\" href=\"modules/combinatorics/named_groups.html\">Named Groups</a></li>\r\n",
              "<li class=\"toctree-l4\"><a class=\"reference internal\" href=\"modules/combinatorics/group_numbers.html\">Nilpotent, Abelian and Cyclic Numbers</a></li>\r\n",
              "<li class=\"toctree-l4\"><a class=\"reference internal\" href=\"modules/combinatorics/util.html\">Utilities</a></li>\r\n",
              "<li class=\"toctree-l4\"><a class=\"reference internal\" href=\"modules/combinatorics/group_constructs.html\">Group constructors</a></li>\r\n",
              "<li class=\"toctree-l4\"><a class=\"reference internal\" href=\"modules/combinatorics/testutil.html\">Test Utilities</a></li>\r\n",
              "<li class=\"toctree-l4\"><a class=\"reference internal\" href=\"modules/combinatorics/tensor_can.html\">Tensor Canonicalization</a></li>\r\n",
              "<li class=\"toctree-l4\"><a class=\"reference internal\" href=\"modules/combinatorics/fp_groups.html\">Finitely Presented Groups</a></li>\r\n",
              "<li class=\"toctree-l4\"><a class=\"reference internal\" href=\"modules/combinatorics/pc_groups.html\">Polycyclic Groups</a></li>\r\n",
              "</ul>\r\n",
              "</li>\r\n",
              "<li class=\"toctree-l3 has-children\"><a class=\"reference internal\" href=\"modules/functions/index.html\">Functions</a><input class=\"toctree-checkbox\" id=\"toctree-checkbox-12\" name=\"toctree-checkbox-12\" role=\"switch\" type=\"checkbox\"/><label for=\"toctree-checkbox-12\"><div class=\"visually-hidden\">Toggle child pages in navigation</div><i class=\"icon\"><svg><use href=\"#svg-arrow-right\"></use></svg></i></label><ul>\r\n",
              "<li class=\"toctree-l4\"><a class=\"reference internal\" href=\"modules/functions/elementary.html\">Elementary</a></li>\r\n",
              "<li class=\"toctree-l4\"><a class=\"reference internal\" href=\"modules/functions/elementary.html#sympy-functions-elementary-complexes\">sympy.functions.elementary.complexes</a></li>\r\n",
              "<li class=\"toctree-l4\"><a class=\"reference internal\" href=\"modules/functions/elementary.html#sympy-functions-elementary-trigonometric\">sympy.functions.elementary.trigonometric</a></li>\r\n",
              "<li class=\"toctree-l4\"><a class=\"reference internal\" href=\"modules/functions/elementary.html#trigonometric-functions\">Trigonometric Functions</a></li>\r\n",
              "<li class=\"toctree-l4\"><a class=\"reference internal\" href=\"modules/functions/elementary.html#trigonometric-inverses\">Trigonometric Inverses</a></li>\r\n",
              "<li class=\"toctree-l4\"><a class=\"reference internal\" href=\"modules/functions/elementary.html#sympy-functions-elementary-hyperbolic\">sympy.functions.elementary.hyperbolic</a></li>\r\n",
              "<li class=\"toctree-l4\"><a class=\"reference internal\" href=\"modules/functions/elementary.html#hyperbolic-functions\">Hyperbolic Functions</a></li>\r\n",
              "<li class=\"toctree-l4\"><a class=\"reference internal\" href=\"modules/functions/elementary.html#hyperbolic-inverses\">Hyperbolic Inverses</a></li>\r\n",
              "<li class=\"toctree-l4\"><a class=\"reference internal\" href=\"modules/functions/elementary.html#sympy-functions-elementary-integers\">sympy.functions.elementary.integers</a></li>\r\n",
              "<li class=\"toctree-l4\"><a class=\"reference internal\" href=\"modules/functions/elementary.html#sympy-functions-elementary-exponential\">sympy.functions.elementary.exponential</a></li>\r\n",
              "<li class=\"toctree-l4\"><a class=\"reference internal\" href=\"modules/functions/elementary.html#sympy-functions-elementary-piecewise\">sympy.functions.elementary.piecewise</a></li>\r\n",
              "<li class=\"toctree-l4\"><a class=\"reference internal\" href=\"modules/functions/elementary.html#sympy-functions-elementary-miscellaneous\">sympy.functions.elementary.miscellaneous</a></li>\r\n",
              "<li class=\"toctree-l4\"><a class=\"reference internal\" href=\"modules/functions/combinatorial.html\">Combinatorial</a></li>\r\n",
              "<li class=\"toctree-l4\"><a class=\"reference internal\" href=\"modules/functions/combinatorial.html#enumeration\">Enumeration</a></li>\r\n",
              "<li class=\"toctree-l4\"><a class=\"reference internal\" href=\"modules/functions/special.html\">Special</a></li>\r\n",
              "</ul>\r\n",
              "</li>\r\n",
              "<li class=\"toctree-l3 has-children\"><a class=\"reference internal\" href=\"modules/integrals/index.html\">Integrals</a><input class=\"toctree-checkbox\" id=\"toctree-checkbox-13\" name=\"toctree-checkbox-13\" role=\"switch\" type=\"checkbox\"/><label for=\"toctree-checkbox-13\"><div class=\"visually-hidden\">Toggle child pages in navigation</div><i class=\"icon\"><svg><use href=\"#svg-arrow-right\"></use></svg></i></label><ul>\r\n",
              "<li class=\"toctree-l4\"><a class=\"reference internal\" href=\"modules/integrals/g-functions.html\">Computing Integrals using Meijer G-Functions</a></li>\r\n",
              "<li class=\"toctree-l4\"><a class=\"reference internal\" href=\"modules/integrals/g-functions.html#the-g-function-integration-theorems\">The G-Function Integration Theorems</a></li>\r\n",
              "<li class=\"toctree-l4\"><a class=\"reference internal\" href=\"modules/integrals/g-functions.html#the-inverse-laplace-transform-of-a-g-function\">The Inverse Laplace Transform of a G-function</a></li>\r\n",
              "<li class=\"toctree-l4\"><a class=\"reference internal\" href=\"modules/integrals/g-functions.html#implemented-g-function-formulae\">Implemented G-Function Formulae</a></li>\r\n",
              "<li class=\"toctree-l4\"><a class=\"reference internal\" href=\"modules/integrals/g-functions.html#module-sympy.integrals.meijerint\">Internal API Reference</a></li>\r\n",
              "<li class=\"toctree-l4\"><a class=\"reference internal\" href=\"modules/integrals/integrals.html\">Integrals</a></li>\r\n",
              "</ul>\r\n",
              "</li>\r\n",
              "<li class=\"toctree-l3 has-children\"><a class=\"reference internal\" href=\"modules/series/index.html\">Series</a><input class=\"toctree-checkbox\" id=\"toctree-checkbox-14\" name=\"toctree-checkbox-14\" role=\"switch\" type=\"checkbox\"/><label for=\"toctree-checkbox-14\"><div class=\"visually-hidden\">Toggle child pages in navigation</div><i class=\"icon\"><svg><use href=\"#svg-arrow-right\"></use></svg></i></label><ul>\r\n",
              "<li class=\"toctree-l4\"><a class=\"reference internal\" href=\"modules/series/series.html\">Series Expansions</a></li>\r\n",
              "<li class=\"toctree-l4\"><a class=\"reference internal\" href=\"modules/series/sequences.html\">Sequences</a></li>\r\n",
              "<li class=\"toctree-l4\"><a class=\"reference internal\" href=\"modules/series/fourier.html\">Fourier Series</a></li>\r\n",
              "<li class=\"toctree-l4\"><a class=\"reference internal\" href=\"modules/series/formal.html\">Formal Power Series</a></li>\r\n",
              "<li class=\"toctree-l4\"><a class=\"reference internal\" href=\"modules/series/limitseq.html\">Limits of Sequences</a></li>\r\n",
              "</ul>\r\n",
              "</li>\r\n",
              "<li class=\"toctree-l3 has-children\"><a class=\"reference internal\" href=\"modules/simplify/index.html\">Simplify</a><input class=\"toctree-checkbox\" id=\"toctree-checkbox-15\" name=\"toctree-checkbox-15\" role=\"switch\" type=\"checkbox\"/><label for=\"toctree-checkbox-15\"><div class=\"visually-hidden\">Toggle child pages in navigation</div><i class=\"icon\"><svg><use href=\"#svg-arrow-right\"></use></svg></i></label><ul>\r\n",
              "<li class=\"toctree-l4\"><a class=\"reference internal\" href=\"modules/simplify/simplify.html\">Simplify</a></li>\r\n",
              "<li class=\"toctree-l4\"><a class=\"reference internal\" href=\"modules/simplify/hyperexpand.html\">Hypergeometric Expansion</a></li>\r\n",
              "<li class=\"toctree-l4\"><a class=\"reference internal\" href=\"modules/simplify/fu.html\">Hongguang Fu’s Trigonometric Simplification</a></li>\r\n",
              "</ul>\r\n",
              "</li>\r\n",
              "<li class=\"toctree-l3 has-children\"><a class=\"reference internal\" href=\"modules/solvers/index.html\">Solvers</a><input class=\"toctree-checkbox\" id=\"toctree-checkbox-16\" name=\"toctree-checkbox-16\" role=\"switch\" type=\"checkbox\"/><label for=\"toctree-checkbox-16\"><div class=\"visually-hidden\">Toggle child pages in navigation</div><i class=\"icon\"><svg><use href=\"#svg-arrow-right\"></use></svg></i></label><ul>\r\n",
              "<li class=\"toctree-l4\"><a class=\"reference internal\" href=\"modules/solvers/diophantine.html\">Diophantine</a></li>\r\n",
              "<li class=\"toctree-l4\"><a class=\"reference internal\" href=\"modules/solvers/inequalities.html\">Inequality Solvers</a></li>\r\n",
              "<li class=\"toctree-l4\"><a class=\"reference internal\" href=\"modules/solvers/ode.html\">ODE</a></li>\r\n",
              "<li class=\"toctree-l4\"><a class=\"reference internal\" href=\"modules/solvers/pde.html\">PDE</a></li>\r\n",
              "<li class=\"toctree-l4\"><a class=\"reference internal\" href=\"modules/solvers/solvers.html\">Solvers</a></li>\r\n",
              "<li class=\"toctree-l4\"><a class=\"reference internal\" href=\"modules/solvers/solveset.html\">Solveset</a></li>\r\n",
              "</ul>\r\n",
              "</li>\r\n",
              "<li class=\"toctree-l3\"><a class=\"reference internal\" href=\"modules/abc.html\">abc</a></li>\r\n",
              "<li class=\"toctree-l3\"><a class=\"reference internal\" href=\"modules/algebras.html\">Algebras</a></li>\r\n",
              "<li class=\"toctree-l3\"><a class=\"reference internal\" href=\"modules/concrete.html\">Concrete</a></li>\r\n",
              "<li class=\"toctree-l3\"><a class=\"reference internal\" href=\"modules/core.html\">Core</a></li>\r\n",
              "<li class=\"toctree-l3\"><a class=\"reference internal\" href=\"modules/discrete.html\">Discrete</a></li>\r\n",
              "<li class=\"toctree-l3\"><a class=\"reference internal\" href=\"modules/evalf.html\">Numerical Evaluation</a></li>\r\n",
              "<li class=\"toctree-l3\"><a class=\"reference internal\" href=\"modules/numeric-computation.html\">Numeric Computation</a></li>\r\n",
              "<li class=\"toctree-l3\"><a class=\"reference internal\" href=\"modules/rewriting.html\">Term Rewriting</a></li>\r\n",
              "</ul>\r\n",
              "</li>\r\n",
              "<li class=\"toctree-l2 has-children\"><a class=\"reference internal\" href=\"reference/public/codegeneration/index.html\">Code Generation</a><input class=\"toctree-checkbox\" id=\"toctree-checkbox-17\" name=\"toctree-checkbox-17\" role=\"switch\" type=\"checkbox\"/><label for=\"toctree-checkbox-17\"><div class=\"visually-hidden\">Toggle child pages in navigation</div><i class=\"icon\"><svg><use href=\"#svg-arrow-right\"></use></svg></i></label><ul>\r\n",
              "<li class=\"toctree-l3\"><a class=\"reference internal\" href=\"modules/codegen.html\">Introduction</a></li>\r\n",
              "<li class=\"toctree-l3\"><a class=\"reference internal\" href=\"modules/codegen.html#code-printers-sympy-printing\">Code printers (sympy.printing)</a></li>\r\n",
              "<li class=\"toctree-l3\"><a class=\"reference internal\" href=\"modules/codegen.html#codegen-sympy-utilities-codegen\">Codegen (sympy.utilities.codegen)</a></li>\r\n",
              "<li class=\"toctree-l3\"><a class=\"reference internal\" href=\"modules/codegen.html#autowrap\">Autowrap</a></li>\r\n",
              "<li class=\"toctree-l3\"><a class=\"reference internal\" href=\"modules/codegen.html#module-sympy.codegen.rewriting\">Classes and functions for rewriting expressions (sympy.codegen.rewriting)</a></li>\r\n",
              "<li class=\"toctree-l3\"><a class=\"reference internal\" href=\"modules/codegen.html#module-sympy.codegen.approximations\">Tools for simplifying expressions using approximations (sympy.codegen.approximations)</a></li>\r\n",
              "<li class=\"toctree-l3\"><a class=\"reference internal\" href=\"modules/codegen.html#module-sympy.codegen.ast\">Classes for abstract syntax trees (sympy.codegen.ast)</a></li>\r\n",
              "<li class=\"toctree-l3\"><a class=\"reference internal\" href=\"modules/codegen.html#module-sympy.codegen.cfunctions\">Special C math functions (sympy.codegen.cfunctions)</a></li>\r\n",
              "<li class=\"toctree-l3\"><a class=\"reference internal\" href=\"modules/codegen.html#module-sympy.codegen.cnodes\">C specific AST nodes (sympy.codegen.cnodes)</a></li>\r\n",
              "<li class=\"toctree-l3\"><a class=\"reference internal\" href=\"modules/codegen.html#module-sympy.codegen.cxxnodes\">C++ specific AST nodes (sympy.codegen.cxxnodes)</a></li>\r\n",
              "<li class=\"toctree-l3\"><a class=\"reference internal\" href=\"modules/codegen.html#module-sympy.codegen.fnodes\">Fortran specific AST nodes (sympy.codegen.fnodes)</a></li>\r\n",
              "<li class=\"toctree-l3\"><a class=\"reference internal\" href=\"modules/codegen.html#module-sympy.codegen.algorithms\">Algorithms (sympy.codegen.algorithms)</a></li>\r\n",
              "<li class=\"toctree-l3\"><a class=\"reference internal\" href=\"modules/codegen.html#module-sympy.codegen.pyutils\">Python utilities (sympy.codegen.pyutils)</a></li>\r\n",
              "<li class=\"toctree-l3\"><a class=\"reference internal\" href=\"modules/codegen.html#module-sympy.codegen.cutils\">C utilities (sympy.codegen.cutils)</a></li>\r\n",
              "<li class=\"toctree-l3\"><a class=\"reference internal\" href=\"modules/codegen.html#module-sympy.codegen.futils\">Fortran utilities (sympy.codegen.futils)</a></li>\r\n",
              "</ul>\r\n",
              "</li>\r\n",
              "<li class=\"toctree-l2 has-children\"><a class=\"reference internal\" href=\"reference/public/logic/index.html\">Logic</a><input class=\"toctree-checkbox\" id=\"toctree-checkbox-18\" name=\"toctree-checkbox-18\" role=\"switch\" type=\"checkbox\"/><label for=\"toctree-checkbox-18\"><div class=\"visually-hidden\">Toggle child pages in navigation</div><i class=\"icon\"><svg><use href=\"#svg-arrow-right\"></use></svg></i></label><ul>\r\n",
              "<li class=\"toctree-l3\"><a class=\"reference internal\" href=\"modules/logic.html\">Logic</a></li>\r\n",
              "<li class=\"toctree-l3\"><a class=\"reference internal\" href=\"modules/sets.html\">Sets</a></li>\r\n",
              "</ul>\r\n",
              "</li>\r\n",
              "<li class=\"toctree-l2 has-children\"><a class=\"reference internal\" href=\"reference/public/matrices/index.html\">Matrices</a><input class=\"toctree-checkbox\" id=\"toctree-checkbox-19\" name=\"toctree-checkbox-19\" role=\"switch\" type=\"checkbox\"/><label for=\"toctree-checkbox-19\"><div class=\"visually-hidden\">Toggle child pages in navigation</div><i class=\"icon\"><svg><use href=\"#svg-arrow-right\"></use></svg></i></label><ul>\r\n",
              "<li class=\"toctree-l3 has-children\"><a class=\"reference internal\" href=\"modules/matrices/index.html\">Matrices</a><input class=\"toctree-checkbox\" id=\"toctree-checkbox-20\" name=\"toctree-checkbox-20\" role=\"switch\" type=\"checkbox\"/><label for=\"toctree-checkbox-20\"><div class=\"visually-hidden\">Toggle child pages in navigation</div><i class=\"icon\"><svg><use href=\"#svg-arrow-right\"></use></svg></i></label><ul>\r\n",
              "<li class=\"toctree-l4\"><a class=\"reference internal\" href=\"modules/matrices/matrices.html\">Matrices (linear algebra)</a></li>\r\n",
              "<li class=\"toctree-l4\"><a class=\"reference internal\" href=\"modules/matrices/common.html\">Common Matrices</a></li>\r\n",
              "<li class=\"toctree-l4\"><a class=\"reference internal\" href=\"modules/matrices/dense.html\">Dense Matrices</a></li>\r\n",
              "<li class=\"toctree-l4\"><a class=\"reference internal\" href=\"modules/matrices/sparse.html\">Sparse Matrices</a></li>\r\n",
              "<li class=\"toctree-l4\"><a class=\"reference internal\" href=\"modules/matrices/sparsetools.html\">Sparse Tools</a></li>\r\n",
              "<li class=\"toctree-l4\"><a class=\"reference internal\" href=\"modules/matrices/immutablematrices.html\">Immutable Matrices</a></li>\r\n",
              "<li class=\"toctree-l4\"><a class=\"reference internal\" href=\"modules/matrices/expressions.html\">Matrix Expressions</a></li>\r\n",
              "<li class=\"toctree-l4\"><a class=\"reference internal\" href=\"modules/matrices/normalforms.html\">Matrix Normal Forms</a></li>\r\n",
              "</ul>\r\n",
              "</li>\r\n",
              "<li class=\"toctree-l3 has-children\"><a class=\"reference internal\" href=\"modules/tensor/index.html\">Tensor</a><input class=\"toctree-checkbox\" id=\"toctree-checkbox-21\" name=\"toctree-checkbox-21\" role=\"switch\" type=\"checkbox\"/><label for=\"toctree-checkbox-21\"><div class=\"visually-hidden\">Toggle child pages in navigation</div><i class=\"icon\"><svg><use href=\"#svg-arrow-right\"></use></svg></i></label><ul>\r\n",
              "<li class=\"toctree-l4\"><a class=\"reference internal\" href=\"modules/tensor/array.html\">N-dim array</a></li>\r\n",
              "<li class=\"toctree-l4\"><a class=\"reference internal\" href=\"modules/tensor/array_expressions.html\">N-dim array expressions</a></li>\r\n",
              "<li class=\"toctree-l4\"><a class=\"reference internal\" href=\"modules/tensor/indexed.html\">Indexed Objects</a></li>\r\n",
              "<li class=\"toctree-l4\"><a class=\"reference internal\" href=\"modules/tensor/index_methods.html\">Methods</a></li>\r\n",
              "<li class=\"toctree-l4\"><a class=\"reference internal\" href=\"modules/tensor/tensor.html\">Tensor</a></li>\r\n",
              "<li class=\"toctree-l4\"><a class=\"reference internal\" href=\"modules/tensor/toperators.html\">Tensor Operators</a></li>\r\n",
              "</ul>\r\n",
              "</li>\r\n",
              "<li class=\"toctree-l3 has-children\"><a class=\"reference internal\" href=\"modules/vector/index.html\">Vector</a><input class=\"toctree-checkbox\" id=\"toctree-checkbox-22\" name=\"toctree-checkbox-22\" role=\"switch\" type=\"checkbox\"/><label for=\"toctree-checkbox-22\"><div class=\"visually-hidden\">Toggle child pages in navigation</div><i class=\"icon\"><svg><use href=\"#svg-arrow-right\"></use></svg></i></label><ul>\r\n",
              "<li class=\"toctree-l4\"><a class=\"reference internal\" href=\"modules/vector/intro.html\">Introduction</a></li>\r\n",
              "<li class=\"toctree-l4\"><a class=\"reference internal\" href=\"modules/vector/basics.html\">Basic Implementation details</a></li>\r\n",
              "<li class=\"toctree-l4\"><a class=\"reference internal\" href=\"modules/vector/coordsys.html\">More about Coordinate Systems</a></li>\r\n",
              "<li class=\"toctree-l4\"><a class=\"reference internal\" href=\"modules/vector/fields.html\">Scalar and Vector Field Functionality</a></li>\r\n",
              "<li class=\"toctree-l4\"><a class=\"reference internal\" href=\"modules/vector/examples.html\">General examples of usage</a></li>\r\n",
              "<li class=\"toctree-l4\"><a class=\"reference internal\" href=\"modules/vector/vector_integration.html\">Applications of Vector Integrals</a></li>\r\n",
              "<li class=\"toctree-l4\"><a class=\"reference internal\" href=\"modules/vector/api/classes.html\">Essential Classes in sympy.vector (docstrings)</a></li>\r\n",
              "<li class=\"toctree-l4\"><a class=\"reference internal\" href=\"modules/vector/api/orienterclasses.html\">Orienter classes (docstrings)</a></li>\r\n",
              "<li class=\"toctree-l4\"><a class=\"reference internal\" href=\"modules/vector/api/vectorfunctions.html\">Essential Functions in sympy.vector (docstrings)</a></li>\r\n",
              "</ul>\r\n",
              "</li>\r\n",
              "</ul>\r\n",
              "</li>\r\n",
              "<li class=\"toctree-l2 has-children\"><a class=\"reference internal\" href=\"reference/public/numbertheory/index.html\">Number Theory</a><input class=\"toctree-checkbox\" id=\"toctree-checkbox-23\" name=\"toctree-checkbox-23\" role=\"switch\" type=\"checkbox\"/><label for=\"toctree-checkbox-23\"><div class=\"visually-hidden\">Toggle child pages in navigation</div><i class=\"icon\"><svg><use href=\"#svg-arrow-right\"></use></svg></i></label><ul>\r\n",
              "<li class=\"toctree-l3\"><a class=\"reference internal\" href=\"modules/ntheory.html\">Ntheory Class Reference</a></li>\r\n",
              "<li class=\"toctree-l3\"><a class=\"reference internal\" href=\"modules/ntheory.html#ntheory-functions-reference\">Ntheory Functions Reference</a></li>\r\n",
              "</ul>\r\n",
              "</li>\r\n",
              "<li class=\"toctree-l2 has-children\"><a class=\"reference internal\" href=\"reference/public/physics/index.html\">Physics</a><input class=\"toctree-checkbox\" id=\"toctree-checkbox-24\" name=\"toctree-checkbox-24\" role=\"switch\" type=\"checkbox\"/><label for=\"toctree-checkbox-24\"><div class=\"visually-hidden\">Toggle child pages in navigation</div><i class=\"icon\"><svg><use href=\"#svg-arrow-right\"></use></svg></i></label><ul>\r\n",
              "<li class=\"toctree-l3\"><a class=\"reference internal\" href=\"modules/physics/hydrogen.html\">Hydrogen Wavefunctions</a></li>\r\n",
              "<li class=\"toctree-l3\"><a class=\"reference internal\" href=\"modules/physics/matrices.html\">Matrices</a></li>\r\n",
              "<li class=\"toctree-l3\"><a class=\"reference internal\" href=\"modules/physics/paulialgebra.html\">Pauli Algebra</a></li>\r\n",
              "<li class=\"toctree-l3\"><a class=\"reference internal\" href=\"modules/physics/qho_1d.html\">Quantum Harmonic Oscillator in 1-D</a></li>\r\n",
              "<li class=\"toctree-l3\"><a class=\"reference internal\" href=\"modules/physics/sho.html\">Quantum Harmonic Oscillator in 3-D</a></li>\r\n",
              "<li class=\"toctree-l3\"><a class=\"reference internal\" href=\"modules/physics/secondquant.html\">Second Quantization</a></li>\r\n",
              "<li class=\"toctree-l3\"><a class=\"reference internal\" href=\"modules/physics/wigner.html\">Wigner Symbols</a></li>\r\n",
              "<li class=\"toctree-l3 has-children\"><a class=\"reference internal\" href=\"modules/physics/units/index.html\">Unit systems</a><input class=\"toctree-checkbox\" id=\"toctree-checkbox-25\" name=\"toctree-checkbox-25\" role=\"switch\" type=\"checkbox\"/><label for=\"toctree-checkbox-25\"><div class=\"visually-hidden\">Toggle child pages in navigation</div><i class=\"icon\"><svg><use href=\"#svg-arrow-right\"></use></svg></i></label><ul>\r\n",
              "<li class=\"toctree-l4\"><a class=\"reference internal\" href=\"modules/physics/units/philosophy.html\">Philosophy behind unit systems</a></li>\r\n",
              "<li class=\"toctree-l4\"><a class=\"reference internal\" href=\"modules/physics/units/examples.html\">Examples</a></li>\r\n",
              "<li class=\"toctree-l4\"><a class=\"reference internal\" href=\"modules/physics/units/dimensions.html\">Dimensions and dimension systems</a></li>\r\n",
              "<li class=\"toctree-l4\"><a class=\"reference internal\" href=\"modules/physics/units/prefixes.html\">Unit prefixes</a></li>\r\n",
              "<li class=\"toctree-l4\"><a class=\"reference internal\" href=\"modules/physics/units/unitsystem.html\">Units and unit systems</a></li>\r\n",
              "<li class=\"toctree-l4\"><a class=\"reference internal\" href=\"modules/physics/units/quantities.html\">Physical quantities</a></li>\r\n",
              "</ul>\r\n",
              "</li>\r\n",
              "<li class=\"toctree-l3 has-children\"><a class=\"reference internal\" href=\"modules/physics/hep/index.html\">High energy physics</a><input class=\"toctree-checkbox\" id=\"toctree-checkbox-26\" name=\"toctree-checkbox-26\" role=\"switch\" type=\"checkbox\"/><label for=\"toctree-checkbox-26\"><div class=\"visually-hidden\">Toggle child pages in navigation</div><i class=\"icon\"><svg><use href=\"#svg-arrow-right\"></use></svg></i></label><ul class=\"simple\">\r\n",
              "</ul>\r\n",
              "</li>\r\n",
              "<li class=\"toctree-l3 has-children\"><a class=\"reference internal\" href=\"modules/physics/vector/index.html\">The Physics Vector Module</a><input class=\"toctree-checkbox\" id=\"toctree-checkbox-27\" name=\"toctree-checkbox-27\" role=\"switch\" type=\"checkbox\"/><label for=\"toctree-checkbox-27\"><div class=\"visually-hidden\">Toggle child pages in navigation</div><i class=\"icon\"><svg><use href=\"#svg-arrow-right\"></use></svg></i></label><ul>\r\n",
              "<li class=\"toctree-l4\"><a class=\"reference internal\" href=\"modules/physics/vector/vectors.html\">Vector &amp; ReferenceFrame</a></li>\r\n",
              "<li class=\"toctree-l4\"><a class=\"reference internal\" href=\"modules/physics/vector/kinematics.html\">Vector: Kinematics</a></li>\r\n",
              "<li class=\"toctree-l4\"><a class=\"reference internal\" href=\"modules/physics/vector/advanced.html\">Potential Issues/Advanced Topics/Future Features in Physics/Vector Module</a></li>\r\n",
              "<li class=\"toctree-l4\"><a class=\"reference internal\" href=\"modules/physics/vector/fields.html\">Scalar and Vector Field Functionality</a></li>\r\n",
              "<li class=\"toctree-l4\"><a class=\"reference internal\" href=\"modules/physics/vector/api/classes.html\">Essential Classes</a></li>\r\n",
              "<li class=\"toctree-l4\"><a class=\"reference internal\" href=\"modules/physics/vector/api/kinematics.html\">Kinematics (Docstrings)</a></li>\r\n",
              "<li class=\"toctree-l4\"><a class=\"reference internal\" href=\"modules/physics/vector/api/printing.html\">Printing (Docstrings)</a></li>\r\n",
              "<li class=\"toctree-l4\"><a class=\"reference internal\" href=\"modules/physics/vector/api/functions.html\">Essential Functions (Docstrings)</a></li>\r\n",
              "<li class=\"toctree-l4\"><a class=\"reference internal\" href=\"modules/physics/vector/api/fieldfunctions.html\">Docstrings for basic field functions</a></li>\r\n",
              "</ul>\r\n",
              "</li>\r\n",
              "<li class=\"toctree-l3 has-children\"><a class=\"reference internal\" href=\"modules/physics/mechanics/index.html\">Classical Mechanics</a><input class=\"toctree-checkbox\" id=\"toctree-checkbox-28\" name=\"toctree-checkbox-28\" role=\"switch\" type=\"checkbox\"/><label for=\"toctree-checkbox-28\"><div class=\"visually-hidden\">Toggle child pages in navigation</div><i class=\"icon\"><svg><use href=\"#svg-arrow-right\"></use></svg></i></label><ul>\r\n",
              "<li class=\"toctree-l4\"><a class=\"reference internal\" href=\"modules/physics/mechanics/masses.html\">Masses, Inertias, Particles and Rigid Bodies in Physics/Mechanics</a></li>\r\n",
              "<li class=\"toctree-l4\"><a class=\"reference internal\" href=\"modules/physics/mechanics/kane.html\">Kane’s Method in Physics/Mechanics</a></li>\r\n",
              "<li class=\"toctree-l4\"><a class=\"reference internal\" href=\"modules/physics/mechanics/lagrange.html\">Lagrange’s Method in Physics/Mechanics</a></li>\r\n",
              "<li class=\"toctree-l4\"><a class=\"reference internal\" href=\"modules/physics/mechanics/joints.html\">Joints Framework in Physics/Mechanics</a></li>\r\n",
              "<li class=\"toctree-l4\"><a class=\"reference internal\" href=\"modules/physics/mechanics/symsystem.html\">Symbolic Systems in Physics/Mechanics</a></li>\r\n",
              "<li class=\"toctree-l4 has-children\"><a class=\"reference internal\" href=\"modules/physics/mechanics/linearize.html\">Linearization in Physics/Mechanics</a><input class=\"toctree-checkbox\" id=\"toctree-checkbox-29\" name=\"toctree-checkbox-29\" role=\"switch\" type=\"checkbox\"/><label for=\"toctree-checkbox-29\"><div class=\"visually-hidden\">Toggle child pages in navigation</div><i class=\"icon\"><svg><use href=\"#svg-arrow-right\"></use></svg></i></label><ul>\r\n",
              "<li class=\"toctree-l5\"><a class=\"reference internal\" href=\"modules/physics/mechanics/examples/lin_pend_nonmin_example.html\">Nonminimal Coordinates Pendulum</a></li>\r\n",
              "</ul>\r\n",
              "</li>\r\n",
              "<li class=\"toctree-l4 has-children\"><a class=\"reference internal\" href=\"modules/physics/mechanics/examples.html\">Examples for Physics/Mechanics</a><input class=\"toctree-checkbox\" id=\"toctree-checkbox-30\" name=\"toctree-checkbox-30\" role=\"switch\" type=\"checkbox\"/><label for=\"toctree-checkbox-30\"><div class=\"visually-hidden\">Toggle child pages in navigation</div><i class=\"icon\"><svg><use href=\"#svg-arrow-right\"></use></svg></i></label><ul>\r\n",
              "<li class=\"toctree-l5 has-children\"><a class=\"reference internal\" href=\"modules/physics/mechanics/examples/rollingdisc_example.html\">A rolling disc</a><input class=\"toctree-checkbox\" id=\"toctree-checkbox-31\" name=\"toctree-checkbox-31\" role=\"switch\" type=\"checkbox\"/><label for=\"toctree-checkbox-31\"><div class=\"visually-hidden\">Toggle child pages in navigation</div><i class=\"icon\"><svg><use href=\"#svg-arrow-right\"></use></svg></i></label><ul>\r\n",
              "<li class=\"toctree-l6\"><a class=\"reference internal\" href=\"modules/physics/mechanics/examples/rollingdisc_example_kane.html\">A rolling disc, with Kane’s method</a></li>\r\n",
              "<li class=\"toctree-l6\"><a class=\"reference internal\" href=\"modules/physics/mechanics/examples/rollingdisc_example_kane_constraints.html\">A rolling disc, with Kane’s method and constraint forces</a></li>\r\n",
              "<li class=\"toctree-l6\"><a class=\"reference internal\" href=\"modules/physics/mechanics/examples/rollingdisc_example_lagrange.html\">A rolling disc using Lagrange’s Method</a></li>\r\n",
              "</ul>\r\n",
              "</li>\r\n",
              "<li class=\"toctree-l5\"><a class=\"reference internal\" href=\"modules/physics/mechanics/examples/bicycle_example.html\">A bicycle</a></li>\r\n",
              "<li class=\"toctree-l5\"><a class=\"reference internal\" href=\"modules/physics/mechanics/examples/lin_pend_nonmin_example.html\">Nonminimal Coordinates Pendulum</a></li>\r\n",
              "<li class=\"toctree-l5\"><a class=\"reference internal\" href=\"modules/physics/mechanics/examples/multi_degree_freedom_holonomic_system.html\">Multi Degree of Freedom Holonomic System</a></li>\r\n",
              "<li class=\"toctree-l5\"><a class=\"reference internal\" href=\"modules/physics/mechanics/examples/four_bar_linkage_example.html\">A four bar linkage</a></li>\r\n",
              "</ul>\r\n",
              "</li>\r\n",
              "<li class=\"toctree-l4\"><a class=\"reference internal\" href=\"modules/physics/mechanics/advanced.html\">Potential Issues/Advanced Topics/Future Features in Physics/Mechanics</a></li>\r\n",
              "<li class=\"toctree-l4\"><a class=\"reference internal\" href=\"modules/physics/mechanics/reference.html\">References for Physics/Mechanics</a></li>\r\n",
              "<li class=\"toctree-l4\"><a class=\"reference internal\" href=\"modules/physics/mechanics/autolev_parser.html\">Autolev Parser</a></li>\r\n",
              "<li class=\"toctree-l4\"><a class=\"reference internal\" href=\"modules/physics/mechanics/sympy_mechanics_for_autolev_users.html\">SymPy Mechanics for Autolev Users</a></li>\r\n",
              "<li class=\"toctree-l4\"><a class=\"reference internal\" href=\"modules/physics/mechanics/api/part_bod.html\">Masses, Inertias &amp; Particles, RigidBodys (Docstrings)</a></li>\r\n",
              "<li class=\"toctree-l4\"><a class=\"reference internal\" href=\"modules/physics/mechanics/api/body.html\">Body (Docstrings)</a></li>\r\n",
              "<li class=\"toctree-l4\"><a class=\"reference internal\" href=\"modules/physics/mechanics/api/kane_lagrange.html\">Kane’s Method &amp; Lagrange’s Method (Docstrings)</a></li>\r\n",
              "<li class=\"toctree-l4\"><a class=\"reference internal\" href=\"modules/physics/mechanics/api/joint.html\">Joints Framework (Docstrings)</a></li>\r\n",
              "<li class=\"toctree-l4\"><a class=\"reference internal\" href=\"modules/physics/mechanics/api/system.html\">SymbolicSystem (Docstrings)</a></li>\r\n",
              "<li class=\"toctree-l4\"><a class=\"reference internal\" href=\"modules/physics/mechanics/api/linearize.html\">Linearization (Docstrings)</a></li>\r\n",
              "<li class=\"toctree-l4\"><a class=\"reference internal\" href=\"modules/physics/mechanics/api/expr_manip.html\">Expression Manipulation (Docstrings)</a></li>\r\n",
              "<li class=\"toctree-l4\"><a class=\"reference internal\" href=\"modules/physics/mechanics/api/printing.html\">Printing (Docstrings)</a></li>\r\n",
              "</ul>\r\n",
              "</li>\r\n",
              "<li class=\"toctree-l3 has-children\"><a class=\"reference internal\" href=\"modules/physics/quantum/index.html\">Quantum Mechanics</a><input class=\"toctree-checkbox\" id=\"toctree-checkbox-32\" name=\"toctree-checkbox-32\" role=\"switch\" type=\"checkbox\"/><label for=\"toctree-checkbox-32\"><div class=\"visually-hidden\">Toggle child pages in navigation</div><i class=\"icon\"><svg><use href=\"#svg-arrow-right\"></use></svg></i></label><ul>\r\n",
              "<li class=\"toctree-l4\"><a class=\"reference internal\" href=\"modules/physics/quantum/anticommutator.html\">Anticommutator</a></li>\r\n",
              "<li class=\"toctree-l4\"><a class=\"reference internal\" href=\"modules/physics/quantum/cg.html\">Clebsch-Gordan Coefficients</a></li>\r\n",
              "<li class=\"toctree-l4\"><a class=\"reference internal\" href=\"modules/physics/quantum/commutator.html\">Commutator</a></li>\r\n",
              "<li class=\"toctree-l4\"><a class=\"reference internal\" href=\"modules/physics/quantum/constants.html\">Constants</a></li>\r\n",
              "<li class=\"toctree-l4\"><a class=\"reference internal\" href=\"modules/physics/quantum/dagger.html\">Dagger</a></li>\r\n",
              "<li class=\"toctree-l4\"><a class=\"reference internal\" href=\"modules/physics/quantum/innerproduct.html\">Inner Product</a></li>\r\n",
              "<li class=\"toctree-l4\"><a class=\"reference internal\" href=\"modules/physics/quantum/tensorproduct.html\">Tensor Product</a></li>\r\n",
              "<li class=\"toctree-l4\"><a class=\"reference internal\" href=\"modules/physics/quantum/cartesian.html\">Cartesian Operators and States</a></li>\r\n",
              "<li class=\"toctree-l4\"><a class=\"reference internal\" href=\"modules/physics/quantum/hilbert.html\">Hilbert Space</a></li>\r\n",
              "<li class=\"toctree-l4\"><a class=\"reference internal\" href=\"modules/physics/quantum/operator.html\">Operator</a></li>\r\n",
              "<li class=\"toctree-l4\"><a class=\"reference internal\" href=\"modules/physics/quantum/operatorset.html\">Operator/State Helper Functions</a></li>\r\n",
              "<li class=\"toctree-l4\"><a class=\"reference internal\" href=\"modules/physics/quantum/qapply.html\">Qapply</a></li>\r\n",
              "<li class=\"toctree-l4\"><a class=\"reference internal\" href=\"modules/physics/quantum/represent.html\">Represent</a></li>\r\n",
              "<li class=\"toctree-l4\"><a class=\"reference internal\" href=\"modules/physics/quantum/spin.html\">Spin</a></li>\r\n",
              "<li class=\"toctree-l4\"><a class=\"reference internal\" href=\"modules/physics/quantum/state.html\">State</a></li>\r\n",
              "<li class=\"toctree-l4\"><a class=\"reference internal\" href=\"modules/physics/quantum/circuitplot.html\">Circuit Plot</a></li>\r\n",
              "<li class=\"toctree-l4\"><a class=\"reference internal\" href=\"modules/physics/quantum/gate.html\">Gates</a></li>\r\n",
              "<li class=\"toctree-l4\"><a class=\"reference internal\" href=\"modules/physics/quantum/grover.html\">Grover’s Algorithm</a></li>\r\n",
              "<li class=\"toctree-l4\"><a class=\"reference internal\" href=\"modules/physics/quantum/qft.html\">QFT</a></li>\r\n",
              "<li class=\"toctree-l4\"><a class=\"reference internal\" href=\"modules/physics/quantum/qubit.html\">Qubit</a></li>\r\n",
              "<li class=\"toctree-l4\"><a class=\"reference internal\" href=\"modules/physics/quantum/shor.html\">Shor’s Algorithm</a></li>\r\n",
              "<li class=\"toctree-l4\"><a class=\"reference internal\" href=\"modules/physics/quantum/piab.html\">Particle in a Box</a></li>\r\n",
              "</ul>\r\n",
              "</li>\r\n",
              "<li class=\"toctree-l3 has-children\"><a class=\"reference internal\" href=\"modules/physics/optics/index.html\">Optics Module</a><input class=\"toctree-checkbox\" id=\"toctree-checkbox-33\" name=\"toctree-checkbox-33\" role=\"switch\" type=\"checkbox\"/><label for=\"toctree-checkbox-33\"><div class=\"visually-hidden\">Toggle child pages in navigation</div><i class=\"icon\"><svg><use href=\"#svg-arrow-right\"></use></svg></i></label><ul>\r\n",
              "<li class=\"toctree-l4\"><a class=\"reference internal\" href=\"modules/physics/optics/gaussopt.html\">Gaussian Optics</a></li>\r\n",
              "<li class=\"toctree-l4\"><a class=\"reference internal\" href=\"modules/physics/optics/medium.html\">Medium</a></li>\r\n",
              "<li class=\"toctree-l4\"><a class=\"reference internal\" href=\"modules/physics/optics/polarization.html\">Polarization</a></li>\r\n",
              "<li class=\"toctree-l4\"><a class=\"reference internal\" href=\"modules/physics/optics/utils.html\">Utilities</a></li>\r\n",
              "<li class=\"toctree-l4\"><a class=\"reference internal\" href=\"modules/physics/optics/waves.html\">Waves</a></li>\r\n",
              "</ul>\r\n",
              "</li>\r\n",
              "<li class=\"toctree-l3 has-children\"><a class=\"reference internal\" href=\"modules/physics/control/index.html\">Control Module</a><input class=\"toctree-checkbox\" id=\"toctree-checkbox-34\" name=\"toctree-checkbox-34\" role=\"switch\" type=\"checkbox\"/><label for=\"toctree-checkbox-34\"><div class=\"visually-hidden\">Toggle child pages in navigation</div><i class=\"icon\"><svg><use href=\"#svg-arrow-right\"></use></svg></i></label><ul>\r\n",
              "<li class=\"toctree-l4\"><a class=\"reference internal\" href=\"modules/physics/control/control.html\">Control</a></li>\r\n",
              "<li class=\"toctree-l4\"><a class=\"reference internal\" href=\"modules/physics/control/lti.html\">Control API</a></li>\r\n",
              "<li class=\"toctree-l4\"><a class=\"reference internal\" href=\"modules/physics/control/control_plots.html\">Control System Plots</a></li>\r\n",
              "</ul>\r\n",
              "</li>\r\n",
              "<li class=\"toctree-l3 has-children\"><a class=\"reference internal\" href=\"modules/physics/continuum_mechanics/index.html\">Continuum Mechanics</a><input class=\"toctree-checkbox\" id=\"toctree-checkbox-35\" name=\"toctree-checkbox-35\" role=\"switch\" type=\"checkbox\"/><label for=\"toctree-checkbox-35\"><div class=\"visually-hidden\">Toggle child pages in navigation</div><i class=\"icon\"><svg><use href=\"#svg-arrow-right\"></use></svg></i></label><ul>\r\n",
              "<li class=\"toctree-l4\"><a class=\"reference internal\" href=\"modules/physics/continuum_mechanics/beam.html\">Beam (Docstrings)</a></li>\r\n",
              "<li class=\"toctree-l4\"><a class=\"reference internal\" href=\"modules/physics/continuum_mechanics/beam_problems.html\">Solving Beam Bending Problems using Singularity Functions</a></li>\r\n",
              "<li class=\"toctree-l4\"><a class=\"reference internal\" href=\"modules/physics/continuum_mechanics/truss.html\">Truss (Docstrings)</a></li>\r\n",
              "</ul>\r\n",
              "</li>\r\n",
              "</ul>\r\n",
              "</li>\r\n",
              "<li class=\"toctree-l2 has-children\"><a class=\"reference internal\" href=\"reference/public/utilities/index.html\">Utilities</a><input class=\"toctree-checkbox\" id=\"toctree-checkbox-36\" name=\"toctree-checkbox-36\" role=\"switch\" type=\"checkbox\"/><label for=\"toctree-checkbox-36\"><div class=\"visually-hidden\">Toggle child pages in navigation</div><i class=\"icon\"><svg><use href=\"#svg-arrow-right\"></use></svg></i></label><ul>\r\n",
              "<li class=\"toctree-l3 has-children\"><a class=\"reference internal\" href=\"modules/testing/index.html\">Testing</a><input class=\"toctree-checkbox\" id=\"toctree-checkbox-37\" name=\"toctree-checkbox-37\" role=\"switch\" type=\"checkbox\"/><label for=\"toctree-checkbox-37\"><div class=\"visually-hidden\">Toggle child pages in navigation</div><i class=\"icon\"><svg><use href=\"#svg-arrow-right\"></use></svg></i></label><ul>\r\n",
              "<li class=\"toctree-l4\"><a class=\"reference internal\" href=\"modules/testing/pytest.html\">pytest</a></li>\r\n",
              "<li class=\"toctree-l4\"><a class=\"reference internal\" href=\"modules/testing/randtest.html\">Randomised Testing</a></li>\r\n",
              "<li class=\"toctree-l4\"><a class=\"reference internal\" href=\"modules/testing/runtests.html\">Run Tests</a></li>\r\n",
              "</ul>\r\n",
              "</li>\r\n",
              "<li class=\"toctree-l3 has-children\"><a class=\"reference internal\" href=\"modules/utilities/index.html\">Utilities</a><input class=\"toctree-checkbox\" id=\"toctree-checkbox-38\" name=\"toctree-checkbox-38\" role=\"switch\" type=\"checkbox\"/><label for=\"toctree-checkbox-38\"><div class=\"visually-hidden\">Toggle child pages in navigation</div><i class=\"icon\"><svg><use href=\"#svg-arrow-right\"></use></svg></i></label><ul>\r\n",
              "<li class=\"toctree-l4\"><a class=\"reference internal\" href=\"modules/utilities/autowrap.html\">Autowrap Module</a></li>\r\n",
              "<li class=\"toctree-l4\"><a class=\"reference internal\" href=\"modules/utilities/codegen.html\">Codegen</a></li>\r\n",
              "<li class=\"toctree-l4\"><a class=\"reference internal\" href=\"modules/utilities/decorator.html\">Decorator</a></li>\r\n",
              "<li class=\"toctree-l4\"><a class=\"reference internal\" href=\"modules/utilities/enumerative.html\">Enumerative</a></li>\r\n",
              "<li class=\"toctree-l4\"><a class=\"reference internal\" href=\"modules/utilities/exceptions.html\">Exceptions and Warnings</a></li>\r\n",
              "<li class=\"toctree-l4\"><a class=\"reference internal\" href=\"modules/utilities/iterables.html\">Iterables</a></li>\r\n",
              "<li class=\"toctree-l4\"><a class=\"reference internal\" href=\"modules/utilities/lambdify.html\">Lambdify</a></li>\r\n",
              "<li class=\"toctree-l4\"><a class=\"reference internal\" href=\"modules/utilities/memoization.html\">Memoization</a></li>\r\n",
              "<li class=\"toctree-l4\"><a class=\"reference internal\" href=\"modules/utilities/misc.html\">Miscellaneous</a></li>\r\n",
              "<li class=\"toctree-l4\"><a class=\"reference internal\" href=\"modules/utilities/pkgdata.html\">PKGDATA</a></li>\r\n",
              "<li class=\"toctree-l4\"><a class=\"reference internal\" href=\"modules/utilities/source.html\">Source Code Inspection</a></li>\r\n",
              "<li class=\"toctree-l4\"><a class=\"reference internal\" href=\"modules/utilities/timeutils.html\">Timing Utilities</a></li>\r\n",
              "</ul>\r\n",
              "</li>\r\n",
              "<li class=\"toctree-l3\"><a class=\"reference internal\" href=\"modules/interactive.html\">Interactive</a></li>\r\n",
              "<li class=\"toctree-l3\"><a class=\"reference internal\" href=\"modules/parsing.html\">Parsing</a></li>\r\n",
              "<li class=\"toctree-l3\"><a class=\"reference internal\" href=\"modules/printing.html\">Printing</a></li>\r\n",
              "</ul>\r\n",
              "</li>\r\n",
              "<li class=\"toctree-l2 has-children\"><a class=\"reference internal\" href=\"reference/public/topics/index.html\">Topics</a><input class=\"toctree-checkbox\" id=\"toctree-checkbox-39\" name=\"toctree-checkbox-39\" role=\"switch\" type=\"checkbox\"/><label for=\"toctree-checkbox-39\"><div class=\"visually-hidden\">Toggle child pages in navigation</div><i class=\"icon\"><svg><use href=\"#svg-arrow-right\"></use></svg></i></label><ul>\r\n",
              "<li class=\"toctree-l3 has-children\"><a class=\"reference internal\" href=\"modules/geometry/index.html\">Geometry</a><input class=\"toctree-checkbox\" id=\"toctree-checkbox-40\" name=\"toctree-checkbox-40\" role=\"switch\" type=\"checkbox\"/><label for=\"toctree-checkbox-40\"><div class=\"visually-hidden\">Toggle child pages in navigation</div><i class=\"icon\"><svg><use href=\"#svg-arrow-right\"></use></svg></i></label><ul>\r\n",
              "<li class=\"toctree-l4\"><a class=\"reference internal\" href=\"modules/geometry/entities.html\">Entities</a></li>\r\n",
              "<li class=\"toctree-l4\"><a class=\"reference internal\" href=\"modules/geometry/utils.html\">Utils</a></li>\r\n",
              "<li class=\"toctree-l4\"><a class=\"reference internal\" href=\"modules/geometry/points.html\">Points</a></li>\r\n",
              "<li class=\"toctree-l4\"><a class=\"reference internal\" href=\"modules/geometry/lines.html\">Lines</a></li>\r\n",
              "<li class=\"toctree-l4\"><a class=\"reference internal\" href=\"modules/geometry/curves.html\">Curves</a></li>\r\n",
              "<li class=\"toctree-l4\"><a class=\"reference internal\" href=\"modules/geometry/ellipses.html\">Ellipses</a></li>\r\n",
              "<li class=\"toctree-l4\"><a class=\"reference internal\" href=\"modules/geometry/polygons.html\">Polygons</a></li>\r\n",
              "<li class=\"toctree-l4\"><a class=\"reference internal\" href=\"modules/geometry/plane.html\">Plane</a></li>\r\n",
              "</ul>\r\n",
              "</li>\r\n",
              "<li class=\"toctree-l3 has-children\"><a class=\"reference internal\" href=\"modules/holonomic/index.html\">Holonomic</a><input class=\"toctree-checkbox\" id=\"toctree-checkbox-41\" name=\"toctree-checkbox-41\" role=\"switch\" type=\"checkbox\"/><label for=\"toctree-checkbox-41\"><div class=\"visually-hidden\">Toggle child pages in navigation</div><i class=\"icon\"><svg><use href=\"#svg-arrow-right\"></use></svg></i></label><ul>\r\n",
              "<li class=\"toctree-l4\"><a class=\"reference internal\" href=\"modules/holonomic/about.html\">About Holonomic Functions</a></li>\r\n",
              "<li class=\"toctree-l4\"><a class=\"reference internal\" href=\"modules/holonomic/represent.html\">Representation of holonomic functions in SymPy</a></li>\r\n",
              "<li class=\"toctree-l4\"><a class=\"reference internal\" href=\"modules/holonomic/operations.html\">Operations on holonomic functions</a></li>\r\n",
              "<li class=\"toctree-l4\"><a class=\"reference internal\" href=\"modules/holonomic/convert.html\">Converting other representations to holonomic</a></li>\r\n",
              "<li class=\"toctree-l4\"><a class=\"reference internal\" href=\"modules/holonomic/uses.html\">Uses and Current limitations</a></li>\r\n",
              "<li class=\"toctree-l4\"><a class=\"reference internal\" href=\"modules/holonomic/internal.html\">Internal API</a></li>\r\n",
              "</ul>\r\n",
              "</li>\r\n",
              "<li class=\"toctree-l3\"><a class=\"reference internal\" href=\"modules/liealgebras/index.html\">Lie Algebra</a></li>\r\n",
              "<li class=\"toctree-l3 has-children\"><a class=\"reference internal\" href=\"modules/polys/index.html\">Polynomial Manipulation</a><input class=\"toctree-checkbox\" id=\"toctree-checkbox-42\" name=\"toctree-checkbox-42\" role=\"switch\" type=\"checkbox\"/><label for=\"toctree-checkbox-42\"><div class=\"visually-hidden\">Toggle child pages in navigation</div><i class=\"icon\"><svg><use href=\"#svg-arrow-right\"></use></svg></i></label><ul>\r\n",
              "<li class=\"toctree-l4\"><a class=\"reference internal\" href=\"modules/polys/basics.html\">Basic functionality of the module</a></li>\r\n",
              "<li class=\"toctree-l4\"><a class=\"reference internal\" href=\"modules/polys/wester.html\">Examples from Wester’s Article</a></li>\r\n",
              "<li class=\"toctree-l4\"><a class=\"reference internal\" href=\"modules/polys/reference.html\">Polynomials Manipulation Module Reference</a></li>\r\n",
              "<li class=\"toctree-l4\"><a class=\"reference internal\" href=\"modules/polys/agca.html\">AGCA - Algebraic Geometry and Commutative Algebra Module</a></li>\r\n",
              "<li class=\"toctree-l4\"><a class=\"reference internal\" href=\"modules/polys/domainsintro.html\">Introducing the Domains of the poly module</a></li>\r\n",
              "<li class=\"toctree-l4\"><a class=\"reference internal\" href=\"modules/polys/domainsref.html\">Reference docs for the Poly Domains</a></li>\r\n",
              "<li class=\"toctree-l4\"><a class=\"reference internal\" href=\"modules/polys/internals.html\">Internals of the Polynomial Manipulation Module</a></li>\r\n",
              "<li class=\"toctree-l4\"><a class=\"reference internal\" href=\"modules/polys/ringseries.html\">Series Manipulation using Polynomials</a></li>\r\n",
              "<li class=\"toctree-l4\"><a class=\"reference internal\" href=\"modules/polys/literature.html\">Literature</a></li>\r\n",
              "<li class=\"toctree-l4\"><a class=\"reference internal\" href=\"modules/polys/solvers.html\">Poly solvers</a></li>\r\n",
              "<li class=\"toctree-l4\"><a class=\"reference internal\" href=\"modules/polys/domainmatrix.html\">Introducing the domainmatrix of the poly module</a></li>\r\n",
              "<li class=\"toctree-l4\"><a class=\"reference internal\" href=\"modules/polys/numberfields.html\">Number Fields</a></li>\r\n",
              "</ul>\r\n",
              "</li>\r\n",
              "<li class=\"toctree-l3\"><a class=\"reference internal\" href=\"modules/categories.html\">Category Theory</a></li>\r\n",
              "<li class=\"toctree-l3\"><a class=\"reference internal\" href=\"modules/crypto.html\">Cryptography</a></li>\r\n",
              "<li class=\"toctree-l3\"><a class=\"reference internal\" href=\"modules/diffgeom.html\">Differential Geometry</a></li>\r\n",
              "<li class=\"toctree-l3\"><a class=\"reference internal\" href=\"modules/plotting.html\">Plotting</a></li>\r\n",
              "<li class=\"toctree-l3\"><a class=\"reference internal\" href=\"modules/stats.html\">Stats</a></li>\r\n",
              "</ul>\r\n",
              "</li>\r\n",
              "</ul>\r\n",
              "</li>\r\n",
              "<li class=\"toctree-l1 has-children\"><a class=\"reference internal\" href=\"contributing/index.html\">Contributing</a><input class=\"toctree-checkbox\" id=\"toctree-checkbox-43\" name=\"toctree-checkbox-43\" role=\"switch\" type=\"checkbox\"/><label for=\"toctree-checkbox-43\"><div class=\"visually-hidden\">Toggle child pages in navigation</div><i class=\"icon\"><svg><use href=\"#svg-arrow-right\"></use></svg></i></label><ul>\r\n",
              "<li class=\"toctree-l2\"><a class=\"reference internal\" href=\"contributing/dev-setup.html\">Development Environment Setup</a></li>\r\n",
              "<li class=\"toctree-l2\"><a class=\"reference internal\" href=\"contributing/dependencies.html\">Dependencies</a></li>\r\n",
              "<li class=\"toctree-l2\"><a class=\"reference internal\" href=\"contributing/build-docs.html\">Build the Documentation</a></li>\r\n",
              "<li class=\"toctree-l2\"><a class=\"reference internal\" href=\"contributing/debug.html\">Debugging</a></li>\r\n",
              "<li class=\"toctree-l2\"><a class=\"reference internal\" href=\"contributing/docstring.html\">SymPy Docstrings Style Guide</a></li>\r\n",
              "<li class=\"toctree-l2\"><a class=\"reference internal\" href=\"contributing/documentation-style-guide.html\">Documentation Style Guide</a></li>\r\n",
              "<li class=\"toctree-l2\"><a class=\"reference internal\" href=\"contributing/make-a-contribution.html\">Making a Contribution</a></li>\r\n",
              "<li class=\"toctree-l2\"><a class=\"reference internal\" href=\"contributing/deprecations.html\">Deprecation Policy</a></li>\r\n",
              "</ul>\r\n",
              "</li>\r\n",
              "</ul>\r\n",
              "\r\n",
              "</div><!-- Versions Menu. In order to work, there should be a file called versions.json one level up from the documentation listing the \"dev\" and \"latest\" version numbers, like\r\n",
              "{\r\n",
              "    \"latest\": \"1.10\",\r\n",
              "    \"dev\": \"1.11.dev\"\r\n",
              "}\r\n",
              "-->\r\n",
              "<div class=\"sidebar-tree sidebar-versions\">\r\n",
              "  <h5 class=\"versions-header\">Documentation Version</h4>\r\n",
              "</div>\r\n",
              "\r\n",
              "<!-- Make sure jquery is loaded (we would put this as a separate .js, but it uses jinja templates in some of the variables) -->\r\n",
              "<script src=\"_static/jquery.js\"></script>\r\n",
              "<script>\r\n",
              "  var versions_json_loc = \"../versions.json\";\r\n",
              "\r\n",
              "  function add_version_menu(json_loc) {\r\n",
              "      var menu = document.createElement(\"ul\");\r\n",
              "      var thisversion = \"latest\"\r\n",
              "      $.getJSON(json_loc, function(versions) {\r\n",
              "          for (var key in versions) {\r\n",
              "              if (key != \"latest\" && key != \"dev\") {\r\n",
              "                  console.error(\"Invalid key in versions.json\", key);\r\n",
              "              } else {\r\n",
              "                  var version = document.createElement(\"li\")\r\n",
              "                  version.className = \"sidebar-versions-l1 sidebar-versions-\" + key + \"-l1\";\r\n",
              "                  if (key == thisversion){\r\n",
              "                      version.className += \" current-version\";\r\n",
              "                  }\r\n",
              "                  var a = document.createElement(\"a\");\r\n",
              "                  a.className = \"reference internal\";\r\n",
              "                  a.innerHTML = \"SymPy \" + versions[key] + \" (\" + key + \" version)\";\r\n",
              "                  a.title = key + \" version\";\r\n",
              "                  a.href = \"https://docs.sympy.org/\" + key + \"/index.html\";\r\n",
              "                  version.appendChild(a);\r\n",
              "                  menu.appendChild(version);\r\n",
              "              }\r\n",
              "          }\r\n",
              "      }).done(function() {\r\n",
              "          console.log(\"versions.json read successfully\");\r\n",
              "      }).fail(function() {\r\n",
              "          var version = document.createElement(\"li\")\r\n",
              "          version.className = \"sidebar-versions-l1 sidebar-versions-latest-l1\";\r\n",
              "          var d = document.createElement(\"div\");\r\n",
              "          d.className = \"versions-not-found\"\r\n",
              "          d.innerHTML = \"Other Versions Not Found\";\r\n",
              "          d.title = \"The version selection menu is only available for the documentation published on docs.sympy.org\";\r\n",
              "          version.appendChild(d);\r\n",
              "          menu.appendChild(version);\r\n",
              "          console.error(\"Could not read versions.json\");\r\n",
              "      }).always(function() {\r\n",
              "          $(\".sidebar-versions\").append(menu)\r\n",
              "      });\r\n",
              "  };\r\n",
              "\r\n",
              "  $( document ).ready( add_version_menu(versions_json_loc));\r\n",
              "</script></div>\r\n",
              "      </div>\r\n",
              "      \r\n",
              "    </div>\r\n",
              "  </aside>\r\n",
              "  <div class=\"main\">\r\n",
              "    <div class=\"content\">\r\n",
              "      <div class=\"article-container\">\r\n",
              "        <a href=\"#\" class=\"back-to-top muted-link\">\r\n",
              "          <svg xmlns=\"http://www.w3.org/2000/svg\" viewBox=\"0 0 24 24\">\r\n",
              "            <path d=\"M13 20h-2V8l-5.5 5.5-1.42-1.42L12 4.16l7.92 7.92-1.42 1.42L13 8v12z\"></path>\r\n",
              "          </svg>\r\n",
              "          <span>Back to top</span>\r\n",
              "        </a>\r\n",
              "        <div class=\"content-icon-container\">\r\n",
              "          <div class=\"theme-toggle-container theme-toggle-content\">\r\n",
              "            <button class=\"theme-toggle\">\r\n",
              "              <div class=\"visually-hidden\">Toggle Light / Dark / Auto color theme</div>\r\n",
              "              <svg class=\"theme-icon-when-auto\"><use href=\"#svg-sun-half\"></use></svg>\r\n",
              "              <svg class=\"theme-icon-when-dark\"><use href=\"#svg-moon\"></use></svg>\r\n",
              "              <svg class=\"theme-icon-when-light\"><use href=\"#svg-sun\"></use></svg>\r\n",
              "            </button>\r\n",
              "          </div>\r\n",
              "          <label class=\"toc-overlay-icon toc-content-icon no-toc\" for=\"__toc\">\r\n",
              "            <div class=\"visually-hidden\">Toggle table of contents sidebar</div>\r\n",
              "            <i class=\"icon\"><svg><use href=\"#svg-toc\"></use></svg></i>\r\n",
              "          </label>\r\n",
              "        </div>\r\n",
              "        <article role=\"main\">\r\n",
              "          <span class=\"target\" id=\"module-sympy\"><span id=\"documentation\"></span></span><section id=\"welcome-to-sympy-s-documentation\">\r\n",
              "<h1>Welcome to SymPy’s documentation!<a class=\"headerlink\" href=\"#welcome-to-sympy-s-documentation\" title=\"Permalink to this heading\">#</a></h1>\r\n",
              "<p>A <a class=\"reference external\" href=\"https://github.com/sympy/sympy/releases\">PDF version of these docs</a> is also available.</p>\r\n",
              "<p><a class=\"reference external\" href=\"https://sympy.org\">SymPy</a> is a Python library for symbolic mathematics.\r\n",
              "If you are new to SymPy, start with the <a class=\"reference internal\" href=\"tutorials/intro-tutorial/index.html#intro-tutorial\"><span class=\"std std-ref\">introductory tutorial</span></a>.</p>\r\n",
              "<p>This is the central page for all of SymPy’s documentation.</p>\r\n",
              "</section>\r\n",
              "<hr class=\"docutils\" />\r\n",
              "<section id=\"installation\">\r\n",
              "<h1><a class=\"reference internal\" href=\"install.html#installation\"><span class=\"std std-ref\">Installation</span></a><a class=\"headerlink\" href=\"#installation\" title=\"Permalink to this heading\">#</a></h1>\r\n",
              "<p>Instructions on how to install SymPy.</p>\r\n",
              "</section>\r\n",
              "<section id=\"tutorials\">\r\n",
              "<h1><a class=\"reference internal\" href=\"tutorials/index.html#tutorials\"><span class=\"std std-ref\">Tutorials</span></a><a class=\"headerlink\" href=\"#tutorials\" title=\"Permalink to this heading\">#</a></h1>\r\n",
              "<p>Tutorials are the best place to start for anyone new to SymPy or one of\r\n",
              "SymPy’s features.</p>\r\n",
              "</section>\r\n",
              "<section id=\"how-to-guides\">\r\n",
              "<h1><a class=\"reference internal\" href=\"guides/index.html#guides\"><span class=\"std std-ref\">How-to Guides</span></a><a class=\"headerlink\" href=\"#how-to-guides\" title=\"Permalink to this heading\">#</a></h1>\r\n",
              "<p>How-to guides are step-by-step instructions on how to do specific tasks.</p>\r\n",
              "</section>\r\n",
              "<section id=\"explanations\">\r\n",
              "<h1><a class=\"reference internal\" href=\"explanation/index.html#explanations\"><span class=\"std std-ref\">Explanations</span></a><a class=\"headerlink\" href=\"#explanations\" title=\"Permalink to this heading\">#</a></h1>\r\n",
              "<p>Explanations provide in-depth discussions about select SymPy features. These\r\n",
              "topic guides talk about things like the motivation behind design decisions,\r\n",
              "technical implementation details, and opinionated recommendations.</p>\r\n",
              "</section>\r\n",
              "<section id=\"api-reference\">\r\n",
              "<h1><a class=\"reference internal\" href=\"reference/index.html#reference\"><span class=\"std std-ref\">API Reference</span></a><a class=\"headerlink\" href=\"#api-reference\" title=\"Permalink to this heading\">#</a></h1>\r\n",
              "<p>The API reference is a detailed description of the SymPy API. Every SymPy\r\n",
              "function and class is enumerated here with detailed information on what each\r\n",
              "function does.</p>\r\n",
              "</section>\r\n",
              "<section id=\"contributing\">\r\n",
              "<h1><a class=\"reference internal\" href=\"contributing/index.html#contributing\"><span class=\"std std-ref\">Contributing</span></a><a class=\"headerlink\" href=\"#contributing\" title=\"Permalink to this heading\">#</a></h1>\r\n",
              "<p>The contributing guide goes over the details necessary to contribute to SymPy.\r\n",
              "See also the full <a class=\"reference external\" href=\"https://github.com/sympy/sympy/wiki/Development-workflow\">Development Workflow</a> guide on the\r\n",
              "SymPy wiki.</p>\r\n",
              "<div class=\"toctree-wrapper compound\">\r\n",
              "</div>\r\n",
              "</section>\r\n",
              "\r\n",
              "        </article>\r\n",
              "      </div>\r\n",
              "      <footer>\r\n",
              "        \r\n",
              "        <div class=\"related-pages\">\r\n",
              "          <a class=\"next-page\" href=\"install.html\">\r\n",
              "              <div class=\"page-info\">\r\n",
              "                <div class=\"context\">\r\n",
              "                  <span>Next</span>\r\n",
              "                </div>\r\n",
              "                <div class=\"title\">Installation</div>\r\n",
              "              </div>\r\n",
              "              <svg><use href=\"#svg-arrow-right\"></use></svg>\r\n",
              "            </a>\r\n",
              "          \r\n",
              "        </div>\r\n",
              "        <div class=\"bottom-of-page\">\r\n",
              "          <div class=\"left-details\">\r\n",
              "            <div class=\"copyright\">\r\n",
              "                Copyright &#169; 2022 SymPy Development Team\r\n",
              "            </div>\r\n",
              "            Made with <a href=\"https://www.sphinx-doc.org/\">Sphinx</a> and <a class=\"muted-link\" href=\"https://pradyunsg.me\">@pradyunsg</a>'s\r\n",
              "            \r\n",
              "            <a href=\"https://github.com/pradyunsg/furo\">Furo</a>\r\n",
              "            <div class=\"last-updated\">\r\n",
              "              Last updated on Aug 22, 2022</div>\r\n",
              "          </div>\r\n",
              "          <div class=\"right-details\">\r\n",
              "            <div class=\"icons\">\r\n",
              "              <a class=\"muted-link \" href=\"https://github.com/sympy/sympy\" aria-label=\"GitHub\">\r\n",
              "                <svg stroke=\"currentColor\" fill=\"currentColor\" stroke-width=\"0\" viewBox=\"0 0 16 16\">\r\n",
              "                    <path fill-rule=\"evenodd\" d=\"M8 0C3.58 0 0 3.58 0 8c0 3.54 2.29 6.53 5.47 7.59.4.07.55-.17.55-.38 0-.19-.01-.82-.01-1.49-2.01.37-2.53-.49-2.69-.94-.09-.23-.48-.94-.82-1.13-.28-.15-.68-.52-.01-.53.63-.01 1.08.58 1.23.82.72 1.21 1.87.87 2.33.66.07-.52.28-.87.51-1.07-1.78-.2-3.64-.89-3.64-3.95 0-.87.31-1.59.82-2.15-.08-.2-.36-1.02.08-2.12 0 0 .67-.21 2.2.82.64-.18 1.32-.27 2-.27.68 0 1.36.09 2 .27 1.53-1.04 2.2-.82 2.2-.82.44 1.1.16 1.92.08 2.12.51.56.82 1.27.82 2.15 0 3.07-1.87 3.75-3.65 3.95.29.25.54.73.54 1.48 0 1.07-.01 1.93-.01 2.2 0 .21.15.46.55.38A8.013 8.013 0 0 0 16 8c0-4.42-3.58-8-8-8z\"></path>\r\n",
              "                </svg>\r\n",
              "            </a>\r\n",
              "              \r\n",
              "            </div>\r\n",
              "          </div>\r\n",
              "        </div>\r\n",
              "        \r\n",
              "      </footer>\r\n",
              "    </div>\r\n",
              "    <aside class=\"toc-drawer no-toc\">\r\n",
              "      \r\n",
              "      \r\n",
              "      \r\n",
              "    </aside>\r\n",
              "  </div>\r\n",
              "</div><script data-url_root=\"./\" id=\"documentation_options\" src=\"_static/documentation_options.js\"></script>\r\n",
              "    <script src=\"_static/jquery.js\"></script>\r\n",
              "    <script src=\"_static/underscore.js\"></script>\r\n",
              "    <script src=\"_static/_sphinx_javascript_frameworks_compat.js\"></script>\r\n",
              "    <script src=\"_static/doctools.js\"></script>\r\n",
              "    <script src=\"_static/scripts/furo.js\"></script>\r\n",
              "    <script src=\"_static/clipboard.min.js\"></script>\r\n",
              "    <script src=\"_static/copybutton.js\"></script>\r\n",
              "    </body>\r\n",
              "</html>"
            ]
          },
          "metadata": {},
          "execution_count": 1
        }
      ],
      "source": [
        "from IPython.display import HTML\n",
        "HTML('https://docs.sympy.org/latest/index.html') "
      ]
    },
    {
      "cell_type": "markdown",
      "metadata": {
        "id": "H6JGgcl_EeEu"
      },
      "source": [
        "\n",
        "\n",
        "---\n",
        "\n",
        "\n",
        "\n",
        "*El cálculo simbólico hace por el álgebra, por la trigonometría, por el\n",
        "cálculo y por el álgebra lineal lo que la calculadora científica hace\n",
        "por la aritmética.*\n",
        "\n",
        "---\n",
        "\n"
      ]
    },
    {
      "cell_type": "code",
      "execution_count": null,
      "metadata": {
        "id": "P2rveXPhIxF_"
      },
      "outputs": [],
      "source": [
        "from sympy import *\n",
        "import math as m\n",
        "import numpy as np\n",
        "import matplotlib.pyplot as plt\n"
      ]
    },
    {
      "cell_type": "code",
      "execution_count": null,
      "metadata": {
        "colab": {
          "base_uri": "https://localhost:8080/",
          "height": 39
        },
        "id": "8H671HRHJ4tp",
        "outputId": "fd5c5d4c-9ae4-432b-8693-e7b6235dfc26"
      },
      "outputs": [
        {
          "output_type": "execute_result",
          "data": {
            "text/plain": [
              "x"
            ],
            "text/latex": "$\\displaystyle x$"
          },
          "metadata": {},
          "execution_count": 3
        }
      ],
      "source": [
        "x= symbols('x')\n",
        "x"
      ]
    },
    {
      "cell_type": "code",
      "execution_count": null,
      "metadata": {
        "colab": {
          "base_uri": "https://localhost:8080/",
          "height": 55
        },
        "id": "v-1qNcl_KKJJ",
        "outputId": "23c20d2a-2d28-4b5a-892c-046fa5b5f6ac"
      },
      "outputs": [
        {
          "output_type": "execute_result",
          "data": {
            "text/plain": [
              "(x**2 + 1)/(x - 1)"
            ],
            "text/latex": "$\\displaystyle \\frac{x^{2} + 1}{x - 1}$"
          },
          "metadata": {},
          "execution_count": 4
        }
      ],
      "source": [
        "f=(x**2+1)/(x-1)\n",
        "f"
      ]
    },
    {
      "cell_type": "code",
      "source": [
        "f1=(x**3+2*x-1)/(sqrt(x)+1)\n",
        "f1"
      ],
      "metadata": {
        "colab": {
          "base_uri": "https://localhost:8080/",
          "height": 58
        },
        "id": "bLeBpooi-rH4",
        "outputId": "86c0b61f-5d96-458e-9776-80eae92d712d"
      },
      "execution_count": null,
      "outputs": [
        {
          "output_type": "execute_result",
          "data": {
            "text/plain": [
              "(x**3 + 2*x - 1)/(sqrt(x) + 1)"
            ],
            "text/latex": "$\\displaystyle \\frac{x^{3} + 2 x - 1}{\\sqrt{x} + 1}$"
          },
          "metadata": {},
          "execution_count": 5
        }
      ]
    },
    {
      "cell_type": "code",
      "execution_count": null,
      "metadata": {
        "colab": {
          "base_uri": "https://localhost:8080/",
          "height": 58
        },
        "id": "_sYP7pdBOiTq",
        "outputId": "c8ed49bf-25b2-4dae-d68e-e352ebff7b5b"
      },
      "outputs": [
        {
          "output_type": "execute_result",
          "data": {
            "text/plain": [
              "sqrt((3*x**3 - 2*exp(-5*x))/(5*x + 2))"
            ],
            "text/latex": "$\\displaystyle \\sqrt{\\frac{3 x^{3} - 2 e^{- 5 x}}{5 x + 2}}$"
          },
          "metadata": {},
          "execution_count": 6
        }
      ],
      "source": [
        "k=sqrt((3*x**3-2*exp(-5*x))/(5*x+2))\n",
        "k\n"
      ]
    },
    {
      "cell_type": "code",
      "execution_count": null,
      "metadata": {
        "colab": {
          "base_uri": "https://localhost:8080/",
          "height": 55
        },
        "id": "e0kYbQJPt4iZ",
        "outputId": "d055040e-46df-4a5f-b31e-716c88f9e034"
      },
      "outputs": [
        {
          "output_type": "execute_result",
          "data": {
            "text/plain": [
              "(2*x - 3*exp(2*x))/(x**3 + 1)"
            ],
            "text/latex": "$\\displaystyle \\frac{2 x - 3 e^{2 x}}{x^{3} + 1}$"
          },
          "metadata": {},
          "execution_count": 7
        }
      ],
      "source": [
        "r=(2*x- 3*exp(2*x))/(x**3+1)\n",
        "r"
      ]
    },
    {
      "cell_type": "code",
      "source": [
        "log(3*x**2+1)/(exp(sqrt(x+1))+5)"
      ],
      "metadata": {
        "colab": {
          "base_uri": "https://localhost:8080/",
          "height": 59
        },
        "id": "mZHM0DqJWvBH",
        "outputId": "8e646870-b545-42ae-9aae-f1677ac3ff50"
      },
      "execution_count": null,
      "outputs": [
        {
          "output_type": "execute_result",
          "data": {
            "text/plain": [
              "log(3*x**2 + 1)/(exp(sqrt(x + 1)) + 5)"
            ],
            "text/latex": "$\\displaystyle \\frac{\\log{\\left(3 x^{2} + 1 \\right)}}{e^{\\sqrt{x + 1}} + 5}$"
          },
          "metadata": {},
          "execution_count": 8
        }
      ]
    },
    {
      "cell_type": "code",
      "execution_count": null,
      "metadata": {
        "colab": {
          "base_uri": "https://localhost:8080/",
          "height": 39
        },
        "id": "hg1aHGrKqJAR",
        "outputId": "18a6d0cf-fc21-4e0f-93b2-4f2815ca8101"
      },
      "outputs": [
        {
          "output_type": "execute_result",
          "data": {
            "text/plain": [
              "y**2 + 1"
            ],
            "text/latex": "$\\displaystyle y^{2} + 1$"
          },
          "metadata": {},
          "execution_count": 9
        }
      ],
      "source": [
        "y=symbols('y')\n",
        "h=y**2+1\n",
        "h"
      ]
    },
    {
      "cell_type": "code",
      "execution_count": null,
      "metadata": {
        "colab": {
          "base_uri": "https://localhost:8080/",
          "height": 58
        },
        "id": "72oR9CqvPiUA",
        "outputId": "4fe47c19-23e3-4ce3-93c9-40d8f782bed2"
      },
      "outputs": [
        {
          "output_type": "execute_result",
          "data": {
            "text/plain": [
              "(x**2 + 2*y**2 - 5)/cos(x + y)"
            ],
            "text/latex": "$\\displaystyle \\frac{x^{2} + 2 y^{2} - 5}{\\cos{\\left(x + y \\right)}}$"
          },
          "metadata": {},
          "execution_count": 10
        }
      ],
      "source": [
        "k1=(x**2+2*y**2-5)/(cos(x+y))\n",
        "k1"
      ]
    },
    {
      "cell_type": "code",
      "execution_count": null,
      "metadata": {
        "colab": {
          "base_uri": "https://localhost:8080/",
          "height": 58
        },
        "id": "d18Nv4mqqlVs",
        "outputId": "47ba8bf8-0ae6-4f46-8efb-d683667f6249"
      },
      "outputs": [
        {
          "output_type": "execute_result",
          "data": {
            "text/plain": [
              "(s**2 - 3*t + 1)/cos(u)"
            ],
            "text/latex": "$\\displaystyle \\frac{s^{2} - 3 t + 1}{\\cos{\\left(u \\right)}}$"
          },
          "metadata": {},
          "execution_count": 11
        }
      ],
      "source": [
        "s,t,u=symbols('s t u')\n",
        "i=(s**2-3*t+1)/(cos(u))\n",
        "i"
      ]
    },
    {
      "cell_type": "code",
      "execution_count": null,
      "metadata": {
        "colab": {
          "base_uri": "https://localhost:8080/",
          "height": 55
        },
        "id": "aO1RNceBx9Ke",
        "outputId": "bd06f641-d0f5-4321-8441-43694aecea0b"
      },
      "outputs": [
        {
          "output_type": "execute_result",
          "data": {
            "text/plain": [
              "(x**2 + y**2 - 2*z)/(r**2 + 1)"
            ],
            "text/latex": "$\\displaystyle \\frac{x^{2} + y^{2} - 2 z}{r^{2} + 1}$"
          },
          "metadata": {},
          "execution_count": 12
        }
      ],
      "source": [
        "x,y,z,r,z=symbols('x y z r z')\n",
        "\n",
        "n=(x**2 +y**2 -2*z)/(r**2+1)\n",
        "n\n",
        "\n"
      ]
    },
    {
      "cell_type": "markdown",
      "metadata": {
        "id": "n8BhHGbaEqpz"
      },
      "source": [
        "- **Sustituya en una expresión**"
      ]
    },
    {
      "cell_type": "code",
      "source": [
        "f"
      ],
      "metadata": {
        "colab": {
          "base_uri": "https://localhost:8080/",
          "height": 55
        },
        "id": "iuo_NpU1Bpp4",
        "outputId": "fb9443b2-38b3-4429-cb5c-911702cca8e4"
      },
      "execution_count": null,
      "outputs": [
        {
          "output_type": "execute_result",
          "data": {
            "text/plain": [
              "(x**2 + 1)/(x - 1)"
            ],
            "text/latex": "$\\displaystyle \\frac{x^{2} + 1}{x - 1}$"
          },
          "metadata": {},
          "execution_count": 13
        }
      ]
    },
    {
      "cell_type": "code",
      "execution_count": null,
      "metadata": {
        "colab": {
          "base_uri": "https://localhost:8080/",
          "height": 37
        },
        "id": "ulVKFPTkKaeq",
        "outputId": "618b4978-ff20-458f-8745-d17e69adc3fa"
      },
      "outputs": [
        {
          "output_type": "execute_result",
          "data": {
            "text/plain": [
              "zoo"
            ],
            "text/latex": "$\\displaystyle \\tilde{\\infty}$"
          },
          "metadata": {},
          "execution_count": 14
        }
      ],
      "source": [
        "f.subs(x,1)"
      ]
    },
    {
      "cell_type": "code",
      "execution_count": null,
      "metadata": {
        "colab": {
          "base_uri": "https://localhost:8080/",
          "height": 37
        },
        "id": "uuu5Bn9mKgCI",
        "outputId": "b5971202-060f-4bc7-ff4e-5170ab98c934"
      },
      "outputs": [
        {
          "output_type": "execute_result",
          "data": {
            "text/plain": [
              "5"
            ],
            "text/latex": "$\\displaystyle 5$"
          },
          "metadata": {},
          "execution_count": 15
        }
      ],
      "source": [
        "f.subs(x,2)"
      ]
    },
    {
      "cell_type": "code",
      "execution_count": null,
      "metadata": {
        "colab": {
          "base_uri": "https://localhost:8080/",
          "height": 55
        },
        "id": "MMYHgKvdMAwp",
        "outputId": "3372e1a7-4f22-4ad2-a175-4b6366a5ff5b"
      },
      "outputs": [
        {
          "output_type": "execute_result",
          "data": {
            "text/plain": [
              "(x**2 + 1)/(x - 1)"
            ],
            "text/latex": "$\\displaystyle \\frac{x^{2} + 1}{x - 1}$"
          },
          "metadata": {},
          "execution_count": 16
        }
      ],
      "source": [
        "f.subs(y,3)"
      ]
    },
    {
      "cell_type": "code",
      "execution_count": null,
      "metadata": {
        "id": "kmfnb9iKzgUS"
      },
      "outputs": [],
      "source": []
    },
    {
      "cell_type": "code",
      "execution_count": null,
      "metadata": {
        "colab": {
          "base_uri": "https://localhost:8080/",
          "height": 39
        },
        "id": "KHZvcqrb0PAY",
        "outputId": "0da09609-045b-401a-8e20-c779d314e7ab"
      },
      "outputs": [
        {
          "output_type": "execute_result",
          "data": {
            "text/plain": [
              "x**2 + y**3 - 2"
            ],
            "text/latex": "$\\displaystyle x^{2} + y^{3} - 2$"
          },
          "metadata": {},
          "execution_count": 17
        }
      ],
      "source": [
        "v=x**2+y**3-2\n",
        "v"
      ]
    },
    {
      "cell_type": "code",
      "source": [
        "v.subs(x,3)"
      ],
      "metadata": {
        "colab": {
          "base_uri": "https://localhost:8080/",
          "height": 39
        },
        "id": "MPMf8tzCCRhD",
        "outputId": "256e2fcf-6176-41a7-9dcb-fbf93cb0a5b1"
      },
      "execution_count": null,
      "outputs": [
        {
          "output_type": "execute_result",
          "data": {
            "text/plain": [
              "y**3 + 7"
            ],
            "text/latex": "$\\displaystyle y^{3} + 7$"
          },
          "metadata": {},
          "execution_count": 18
        }
      ]
    },
    {
      "cell_type": "code",
      "execution_count": null,
      "metadata": {
        "colab": {
          "base_uri": "https://localhost:8080/",
          "height": 37
        },
        "id": "NI7SEXp808rA",
        "outputId": "6271354b-e462-446f-ce82-08050ecb1a71"
      },
      "outputs": [
        {
          "output_type": "execute_result",
          "data": {
            "text/plain": [
              "71"
            ],
            "text/latex": "$\\displaystyle 71$"
          },
          "metadata": {},
          "execution_count": 19
        }
      ],
      "source": [
        "v.subs([(x,3), (y,4)])"
      ]
    },
    {
      "cell_type": "code",
      "execution_count": null,
      "metadata": {
        "colab": {
          "base_uri": "https://localhost:8080/",
          "height": 39
        },
        "id": "xrXVvkMS1679",
        "outputId": "6ca62779-1fc2-4c3e-e54b-9e8f258b0175"
      },
      "outputs": [
        {
          "output_type": "execute_result",
          "data": {
            "text/plain": [
              "(2*z - 3)**2 + 6"
            ],
            "text/latex": "$\\displaystyle \\left(2 z - 3\\right)^{2} + 6$"
          },
          "metadata": {},
          "execution_count": 20
        }
      ],
      "source": [
        "v.subs([(x,2*z-3), (y,2)])"
      ]
    },
    {
      "cell_type": "code",
      "source": [
        "r, h =symbols(\"r h\")\n",
        "V=pi*r**2*h\n",
        "V"
      ],
      "metadata": {
        "colab": {
          "base_uri": "https://localhost:8080/",
          "height": 39
        },
        "id": "OTuZZ533ZtWU",
        "outputId": "8207b15a-1c27-4e21-fb0f-ff89f67b0252"
      },
      "execution_count": null,
      "outputs": [
        {
          "output_type": "execute_result",
          "data": {
            "text/plain": [
              "pi*h*r**2"
            ],
            "text/latex": "$\\displaystyle \\pi h r^{2}$"
          },
          "metadata": {},
          "execution_count": 21
        }
      ]
    },
    {
      "cell_type": "code",
      "source": [
        "V.subs([(r,2), (h,u**2-2)])"
      ],
      "metadata": {
        "colab": {
          "base_uri": "https://localhost:8080/",
          "height": 39
        },
        "id": "xP5ahQjmZ330",
        "outputId": "bb236330-f220-4609-e35b-14572b5859a5"
      },
      "execution_count": null,
      "outputs": [
        {
          "output_type": "execute_result",
          "data": {
            "text/plain": [
              "4*pi*(u**2 - 2)"
            ],
            "text/latex": "$\\displaystyle 4 \\pi \\left(u^{2} - 2\\right)$"
          },
          "metadata": {},
          "execution_count": 22
        }
      ]
    },
    {
      "cell_type": "markdown",
      "metadata": {
        "id": "_E_TJzI0LXTj"
      },
      "source": [
        "**OPERACIONES BASICAS**"
      ]
    },
    {
      "cell_type": "code",
      "execution_count": null,
      "metadata": {
        "colab": {
          "base_uri": "https://localhost:8080/",
          "height": 38
        },
        "id": "cEev81JQKqIr",
        "outputId": "902cfbfa-1e11-47d3-80e5-638f4b027acc"
      },
      "outputs": [
        {
          "output_type": "execute_result",
          "data": {
            "text/plain": [
              "2*sqrt(2)"
            ],
            "text/latex": "$\\displaystyle 2 \\sqrt{2}$"
          },
          "metadata": {},
          "execution_count": 23
        }
      ],
      "source": [
        "sqrt(2)+sqrt(2)"
      ]
    },
    {
      "cell_type": "code",
      "execution_count": null,
      "metadata": {
        "colab": {
          "base_uri": "https://localhost:8080/"
        },
        "id": "OIK-SsqWKvQY",
        "outputId": "231f3da1-ef43-41f2-f789-2766b4a6592f"
      },
      "outputs": [
        {
          "output_type": "execute_result",
          "data": {
            "text/plain": [
              "1.4142135623730951"
            ]
          },
          "metadata": {},
          "execution_count": 24
        }
      ],
      "source": [
        "m.sqrt(2)"
      ]
    },
    {
      "cell_type": "code",
      "execution_count": null,
      "metadata": {
        "colab": {
          "base_uri": "https://localhost:8080/",
          "height": 37
        },
        "id": "CvSN1iH6LjA7",
        "outputId": "fd9a00d1-9df5-4728-e29b-857ca90be3a0"
      },
      "outputs": [
        {
          "output_type": "execute_result",
          "data": {
            "text/plain": [
              "1.41421356237310"
            ],
            "text/latex": "$\\displaystyle 1.4142135623731$"
          },
          "metadata": {},
          "execution_count": 25
        }
      ],
      "source": [
        "N(sqrt(2))"
      ]
    },
    {
      "cell_type": "code",
      "execution_count": null,
      "metadata": {
        "colab": {
          "base_uri": "https://localhost:8080/",
          "height": 55
        },
        "id": "LFMy_CUU3Gyx",
        "outputId": "e04cc424-e405-4aad-fc76-30447fd99882"
      },
      "outputs": [
        {
          "output_type": "execute_result",
          "data": {
            "text/plain": [
              "x**2 + y**3 - 2 + (x**2 + 1)/(x - 1)"
            ],
            "text/latex": "$\\displaystyle x^{2} + y^{3} - 2 + \\frac{x^{2} + 1}{x - 1}$"
          },
          "metadata": {},
          "execution_count": 26
        }
      ],
      "source": [
        "f+v"
      ]
    },
    {
      "cell_type": "code",
      "source": [],
      "metadata": {
        "id": "zmw0i6p8FqzN"
      },
      "execution_count": null,
      "outputs": []
    },
    {
      "cell_type": "markdown",
      "metadata": {
        "id": "VbVuQhbvMKbw"
      },
      "source": [
        "**FUNCIONES**"
      ]
    },
    {
      "cell_type": "code",
      "execution_count": null,
      "metadata": {
        "colab": {
          "base_uri": "https://localhost:8080/",
          "height": 39
        },
        "id": "IFJA4lCWMNgW",
        "outputId": "122ffc99-0ea3-4cfc-c3bc-105bf418b1fe"
      },
      "outputs": [
        {
          "output_type": "execute_result",
          "data": {
            "text/plain": [
              "cos(x)"
            ],
            "text/latex": "$\\displaystyle \\cos{\\left(x \\right)}$"
          },
          "metadata": {},
          "execution_count": 27
        }
      ],
      "source": [
        "f=sin(x)\n",
        "g=cos(x)\n",
        "g"
      ]
    },
    {
      "cell_type": "code",
      "execution_count": null,
      "metadata": {
        "colab": {
          "base_uri": "https://localhost:8080/",
          "height": 39
        },
        "id": "8uYgQZLjFkbY",
        "outputId": "32cdda87-7363-4ddd-b1da-24346c44788d"
      },
      "outputs": [
        {
          "output_type": "execute_result",
          "data": {
            "text/plain": [
              "atan(x)"
            ],
            "text/latex": "$\\displaystyle \\operatorname{atan}{\\left(x \\right)}$"
          },
          "metadata": {},
          "execution_count": 28
        }
      ],
      "source": [
        "l=atan(x)\n",
        "l"
      ]
    },
    {
      "cell_type": "markdown",
      "metadata": {
        "id": "fbMUd2idFyfC"
      },
      "source": [
        "La función  `lambdify`  traduce las expresiones SymPy en funciones de Python. Si una expresión se va a evaluar en un amplio rango de valores, la función evalf () no es eficiente. lambdify actúa como una función lambda, excepto que convierte los nombres de SymPy en los nombres de la biblioteca numérica dada, generalmente NumPy. De forma predeterminada, lambdify en implementaciones en la biblioteca estándar matemática."
      ]
    },
    {
      "cell_type": "code",
      "execution_count": null,
      "metadata": {
        "id": "tnfgbb6lMYZ-"
      },
      "outputs": [],
      "source": [
        "fx= lambdify(x,f, modules=['numpy'])\n",
        "gx= lambdify(x,g, modules=['numpy'])\n",
        "xVals = np.linspace(-10, 10,100)\n"
      ]
    },
    {
      "cell_type": "code",
      "execution_count": null,
      "metadata": {
        "colab": {
          "base_uri": "https://localhost:8080/",
          "height": 286
        },
        "id": "ANDFl1SgNAeI",
        "outputId": "5379a20f-5c66-4a92-fce3-6fe11a66b8e6"
      },
      "outputs": [
        {
          "output_type": "display_data",
          "data": {
            "text/plain": [
              "<Figure size 432x288 with 1 Axes>"
            ],
            "image/png": "[encoded data removed]"
          },
          "metadata": {}
        }
      ],
      "source": [
        "import seaborn as sns\n",
        "sns.set_theme()\n",
        "\n",
        "plt.plot(xVals, fx(xVals), label=\"sen(x)\")\n",
        "plt.plot(xVals, gx(xVals), label=\"cos(x)\")\n",
        "plt.title(\"Funciones seno $\\sin(x)$ y coseno\")\n",
        "plt.legend()\n",
        "plt.show()"
      ]
    },
    {
      "cell_type": "code",
      "source": [
        "f1=1/(1+exp(-x))\n",
        "f1"
      ],
      "metadata": {
        "colab": {
          "base_uri": "https://localhost:8080/",
          "height": 52
        },
        "id": "R194xSH7epGQ",
        "outputId": "40358f4f-79f3-4898-9da8-19e27c6cd3b2"
      },
      "execution_count": null,
      "outputs": [
        {
          "output_type": "execute_result",
          "data": {
            "text/plain": [
              "1/(1 + exp(-x))"
            ],
            "text/latex": "$\\displaystyle \\frac{1}{1 + e^{- x}}$"
          },
          "metadata": {},
          "execution_count": 31
        }
      ]
    },
    {
      "cell_type": "code",
      "source": [
        "f1x=lambdify(x,f1, modules=[\"numpy\"])\n",
        "val_x=np.linspace(-8,8,200)"
      ],
      "metadata": {
        "id": "od7KUF0Tevvo"
      },
      "execution_count": null,
      "outputs": []
    },
    {
      "cell_type": "code",
      "source": [
        "plt.plot(val_x, f1x(val_x) )\n",
        "plt.title(\"Función Sigmoide\")\n",
        "plt.hlines(y=1, xmin=-8, xmax=8, linestyles=\"dashed\", colors=\"red\" )"
      ],
      "metadata": {
        "colab": {
          "base_uri": "https://localhost:8080/",
          "height": 301
        },
        "id": "qhDPTd1OfAfc",
        "outputId": "4828e8db-6770-4af2-833e-7988a7acc745"
      },
      "execution_count": null,
      "outputs": [
        {
          "output_type": "execute_result",
          "data": {
            "text/plain": [
              "<matplotlib.collections.LineCollection at 0x7f3c986ad7d0>"
            ]
          },
          "metadata": {},
          "execution_count": 33
        },
        {
          "output_type": "display_data",
          "data": {
            "text/plain": [
              "<Figure size 432x288 with 1 Axes>"
            ],
            "image/png": "[encoded data removed]"
          },
          "metadata": {}
        }
      ]
    },
    {
      "cell_type": "code",
      "execution_count": null,
      "metadata": {
        "colab": {
          "base_uri": "https://localhost:8080/",
          "height": 39
        },
        "id": "Exjbit5p9qAB",
        "outputId": "5463d399-f5ff-46aa-b4b4-012055418505"
      },
      "outputs": [
        {
          "output_type": "execute_result",
          "data": {
            "text/plain": [
              "exp(x)"
            ],
            "text/latex": "$\\displaystyle e^{x}$"
          },
          "metadata": {},
          "execution_count": 34
        }
      ],
      "source": [
        "valores_x=np.linspace(-5,2,200 )\n",
        "h=exp(x)\n",
        "h"
      ]
    },
    {
      "cell_type": "code",
      "execution_count": null,
      "metadata": {
        "id": "mrDI_iCa95U-"
      },
      "outputs": [],
      "source": [
        "hx=lambdify(x, h , modules=['numpy'])"
      ]
    },
    {
      "cell_type": "code",
      "execution_count": null,
      "metadata": {
        "colab": {
          "base_uri": "https://localhost:8080/",
          "height": 318
        },
        "id": "VQqRznyh-qmM",
        "outputId": "b9f9a3d9-a8fd-46b2-d780-6b8c2455b184"
      },
      "outputs": [
        {
          "output_type": "execute_result",
          "data": {
            "text/plain": [
              "Text(0, 0.5, 'Temperatura °C')"
            ]
          },
          "metadata": {},
          "execution_count": 36
        },
        {
          "output_type": "display_data",
          "data": {
            "text/plain": [
              "<Figure size 432x288 with 1 Axes>"
            ],
            "image/png": "[encoded data removed]"
          },
          "metadata": {}
        }
      ],
      "source": [
        "plt.plot(valores_x, hx(valores_x), label=\"$e^x$\")\n",
        "plt.title(\"Mi primera grafica\")\n",
        "plt.legend()\n",
        "plt.xlabel(\"valores de x\")\n",
        "plt.ylabel(\"Temperatura °C\")"
      ]
    },
    {
      "cell_type": "code",
      "execution_count": null,
      "metadata": {
        "colab": {
          "base_uri": "https://localhost:8080/",
          "height": 39
        },
        "id": "n38we2IjONrg",
        "outputId": "9d844b12-31c2-48a6-9dbf-213079c6bea4"
      },
      "outputs": [
        {
          "output_type": "execute_result",
          "data": {
            "text/plain": [
              "ceiling(x)"
            ],
            "text/latex": "$\\displaystyle \\left\\lceil{x}\\right\\rceil$"
          },
          "metadata": {},
          "execution_count": 37
        }
      ],
      "source": [
        "h=ceiling(x)\n",
        "m=floor(x)\n",
        "n=frac(x)\n",
        "h"
      ]
    },
    {
      "cell_type": "code",
      "execution_count": null,
      "metadata": {
        "colab": {
          "base_uri": "https://localhost:8080/",
          "height": 37
        },
        "id": "8hIamPHowF2J",
        "outputId": "957f2ebe-9ef4-4926-aaee-b8ed8007ae81"
      },
      "outputs": [
        {
          "output_type": "execute_result",
          "data": {
            "text/plain": [
              "6"
            ],
            "text/latex": "$\\displaystyle 6$"
          },
          "metadata": {},
          "execution_count": 38
        }
      ],
      "source": [
        "h.subs(x,5.7)"
      ]
    },
    {
      "cell_type": "code",
      "execution_count": null,
      "metadata": {
        "id": "u8gkOX1JOtky"
      },
      "outputs": [],
      "source": [
        "hx= lambdify(x,h, modules=['numpy'])\n",
        "mx= lambdify(x,m, modules=['numpy'])\n",
        "nx= lambdify(x,n, modules=['numpy'])\n",
        "xVals = np.linspace(-3, 3,100)"
      ]
    },
    {
      "cell_type": "code",
      "execution_count": null,
      "metadata": {
        "colab": {
          "base_uri": "https://localhost:8080/",
          "height": 285
        },
        "id": "6E9xLHQVO3C2",
        "outputId": "73a9b5cf-d72f-4a34-eefb-7e87a6677e2a"
      },
      "outputs": [
        {
          "output_type": "execute_result",
          "data": {
            "text/plain": [
              "[<matplotlib.lines.Line2D at 0x7f3c98545c90>]"
            ]
          },
          "metadata": {},
          "execution_count": 40
        },
        {
          "output_type": "display_data",
          "data": {
            "text/plain": [
              "<Figure size 432x288 with 1 Axes>"
            ],
            "image/png": "[encoded data removed]"
          },
          "metadata": {}
        }
      ],
      "source": [
        "plt.plot(xVals, hx(xVals))\n",
        "plt.plot(xVals, mx(xVals))\n",
        "plt.plot(xVals, nx(xVals))"
      ]
    },
    {
      "cell_type": "markdown",
      "metadata": {
        "id": "jxKh04N-wyS9"
      },
      "source": [
        "Ejercicio:\n",
        "\n",
        "Graficar  $$h(x)=\\frac{1}{\\sqrt{\\pi}}e^{\\frac{-x^2}{2}}$$"
      ]
    },
    {
      "cell_type": "code",
      "execution_count": null,
      "metadata": {
        "colab": {
          "base_uri": "https://localhost:8080/",
          "height": 64
        },
        "id": "e4ApDsaJzRP_",
        "outputId": "30386241-20c2-4fc6-c74e-8e69bbc06594"
      },
      "outputs": [
        {
          "output_type": "execute_result",
          "data": {
            "text/plain": [
              "exp(-x**2/2)/sqrt(pi)"
            ],
            "text/latex": "$\\displaystyle \\frac{e^{- \\frac{x^{2}}{2}}}{\\sqrt{\\pi}}$"
          },
          "metadata": {},
          "execution_count": 41
        }
      ],
      "source": [
        "h=(1/sqrt(pi))*exp(-x**2/2)\n",
        "h\n"
      ]
    },
    {
      "cell_type": "code",
      "execution_count": null,
      "metadata": {
        "colab": {
          "base_uri": "https://localhost:8080/",
          "height": 285
        },
        "id": "cmMITg7CzhwC",
        "outputId": "3de9ff6a-ea74-44c9-bd01-57c245f0eee7"
      },
      "outputs": [
        {
          "output_type": "execute_result",
          "data": {
            "text/plain": [
              "[<matplotlib.lines.Line2D at 0x7f3c984aad10>]"
            ]
          },
          "metadata": {},
          "execution_count": 42
        },
        {
          "output_type": "display_data",
          "data": {
            "text/plain": [
              "<Figure size 432x288 with 1 Axes>"
            ],
            "image/png": "[encoded data removed]"
          },
          "metadata": {}
        }
      ],
      "source": [
        "hx= lambdify(x,h, modules=['numpy'])\n",
        "xVals = np.linspace(-3, 3,100)\n",
        "plt.plot(xVals, hx(xVals))\n",
        "#plt.xlim((-4,4))"
      ]
    },
    {
      "cell_type": "markdown",
      "metadata": {
        "id": "x_HG1-uKRe3c"
      },
      "source": [
        "**NOTACION DE SIMBOLOS**"
      ]
    },
    {
      "cell_type": "code",
      "execution_count": null,
      "metadata": {
        "colab": {
          "base_uri": "https://localhost:8080/",
          "height": 35
        },
        "id": "z7PnsoUESj-N",
        "outputId": "1984c050-2a81-49c9-8581-3d1f0d710a92"
      },
      "outputs": [
        {
          "output_type": "execute_result",
          "data": {
            "text/plain": [
              "'\\\\int \\\\left(\\\\sqrt{\\\\frac{1}{x}} + e^{x}\\\\right)\\\\, dt'"
            ],
            "application/vnd.google.colaboratory.intrinsic+json": {
              "type": "string"
            }
          },
          "metadata": {},
          "execution_count": 96
        }
      ],
      "source": [
        "latex(Integral(sqrt(1/x)+exp(x),t))"
      ]
    },
    {
      "cell_type": "markdown",
      "source": [
        "$\\int \\left(\\sqrt{\\frac{1}{x}} + e^{x}\\right)\\, dx$"
      ],
      "metadata": {
        "id": "nzNV1u9Qg023"
      }
    },
    {
      "cell_type": "markdown",
      "metadata": {
        "id": "26RD07TZTAHr"
      },
      "source": [
        "$$\\int \\left(\\sqrt{\\frac{1}{x}} + e^{x}\\right)\\, dx$$"
      ]
    },
    {
      "cell_type": "markdown",
      "metadata": {
        "id": "q_rSAmuS0Thz"
      },
      "source": [
        "$$\\int \\left(\\sqrt{\\frac{1}{x}} + e^{x}\\right)\\, dx$$"
      ]
    },
    {
      "cell_type": "markdown",
      "source": [
        "$$\\int \\left(\\sqrt{\\frac{1}{x}} + e^{x}\\right)\\, dt$$"
      ],
      "metadata": {
        "id": "UtS1O2YQO27Q"
      }
    },
    {
      "cell_type": "markdown",
      "source": [
        "Ley de enfriamiento Newton\n",
        "\n",
        "$$ \\frac{dT}{dt}=K(T-T_m)    $$\n",
        "\n",
        "para resolver\n",
        "$$ax^2+bx+c=0 $$\n",
        "\n",
        "use:\n",
        "\n",
        "$$ x=\\frac{-b\\pm \\sqrt{b^2-4ac} }{2a}$$\n"
      ],
      "metadata": {
        "id": "Q4vhf8RvPEn4"
      }
    },
    {
      "cell_type": "code",
      "execution_count": null,
      "metadata": {
        "colab": {
          "base_uri": "https://localhost:8080/",
          "height": 57
        },
        "id": "C16CBt5UA5Hy",
        "outputId": "83b61cf7-dc82-400f-ca97-3f1e4f8f7f56"
      },
      "outputs": [
        {
          "output_type": "execute_result",
          "data": {
            "text/plain": [
              "Integral((x**2 + 1)/(x**3 + 1), x)"
            ],
            "text/latex": "$\\displaystyle \\int \\frac{x^{2} + 1}{x^{3} + 1}\\, dx$"
          },
          "metadata": {},
          "execution_count": 44
        }
      ],
      "source": [
        "Integral((x**2+1)/(x**3+1),x)"
      ]
    },
    {
      "cell_type": "code",
      "execution_count": null,
      "metadata": {
        "colab": {
          "base_uri": "https://localhost:8080/",
          "height": 35
        },
        "id": "O23DIY7sB2Wo",
        "outputId": "eec03202-d98a-4e09-9839-5fa70b353a17"
      },
      "outputs": [
        {
          "output_type": "execute_result",
          "data": {
            "text/plain": [
              "'\\\\int \\\\frac{x^{2} + 1}{x^{3} + 1}\\\\, dx'"
            ],
            "application/vnd.google.colaboratory.intrinsic+json": {
              "type": "string"
            }
          },
          "metadata": {},
          "execution_count": 45
        }
      ],
      "source": [
        "latex(Integral((x**2+1)/(x**3+1),x))"
      ]
    },
    {
      "cell_type": "markdown",
      "metadata": {
        "id": "zRt2VYFaB7wS"
      },
      "source": [
        "$$\\int \\frac{x^{2} + 1}{x^{3} + 1}\\, dx$$"
      ]
    },
    {
      "cell_type": "code",
      "execution_count": null,
      "metadata": {
        "colab": {
          "base_uri": "https://localhost:8080/",
          "height": 35
        },
        "id": "_Cq9_HLWTMzS",
        "outputId": "70de1415-0233-416a-cefe-eae38251e20f"
      },
      "outputs": [
        {
          "output_type": "execute_result",
          "data": {
            "text/plain": [
              "'\\\\sin{\\\\left(x \\\\right)}'"
            ],
            "application/vnd.google.colaboratory.intrinsic+json": {
              "type": "string"
            }
          },
          "metadata": {},
          "execution_count": 46
        }
      ],
      "source": [
        "latex(f)"
      ]
    },
    {
      "cell_type": "markdown",
      "metadata": {
        "id": "j0cU7M0jTRii"
      },
      "source": [
        "$$\\sin\\left(x \\right)$$"
      ]
    },
    {
      "cell_type": "markdown",
      "metadata": {
        "id": "1ipxrBCt0n2J"
      },
      "source": [
        "$\\sin{\\left(x \\right)}$"
      ]
    },
    {
      "cell_type": "markdown",
      "metadata": {
        "id": "U7wIrZWKTnBq"
      },
      "source": [
        "**SIMPLIFICAR EXPRESIONES**\n"
      ]
    },
    {
      "cell_type": "code",
      "execution_count": null,
      "metadata": {
        "id": "0IbQQ2VnTlr5"
      },
      "outputs": [],
      "source": [
        "f=sin(x)**2+cos(x)**2\n"
      ]
    },
    {
      "cell_type": "markdown",
      "metadata": {
        "id": "M3AvtDiHHJ9B"
      },
      "source": [
        "- El módulo `pprint` proporciona la capacidad de «imprimir de forma bonita» estructuras de datos arbitrarias de Python de manera que se puede utilizar como entrada para el intérprete."
      ]
    },
    {
      "cell_type": "code",
      "execution_count": null,
      "metadata": {
        "colab": {
          "base_uri": "https://localhost:8080/"
        },
        "id": "LIlXUB4-Tz95",
        "outputId": "b003a2cb-3af0-4d21-cd14-14d856f0fea6"
      },
      "outputs": [
        {
          "output_type": "stream",
          "name": "stdout",
          "text": [
            "   2         2   \n",
            "sin (x) + cos (x)\n"
          ]
        }
      ],
      "source": [
        "pprint(f)"
      ]
    },
    {
      "cell_type": "code",
      "execution_count": null,
      "metadata": {
        "colab": {
          "base_uri": "https://localhost:8080/",
          "height": 37
        },
        "id": "cgvRMZxJT82E",
        "outputId": "b2d080fb-c6ab-4719-a5d6-04e6301a90a0"
      },
      "outputs": [
        {
          "output_type": "execute_result",
          "data": {
            "text/plain": [
              "1"
            ],
            "text/latex": "$\\displaystyle 1$"
          },
          "metadata": {},
          "execution_count": 99
        }
      ],
      "source": [
        "f.simplify()"
      ]
    },
    {
      "cell_type": "code",
      "execution_count": null,
      "metadata": {
        "colab": {
          "base_uri": "https://localhost:8080/",
          "height": 55
        },
        "id": "kVdJN3KZDNCo",
        "outputId": "7488bc1f-5658-4e09-aebf-2a89b6ff69b1"
      },
      "outputs": [
        {
          "output_type": "execute_result",
          "data": {
            "text/plain": [
              "(x**3 - 1)/(x - 1)"
            ],
            "text/latex": "$\\displaystyle \\frac{x^{3} - 1}{x - 1}$"
          },
          "metadata": {},
          "execution_count": 100
        }
      ],
      "source": [
        "d=(x**3-1)/(x-1)\n",
        "d"
      ]
    },
    {
      "cell_type": "code",
      "execution_count": null,
      "metadata": {
        "colab": {
          "base_uri": "https://localhost:8080/",
          "height": 39
        },
        "id": "cJZyUgOtDThb",
        "outputId": "85f94a09-0b28-42c6-bb91-d7d30a5243a6"
      },
      "outputs": [
        {
          "output_type": "execute_result",
          "data": {
            "text/plain": [
              "x**2 + x + 1"
            ],
            "text/latex": "$\\displaystyle x^{2} + x + 1$"
          },
          "metadata": {},
          "execution_count": 101
        }
      ],
      "source": [
        "d.simplify()"
      ]
    },
    {
      "cell_type": "code",
      "execution_count": null,
      "metadata": {
        "colab": {
          "base_uri": "https://localhost:8080/"
        },
        "id": "o28Q3sQHUCqW",
        "outputId": "779e2b99-a2d7-4028-bf4a-1f2f23f3c6f2"
      },
      "outputs": [
        {
          "output_type": "stream",
          "name": "stdout",
          "text": [
            " 3    2        \n",
            "x  + x  - x - 1\n",
            "───────────────\n",
            "   2           \n",
            "  x  + 2⋅x + 1 \n"
          ]
        }
      ],
      "source": [
        "g=(x**3+x**2-x-1)/(x**2+2*x+1)\n",
        "pprint(g)"
      ]
    },
    {
      "cell_type": "code",
      "execution_count": null,
      "metadata": {
        "colab": {
          "base_uri": "https://localhost:8080/",
          "height": 55
        },
        "id": "BJwOrMHvUi3a",
        "outputId": "741a2d0b-a7a9-43c2-ead5-1a7e149116b6"
      },
      "outputs": [
        {
          "output_type": "execute_result",
          "data": {
            "text/plain": [
              "(x**3 + x**2 - x - 1)/(x**2 + 2*x + 1)"
            ],
            "text/latex": "$\\displaystyle \\frac{x^{3} + x^{2} - x - 1}{x^{2} + 2 x + 1}$"
          },
          "metadata": {},
          "execution_count": 103
        }
      ],
      "source": [
        "g"
      ]
    },
    {
      "cell_type": "code",
      "execution_count": null,
      "metadata": {
        "colab": {
          "base_uri": "https://localhost:8080/",
          "height": 39
        },
        "id": "rIY7cHYZUSaP",
        "outputId": "80aff76c-34cd-49d8-86ef-c0aa2b155e1c"
      },
      "outputs": [
        {
          "output_type": "execute_result",
          "data": {
            "text/plain": [
              "x - 1"
            ],
            "text/latex": "$\\displaystyle x - 1$"
          },
          "metadata": {},
          "execution_count": 104
        }
      ],
      "source": [
        "g.simplify()"
      ]
    },
    {
      "cell_type": "markdown",
      "metadata": {
        "id": "l8gv3KOnUrpW"
      },
      "source": [
        "**EXPANDIR EXPRESIONES**\n"
      ]
    },
    {
      "cell_type": "code",
      "execution_count": null,
      "metadata": {
        "colab": {
          "base_uri": "https://localhost:8080/",
          "height": 39
        },
        "id": "2jjSmwKcUy2o",
        "outputId": "cefe4c5f-e3ac-42bc-a3e6-741414430c4d"
      },
      "outputs": [
        {
          "output_type": "execute_result",
          "data": {
            "text/plain": [
              "(x + 1)**3"
            ],
            "text/latex": "$\\displaystyle \\left(x + 1\\right)^{3}$"
          },
          "metadata": {},
          "execution_count": 105
        }
      ],
      "source": [
        "f= (x+1)**3\n",
        "f"
      ]
    },
    {
      "cell_type": "code",
      "execution_count": null,
      "metadata": {
        "colab": {
          "base_uri": "https://localhost:8080/",
          "height": 39
        },
        "id": "JuWS3WIRU5Yw",
        "outputId": "e5876c68-4db1-4abf-94db-1a72454b36e9"
      },
      "outputs": [
        {
          "output_type": "execute_result",
          "data": {
            "text/plain": [
              "x**3 + 3*x**2 + 3*x + 1"
            ],
            "text/latex": "$\\displaystyle x^{3} + 3 x^{2} + 3 x + 1$"
          },
          "metadata": {},
          "execution_count": 106
        }
      ],
      "source": [
        "f.expand()"
      ]
    },
    {
      "cell_type": "code",
      "execution_count": null,
      "metadata": {
        "id": "br260dkbVCC6"
      },
      "outputs": [],
      "source": [
        "f=(x-3)*(x-2)*(x+4)**2\n"
      ]
    },
    {
      "cell_type": "markdown",
      "metadata": {
        "id": "3Bi1Gi_82vQk"
      },
      "source": [
        "$$\\left(x - 3\\right) \\left(x - 2\\right) \\left(x + 4\\right)^{2}$$"
      ]
    },
    {
      "cell_type": "code",
      "execution_count": null,
      "metadata": {
        "colab": {
          "base_uri": "https://localhost:8080/",
          "height": 39
        },
        "id": "kDqnhKpVVNMz",
        "outputId": "32ac8106-67ff-45b4-a711-ec7ea52413e6"
      },
      "outputs": [
        {
          "output_type": "execute_result",
          "data": {
            "text/plain": [
              "x**4 + 3*x**3 - 18*x**2 - 32*x + 96"
            ],
            "text/latex": "$\\displaystyle x^{4} + 3 x^{3} - 18 x^{2} - 32 x + 96$"
          },
          "metadata": {},
          "execution_count": 108
        }
      ],
      "source": [
        "f.expand()"
      ]
    },
    {
      "cell_type": "code",
      "execution_count": null,
      "metadata": {
        "colab": {
          "base_uri": "https://localhost:8080/",
          "height": 41
        },
        "id": "cHWLi0gVEnh4",
        "outputId": "21497fe2-132a-45cb-8b0f-0a28ac7551f5"
      },
      "outputs": [
        {
          "output_type": "execute_result",
          "data": {
            "text/plain": [
              "(2*x**2 - cos(x))**4"
            ],
            "text/latex": "$\\displaystyle \\left(2 x^{2} - \\cos{\\left(x \\right)}\\right)^{4}$"
          },
          "metadata": {},
          "execution_count": 109
        }
      ],
      "source": [
        "f1=(2*x**2-cos(x))**4\n",
        "f1"
      ]
    },
    {
      "cell_type": "code",
      "execution_count": null,
      "metadata": {
        "colab": {
          "base_uri": "https://localhost:8080/",
          "height": 39
        },
        "id": "gRNWOGLZExkd",
        "outputId": "b5a2f1e7-c715-42c0-c37a-d5a9365afc6f"
      },
      "outputs": [
        {
          "output_type": "execute_result",
          "data": {
            "text/plain": [
              "16*x**8 - 32*x**6*cos(x) + 24*x**4*cos(x)**2 - 8*x**2*cos(x)**3 + cos(x)**4"
            ],
            "text/latex": "$\\displaystyle 16 x^{8} - 32 x^{6} \\cos{\\left(x \\right)} + 24 x^{4} \\cos^{2}{\\left(x \\right)} - 8 x^{2} \\cos^{3}{\\left(x \\right)} + \\cos^{4}{\\left(x \\right)}$"
          },
          "metadata": {},
          "execution_count": 110
        }
      ],
      "source": [
        "f1.expand()"
      ]
    },
    {
      "cell_type": "code",
      "source": [
        "expand(f1)"
      ],
      "metadata": {
        "colab": {
          "base_uri": "https://localhost:8080/",
          "height": 39
        },
        "id": "z1b5HZJSWGef",
        "outputId": "54121aa6-d449-4864-ddec-684ee56b68c3"
      },
      "execution_count": null,
      "outputs": [
        {
          "output_type": "execute_result",
          "data": {
            "text/plain": [
              "16*x**8 - 32*x**6*cos(x) + 24*x**4*cos(x)**2 - 8*x**2*cos(x)**3 + cos(x)**4"
            ],
            "text/latex": "$\\displaystyle 16 x^{8} - 32 x^{6} \\cos{\\left(x \\right)} + 24 x^{4} \\cos^{2}{\\left(x \\right)} - 8 x^{2} \\cos^{3}{\\left(x \\right)} + \\cos^{4}{\\left(x \\right)}$"
          },
          "metadata": {},
          "execution_count": 111
        }
      ]
    },
    {
      "cell_type": "code",
      "execution_count": null,
      "metadata": {
        "colab": {
          "base_uri": "https://localhost:8080/",
          "height": 39
        },
        "id": "xz4nSM7GVjvj",
        "outputId": "3f3c87f1-f0c0-4e78-f961-cd84602c815b"
      },
      "outputs": [
        {
          "output_type": "execute_result",
          "data": {
            "text/plain": [
              "(x - 1)*(x**2 + 1)"
            ],
            "text/latex": "$\\displaystyle \\left(x - 1\\right) \\left(x^{2} + 1\\right)$"
          },
          "metadata": {},
          "execution_count": 112
        }
      ],
      "source": [
        "factor(x**3-x**2+x-1)"
      ]
    },
    {
      "cell_type": "code",
      "execution_count": null,
      "metadata": {
        "id": "1Ik6VIS9VwHU"
      },
      "outputs": [],
      "source": [
        "x, y, z = symbols('x y z')"
      ]
    },
    {
      "cell_type": "code",
      "execution_count": null,
      "metadata": {
        "id": "GGk2ocFtV3V3"
      },
      "outputs": [],
      "source": [
        "f= x*y + x-3 +2*x**2+z**3"
      ]
    },
    {
      "cell_type": "code",
      "execution_count": null,
      "metadata": {
        "colab": {
          "base_uri": "https://localhost:8080/",
          "height": 39
        },
        "id": "qGKniI0IWGFs",
        "outputId": "1412aaf9-9f41-4fea-fbe4-077afa18e6b9"
      },
      "outputs": [
        {
          "output_type": "execute_result",
          "data": {
            "text/plain": [
              "2*x**2 + x*y + x + z**3 - 3"
            ],
            "text/latex": "$\\displaystyle 2 x^{2} + x y + x + z^{3} - 3$"
          },
          "metadata": {},
          "execution_count": 116
        }
      ],
      "source": [
        "f"
      ]
    },
    {
      "cell_type": "code",
      "execution_count": null,
      "metadata": {
        "colab": {
          "base_uri": "https://localhost:8080/",
          "height": 39
        },
        "id": "EF7--7abWLi-",
        "outputId": "747a2522-471b-41f5-c715-f2088746ca03"
      },
      "outputs": [
        {
          "output_type": "execute_result",
          "data": {
            "text/plain": [
              "2*x**2 + x*(y + 1) + z**3 - 3"
            ],
            "text/latex": "$\\displaystyle 2 x^{2} + x \\left(y + 1\\right) + z^{3} - 3$"
          },
          "metadata": {},
          "execution_count": 65
        }
      ],
      "source": [
        "collect(f,x)"
      ]
    },
    {
      "cell_type": "code",
      "execution_count": null,
      "metadata": {
        "id": "GylGnOBIWUoO"
      },
      "outputs": [],
      "source": [
        "f= (4)/(x*(x-2))\n"
      ]
    },
    {
      "cell_type": "code",
      "execution_count": null,
      "metadata": {
        "colab": {
          "base_uri": "https://localhost:8080/",
          "height": 55
        },
        "id": "XTeZ3EKEWoCs",
        "outputId": "6528258b-f741-47fc-e47b-a987872c3141"
      },
      "outputs": [
        {
          "output_type": "execute_result",
          "data": {
            "text/plain": [
              "4/(x*(x - 2))"
            ],
            "text/latex": "$\\displaystyle \\frac{4}{x \\left(x - 2\\right)}$"
          },
          "metadata": {},
          "execution_count": 118
        }
      ],
      "source": [
        "f"
      ]
    },
    {
      "cell_type": "code",
      "execution_count": null,
      "metadata": {
        "colab": {
          "base_uri": "https://localhost:8080/",
          "height": 52
        },
        "id": "kGrjMspaWezp",
        "outputId": "c38771ca-5daa-4527-871f-30b11ce67f66"
      },
      "outputs": [
        {
          "output_type": "execute_result",
          "data": {
            "text/plain": [
              "2/(x - 2) - 2/x"
            ],
            "text/latex": "$\\displaystyle \\frac{2}{x - 2} - \\frac{2}{x}$"
          },
          "metadata": {},
          "execution_count": 119
        }
      ],
      "source": [
        "apart(f)"
      ]
    },
    {
      "cell_type": "code",
      "execution_count": null,
      "metadata": {
        "colab": {
          "base_uri": "https://localhost:8080/",
          "height": 58
        },
        "id": "LyVkrlqJIDSH",
        "outputId": "2ef5d8a0-9990-4bed-ab20-15fd350cbefe"
      },
      "outputs": [
        {
          "output_type": "execute_result",
          "data": {
            "text/plain": [
              "(2*x + 3)/((x - 2)**3*(x**2 + 1))"
            ],
            "text/latex": "$\\displaystyle \\frac{2 x + 3}{\\left(x - 2\\right)^{3} \\left(x^{2} + 1\\right)}$"
          },
          "metadata": {},
          "execution_count": 120
        }
      ],
      "source": [
        "f3=(2*x+3)/((x**2+1)*(x-2)**3)\n",
        "f3"
      ]
    },
    {
      "cell_type": "code",
      "execution_count": null,
      "metadata": {
        "colab": {
          "base_uri": "https://localhost:8080/",
          "height": 58
        },
        "id": "I0duvPGJIR99",
        "outputId": "795e1f85-a9b2-4313-8ed1-71301d0dda72"
      },
      "outputs": [
        {
          "output_type": "execute_result",
          "data": {
            "text/plain": [
              "-(37*x - 16)/(125*(x**2 + 1)) + 37/(125*(x - 2)) - 18/(25*(x - 2)**2) + 7/(5*(x - 2)**3)"
            ],
            "text/latex": "$\\displaystyle - \\frac{37 x - 16}{125 \\left(x^{2} + 1\\right)} + \\frac{37}{125 \\left(x - 2\\right)} - \\frac{18}{25 \\left(x - 2\\right)^{2}} + \\frac{7}{5 \\left(x - 2\\right)^{3}}$"
          },
          "metadata": {},
          "execution_count": 121
        }
      ],
      "source": [
        "apart(f3)"
      ]
    },
    {
      "cell_type": "code",
      "execution_count": null,
      "metadata": {
        "id": "WAfQ7FzXWt_n"
      },
      "outputs": [],
      "source": [
        "f= sin(x)**4-2*cos(x)**2*sin(x)**2+cos(x)**4"
      ]
    },
    {
      "cell_type": "code",
      "execution_count": null,
      "metadata": {
        "colab": {
          "base_uri": "https://localhost:8080/",
          "height": 39
        },
        "id": "ZDx5ZgYDW9Fn",
        "outputId": "14213f41-8cba-42a2-a84f-20d91cbd3828"
      },
      "outputs": [
        {
          "output_type": "execute_result",
          "data": {
            "text/plain": [
              "sin(x)**4 - 2*sin(x)**2*cos(x)**2 + cos(x)**4"
            ],
            "text/latex": "$\\displaystyle \\sin^{4}{\\left(x \\right)} - 2 \\sin^{2}{\\left(x \\right)} \\cos^{2}{\\left(x \\right)} + \\cos^{4}{\\left(x \\right)}$"
          },
          "metadata": {},
          "execution_count": 123
        }
      ],
      "source": [
        "f"
      ]
    },
    {
      "cell_type": "code",
      "execution_count": null,
      "metadata": {
        "colab": {
          "base_uri": "https://localhost:8080/",
          "height": 53
        },
        "id": "QEZar6mIXBv1",
        "outputId": "9fd29de9-bb04-4e94-b178-c9e77bd1f658"
      },
      "outputs": [
        {
          "output_type": "execute_result",
          "data": {
            "text/plain": [
              "cos(4*x)/2 + 1/2"
            ],
            "text/latex": "$\\displaystyle \\frac{\\cos{\\left(4 x \\right)}}{2} + \\frac{1}{2}$"
          },
          "metadata": {},
          "execution_count": 124
        }
      ],
      "source": [
        "simplify(f)"
      ]
    },
    {
      "cell_type": "markdown",
      "metadata": {
        "id": "EePQ_FjeYOSL"
      },
      "source": [
        "**CALCULO**\n"
      ]
    },
    {
      "cell_type": "code",
      "execution_count": null,
      "metadata": {
        "id": "_9f72zP3YSsJ"
      },
      "outputs": [],
      "source": [
        "from __future__ import division\n",
        "from sympy import *\n",
        "x, y, z, t = symbols('x y z t')\n",
        "k, m, n = symbols('k m n', integer=True)\n",
        "f, g, h = symbols('f g h', cls=Function)"
      ]
    },
    {
      "cell_type": "code",
      "execution_count": null,
      "metadata": {
        "colab": {
          "base_uri": "https://localhost:8080/",
          "height": 39
        },
        "id": "wk-GwGOXYbuk",
        "outputId": "0ca98a27-c413-498b-af0b-41999ad48338"
      },
      "outputs": [
        {
          "output_type": "execute_result",
          "data": {
            "text/plain": [
              "sin(x)"
            ],
            "text/latex": "$\\displaystyle \\sin{\\left(x \\right)}$"
          },
          "metadata": {},
          "execution_count": 126
        }
      ],
      "source": [
        "diff(cos(x), x,3)"
      ]
    },
    {
      "cell_type": "code",
      "execution_count": null,
      "metadata": {
        "colab": {
          "base_uri": "https://localhost:8080/",
          "height": 39
        },
        "id": "syJ52wCAYmxU",
        "outputId": "8652631a-60b5-4bb4-acd9-9fce8ae8d349"
      },
      "outputs": [
        {
          "output_type": "execute_result",
          "data": {
            "text/plain": [
              "-x*y*sin(x*y) + cos(x*y)"
            ],
            "text/latex": "$\\displaystyle - x y \\sin{\\left(x y \\right)} + \\cos{\\left(x y \\right)}$"
          },
          "metadata": {},
          "execution_count": 128
        }
      ],
      "source": [
        "diff(sin(x*y), x,y)"
      ]
    },
    {
      "cell_type": "code",
      "execution_count": null,
      "metadata": {
        "colab": {
          "base_uri": "https://localhost:8080/",
          "height": 39
        },
        "id": "Ao7JRDP5Y475",
        "outputId": "5b63da74-c6ce-4258-fb4f-8ad8f279e110"
      },
      "outputs": [
        {
          "output_type": "execute_result",
          "data": {
            "text/plain": [
              "-exp(-x)"
            ],
            "text/latex": "$\\displaystyle - e^{- x}$"
          },
          "metadata": {},
          "execution_count": 129
        }
      ],
      "source": [
        "integrate(exp(-x),x)"
      ]
    },
    {
      "cell_type": "markdown",
      "source": [
        "$$\\int_{-\\infty}^{\\infty} \\int _{-\\infty}^{\\infty} e^{x^2+y^2} dydx$$"
      ],
      "metadata": {
        "id": "mRofYJvYb1_D"
      }
    },
    {
      "cell_type": "code",
      "execution_count": null,
      "metadata": {
        "id": "k_3O8SmUZCdw"
      },
      "outputs": [],
      "source": [
        "expr= integrate (exp(-x**2 - y**2), (x, -oo, oo), (y, -oo, oo))\n"
      ]
    },
    {
      "cell_type": "code",
      "execution_count": null,
      "metadata": {
        "colab": {
          "base_uri": "https://localhost:8080/",
          "height": 39
        },
        "id": "4odxy1MhUV-p",
        "outputId": "d6d560db-8396-4b3d-bb8a-fe9157fa0a31"
      },
      "outputs": [
        {
          "output_type": "execute_result",
          "data": {
            "text/plain": [
              "pi"
            ],
            "text/latex": "$\\displaystyle \\pi$"
          },
          "metadata": {},
          "execution_count": 132
        }
      ],
      "source": [
        "expr"
      ]
    },
    {
      "cell_type": "code",
      "source": [
        "Integral(1/sqrt(2*pi)*exp(-x**2/2), (x, -oo, oo))"
      ],
      "metadata": {
        "colab": {
          "base_uri": "https://localhost:8080/",
          "height": 78
        },
        "id": "9FH-dbkceefJ",
        "outputId": "452a73e6-c4c5-4c0b-c93f-be42febb845e"
      },
      "execution_count": null,
      "outputs": [
        {
          "output_type": "execute_result",
          "data": {
            "text/plain": [
              "Integral(sqrt(2)*exp(-x**2/2)/(2*sqrt(pi)), (x, -oo, oo))"
            ],
            "text/latex": "$\\displaystyle \\int\\limits_{-\\infty}^{\\infty} \\frac{\\sqrt{2} e^{- \\frac{x^{2}}{2}}}{2 \\sqrt{\\pi}}\\, dx$"
          },
          "metadata": {},
          "execution_count": 135
        }
      ]
    },
    {
      "cell_type": "code",
      "source": [
        "integrate(1/sqrt(2*pi)*exp(-x**2/2), (x, -oo, oo))"
      ],
      "metadata": {
        "colab": {
          "base_uri": "https://localhost:8080/",
          "height": 37
        },
        "id": "oaHdAhnOeI-D",
        "outputId": "95fd3d56-51b8-4ad0-f38a-2c4f27b90b71"
      },
      "execution_count": null,
      "outputs": [
        {
          "output_type": "execute_result",
          "data": {
            "text/plain": [
              "1"
            ],
            "text/latex": "$\\displaystyle 1$"
          },
          "metadata": {},
          "execution_count": 133
        }
      ]
    },
    {
      "cell_type": "code",
      "execution_count": null,
      "metadata": {
        "id": "BlLs_KqRZRnl"
      },
      "outputs": [],
      "source": [
        "expr = Limit((cos(x) - 1)/x, x, 0)"
      ]
    },
    {
      "cell_type": "code",
      "execution_count": null,
      "metadata": {
        "colab": {
          "base_uri": "https://localhost:8080/",
          "height": 58
        },
        "id": "mGB8Aw40ZUQ0",
        "outputId": "99ec568e-65be-4b28-cda0-83883821701c"
      },
      "outputs": [
        {
          "output_type": "execute_result",
          "data": {
            "text/plain": [
              "Limit((cos(x) - 1)/x, x, 0)"
            ],
            "text/latex": "$\\displaystyle \\lim_{x \\to 0^+}\\left(\\frac{\\cos{\\left(x \\right)} - 1}{x}\\right)$"
          },
          "metadata": {},
          "execution_count": 137
        }
      ],
      "source": [
        "expr"
      ]
    },
    {
      "cell_type": "code",
      "execution_count": null,
      "metadata": {
        "colab": {
          "base_uri": "https://localhost:8080/",
          "height": 37
        },
        "id": "VObU29tMZYX-",
        "outputId": "6ea661b5-8aae-4b72-f174-48e48377aff4"
      },
      "outputs": [
        {
          "output_type": "execute_result",
          "data": {
            "text/plain": [
              "0"
            ],
            "text/latex": "$\\displaystyle 0$"
          },
          "metadata": {},
          "execution_count": 138
        }
      ],
      "source": [
        "limit((cos(x) - 1)/x, x, 0)"
      ]
    },
    {
      "cell_type": "markdown",
      "metadata": {
        "id": "QHl8Dc6WZxUf"
      },
      "source": [
        "**RESUELVE ECUACIONES DIFERENCIALES**\n"
      ]
    },
    {
      "cell_type": "code",
      "execution_count": null,
      "metadata": {
        "id": "exOORWG7Z2wC"
      },
      "outputs": [],
      "source": [
        "diffeq =Eq(f(x).diff(x, x) - 2*f(x).diff(x) + f(x), sin(x))"
      ]
    },
    {
      "cell_type": "code",
      "execution_count": null,
      "metadata": {
        "colab": {
          "base_uri": "https://localhost:8080/",
          "height": 53
        },
        "id": "-c1otCenZ7Ks",
        "outputId": "ad1434b5-61bc-4378-c26d-c0dd279dd57b"
      },
      "outputs": [
        {
          "output_type": "execute_result",
          "data": {
            "text/plain": [
              "Eq(f(x), (C1 + C2*x)*exp(x) + cos(x)/2)"
            ],
            "text/latex": "$\\displaystyle f{\\left(x \\right)} = \\left(C_{1} + C_{2} x\\right) e^{x} + \\frac{\\cos{\\left(x \\right)}}{2}$"
          },
          "metadata": {},
          "execution_count": 141
        }
      ],
      "source": [
        "dsolve(diffeq, f(x))"
      ]
    },
    {
      "cell_type": "code",
      "execution_count": null,
      "metadata": {
        "colab": {
          "base_uri": "https://localhost:8080/"
        },
        "id": "gj1uD6LdVXo5",
        "outputId": "f8b4a4ea-a232-42b9-d76c-040eb3f0db47"
      },
      "outputs": [
        {
          "output_type": "execute_result",
          "data": {
            "text/plain": [
              "[pi/2]"
            ]
          },
          "metadata": {},
          "execution_count": 85
        }
      ],
      "source": [
        "solve(sin(x)-1, x)"
      ]
    },
    {
      "cell_type": "code",
      "execution_count": null,
      "metadata": {
        "colab": {
          "base_uri": "https://localhost:8080/",
          "height": 48
        },
        "id": "7kYP5A2JVoUG",
        "outputId": "d444dfb2-7c53-4dc2-e184-ef4948da020d"
      },
      "outputs": [
        {
          "output_type": "execute_result",
          "data": {
            "text/plain": [
              "ImageSet(Lambda(_n, 2*_n*pi + pi/2), Integers)"
            ],
            "text/latex": "$\\displaystyle \\left\\{2 n \\pi + \\frac{\\pi}{2}\\; |\\; n \\in \\mathbb{Z}\\right\\}$"
          },
          "metadata": {},
          "execution_count": 86
        }
      ],
      "source": [
        "solveset(sin(x) - 1, x, domain=S.Reals)"
      ]
    },
    {
      "cell_type": "code",
      "execution_count": null,
      "metadata": {
        "colab": {
          "base_uri": "https://localhost:8080/",
          "height": 58
        },
        "id": "ZW0GuW9cV60Y",
        "outputId": "ccf3b94e-9171-4421-aaff-66ac053b8869"
      },
      "outputs": [
        {
          "output_type": "execute_result",
          "data": {
            "text/plain": [
              "FiniteSet((1/2, -3/2, 2))"
            ],
            "text/latex": "$\\displaystyle \\left\\{\\left( \\frac{1}{2}, \\  - \\frac{3}{2}, \\  2\\right)\\right\\}$"
          },
          "metadata": {},
          "execution_count": 87
        }
      ],
      "source": [
        "linsolve([x + y + z - 1, x + y + 2*z - 3, x - y + 4*z - 10 ], (x, y, z))"
      ]
    },
    {
      "cell_type": "markdown",
      "metadata": {
        "id": "Okvgym9ZCPPM"
      },
      "source": [
        "# **Ejercicios Sympy**\n",
        "\n",
        "## EJERCICIO UNO\n",
        "\n",
        "1.   Defina la función $$ f(x)=\\frac{1}{x^4+1}$$\n",
        "2.   Encuentre $\\int f(x)dx=F(x)$\n",
        "3.   Encuentre la integral definida desde 0 hasta 5 de la función $f(x)$.\n",
        "4.   Mencione las funciones $f'(x),f''(x)$. \n",
        "5.  Encuentre el límite  $f(x), f'(x),f''(x)$ de cuando $x\\rightarrow \\infty$."
      ]
    },
    {
      "cell_type": "code",
      "execution_count": null,
      "metadata": {
        "colab": {
          "base_uri": "https://localhost:8080/",
          "height": 52
        },
        "id": "k6hvwrBDA8Lr",
        "outputId": "7b1d80f4-c7eb-40bc-80c2-9b75654cf4ca"
      },
      "outputs": [
        {
          "output_type": "execute_result",
          "data": {
            "text/plain": [
              "1/(x**4 + 1)"
            ],
            "text/latex": "$\\displaystyle \\frac{1}{x^{4} + 1}$"
          },
          "metadata": {},
          "execution_count": 88
        }
      ],
      "source": [
        "f=1/(x**4+1)\n",
        "f\n"
      ]
    },
    {
      "cell_type": "code",
      "execution_count": null,
      "metadata": {
        "colab": {
          "base_uri": "https://localhost:8080/",
          "height": 57
        },
        "id": "mWPZqgatXT1X",
        "outputId": "00901d08-5381-4fac-b183-69f02353e0c3"
      },
      "outputs": [
        {
          "output_type": "execute_result",
          "data": {
            "text/plain": [
              "-sqrt(2)*log(26 - 5*sqrt(2))/8 - sqrt(2)*atan(1 - 5*sqrt(2))/4 + sqrt(2)*atan(1 + 5*sqrt(2))/4 + sqrt(2)*log(5*sqrt(2) + 26)/8"
            ],
            "text/latex": "$\\displaystyle - \\frac{\\sqrt{2} \\log{\\left(26 - 5 \\sqrt{2} \\right)}}{8} - \\frac{\\sqrt{2} \\operatorname{atan}{\\left(1 - 5 \\sqrt{2} \\right)}}{4} + \\frac{\\sqrt{2} \\operatorname{atan}{\\left(1 + 5 \\sqrt{2} \\right)}}{4} + \\frac{\\sqrt{2} \\log{\\left(5 \\sqrt{2} + 26 \\right)}}{8}$"
          },
          "metadata": {},
          "execution_count": 89
        }
      ],
      "source": [
        "integrate(f,(x,0,5))"
      ]
    },
    {
      "cell_type": "markdown",
      "metadata": {
        "id": "p0xJc_KXXtkE"
      },
      "source": [
        "$$\\int_{0}^{5}\\frac{1}{x^4+1}dx=- \\frac{\\sqrt{2} \\log{\\left(26 - 5 \\sqrt{2} \\right)}}{8} - \\frac{\\sqrt{2} \\operatorname{atan}{\\left(1 - 5 \\sqrt{2} \\right)}}{4} + \\frac{\\sqrt{2} \\operatorname{atan}{\\left(1 + 5 \\sqrt{2} \\right)}}{4} + \\frac{\\sqrt{2} \\log{\\left(5 \\sqrt{2} + 26 \\right)}}{8}$$"
      ]
    },
    {
      "cell_type": "code",
      "execution_count": null,
      "metadata": {
        "colab": {
          "base_uri": "https://localhost:8080/",
          "height": 57
        },
        "id": "HOxpVjJxYRO5",
        "outputId": "5924f13c-9e0b-4828-bad8-77425d9c538b"
      },
      "outputs": [
        {
          "output_type": "execute_result",
          "data": {
            "text/plain": [
              "-sqrt(2)*log(x**2 - sqrt(2)*x + 1)/8 + sqrt(2)*log(x**2 + sqrt(2)*x + 1)/8 + sqrt(2)*atan(sqrt(2)*x - 1)/4 + sqrt(2)*atan(sqrt(2)*x + 1)/4"
            ],
            "text/latex": "$\\displaystyle - \\frac{\\sqrt{2} \\log{\\left(x^{2} - \\sqrt{2} x + 1 \\right)}}{8} + \\frac{\\sqrt{2} \\log{\\left(x^{2} + \\sqrt{2} x + 1 \\right)}}{8} + \\frac{\\sqrt{2} \\operatorname{atan}{\\left(\\sqrt{2} x - 1 \\right)}}{4} + \\frac{\\sqrt{2} \\operatorname{atan}{\\left(\\sqrt{2} x + 1 \\right)}}{4}$"
          },
          "metadata": {},
          "execution_count": 90
        }
      ],
      "source": [
        "integrate(f,x)"
      ]
    },
    {
      "cell_type": "code",
      "execution_count": null,
      "metadata": {
        "colab": {
          "base_uri": "https://localhost:8080/",
          "height": 73
        },
        "id": "IKzaHWRtYeGv",
        "outputId": "17bd5105-3af5-4a2c-f239-2e1247f1d73f"
      },
      "outputs": [
        {
          "output_type": "execute_result",
          "data": {
            "text/plain": [
              "4*x**2*(8*x**4/(x**4 + 1) - 3)/(x**4 + 1)**2"
            ],
            "text/latex": "$\\displaystyle \\frac{4 x^{2} \\left(\\frac{8 x^{4}}{x^{4} + 1} - 3\\right)}{\\left(x^{4} + 1\\right)^{2}}$"
          },
          "metadata": {},
          "execution_count": 91
        }
      ],
      "source": [
        "diff(f,x,2)"
      ]
    }
  ],
  "metadata": {
    "colab": {
      "provenance": []
    },
    "kernelspec": {
      "display_name": "Python 3",
      "name": "python3"
    }
  },
  "nbformat": 4,
  "nbformat_minor": 0
}