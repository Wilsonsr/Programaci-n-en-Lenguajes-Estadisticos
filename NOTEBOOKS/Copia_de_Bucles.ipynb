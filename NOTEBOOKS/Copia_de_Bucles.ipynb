{
  "nbformat": 4,
  "nbformat_minor": 0,
  "metadata": {
    "colab": {
      "provenance": []
    },
    "kernelspec": {
      "name": "python3",
      "display_name": "Python 3"
    },
    "language_info": {
      "name": "python"
    }
  },
  "cells": [
    {
      "cell_type": "markdown",
      "metadata": {
        "id": "9FpbOd0flyyf"
      },
      "source": [
        "\n"
      ]
    },
    {
      "cell_type": "markdown",
      "metadata": {
        "id": "s27uSCgCF55F"
      },
      "source": [
        "# **Bucles o Ciclos**\n",
        "\n",
        "Un **bucle o ciclo**, en programación, es una secuencia que ejecuta repetidas veces por una instrucción o un trozo de código, hasta que la condición asignada a dicho bucle deja de cumplirse. Los dos bucles más utilizados en programación son:\n",
        "- **while** \n",
        "-  **for**.\n",
        "\n"
      ]
    },
    {
      "cell_type": "markdown",
      "metadata": {
        "id": "K-LFc8JKKmoN"
      },
      "source": [
        "Cuando necesitamos realizar operaciones sobre una serie de datos podemos utilizar iteraciones.\n",
        "\n",
        "***Función range***\n",
        "\n",
        "La función **range** nos permite generar un rango a partir de un número"
      ]
    },
    {
      "cell_type": "code",
      "metadata": {
        "id": "h9RhR8giKvE1",
        "colab": {
          "base_uri": "https://localhost:8080/"
        },
        "outputId": "a151eee4-cf2e-4c11-b640-751b1bdc8fd5"
      },
      "source": [
        "range(5) # [0,1,2,3,4]"
      ],
      "execution_count": null,
      "outputs": [
        {
          "output_type": "execute_result",
          "data": {
            "text/plain": [
              "range(0, 5)"
            ]
          },
          "metadata": {},
          "execution_count": 2
        }
      ]
    },
    {
      "cell_type": "code",
      "metadata": {
        "colab": {
          "base_uri": "https://localhost:8080/"
        },
        "id": "8bHDfhyMhKxm",
        "outputId": "19983889-12d4-4e6e-98e8-140ebde6aa2d"
      },
      "source": [
        "list(range(6))  ## convertir a tipo listo"
      ],
      "execution_count": null,
      "outputs": [
        {
          "output_type": "execute_result",
          "data": {
            "text/plain": [
              "[0, 1, 2, 3, 4, 5]"
            ]
          },
          "metadata": {},
          "execution_count": 3
        }
      ]
    },
    {
      "cell_type": "code",
      "metadata": {
        "colab": {
          "base_uri": "https://localhost:8080/"
        },
        "id": "qPfkyU_qhsUE",
        "outputId": "4814d3c3-7db5-4fc3-e077-4c8df156b7c1"
      },
      "source": [
        "list(range(3,11))"
      ],
      "execution_count": null,
      "outputs": [
        {
          "output_type": "execute_result",
          "data": {
            "text/plain": [
              "[3, 4, 5, 6, 7, 8, 9, 10]"
            ]
          },
          "metadata": {},
          "execution_count": 2
        }
      ]
    },
    {
      "cell_type": "code",
      "metadata": {
        "colab": {
          "base_uri": "https://localhost:8080/"
        },
        "id": "k6oELGUhiCp3",
        "outputId": "0e834998-d34d-448c-9292-ef1c71414b9a"
      },
      "source": [
        "range(4,25,3)"
      ],
      "execution_count": null,
      "outputs": [
        {
          "output_type": "execute_result",
          "data": {
            "text/plain": [
              "range(4, 25, 3)"
            ]
          },
          "metadata": {},
          "execution_count": 3
        }
      ]
    },
    {
      "cell_type": "code",
      "source": [],
      "metadata": {
        "id": "GcgUVT34xSY4"
      },
      "execution_count": null,
      "outputs": []
    },
    {
      "cell_type": "code",
      "metadata": {
        "id": "j9pUIAK8swkr",
        "colab": {
          "base_uri": "https://localhost:8080/"
        },
        "outputId": "4cf21291-a0c1-4745-bb19-7e8e631e7fed"
      },
      "source": [
        "list(range(5,0,-1))"
      ],
      "execution_count": null,
      "outputs": [
        {
          "output_type": "execute_result",
          "data": {
            "text/plain": [
              "[5, 4, 3, 2, 1]"
            ]
          },
          "metadata": {},
          "execution_count": 4
        }
      ]
    },
    {
      "cell_type": "markdown",
      "metadata": {
        "id": "aThP10ebMHbK"
      },
      "source": [
        "## **Bucle for**\n",
        "\n",
        "El bucle **for** permite correr varias veces las mismas lineas de código hasta que se recorra el arreglo indicado.\n",
        "\n",
        "En general, un bucle es una estructura de control que repite un bloque de instrucciones. Un bucle `for` es un bucle que repite el bloque de instrucciones un número prederminado de veces. El bloque de instrucciones que se repite se suele llamar cuerpo del bucle y cada repetición se suele llamar iteración.\n",
        "\n",
        "La sintaxis de un bucle `for` es la siguiente:\n",
        "\n",
        "\n",
        "```python \n",
        "for variable in elemento iterable (lista, cadena, range, etc.):\n",
        "    cuerpo del bucle\n",
        "```\n",
        "\n",
        "\n"
      ]
    },
    {
      "cell_type": "code",
      "metadata": {
        "id": "jN0ns09hJlUg",
        "colab": {
          "base_uri": "https://localhost:8080/"
        },
        "outputId": "1b725424-2662-446a-8bb0-eb43a8762016"
      },
      "source": [
        "for k in range(0,13,3):\n",
        " print(k)"
      ],
      "execution_count": null,
      "outputs": [
        {
          "output_type": "stream",
          "name": "stdout",
          "text": [
            "0\n",
            "3\n",
            "6\n",
            "9\n",
            "12\n"
          ]
        }
      ]
    },
    {
      "cell_type": "code",
      "metadata": {
        "id": "5aC28TcjtF-M",
        "colab": {
          "base_uri": "https://localhost:8080/"
        },
        "outputId": "344a8ecf-327c-44fa-db60-c09d2563788c"
      },
      "source": [
        "for i in range(5,0,-1):\n",
        " print(i)"
      ],
      "execution_count": null,
      "outputs": [
        {
          "output_type": "stream",
          "name": "stdout",
          "text": [
            "5\n",
            "4\n",
            "3\n",
            "2\n",
            "1\n"
          ]
        }
      ]
    },
    {
      "cell_type": "code",
      "metadata": {
        "colab": {
          "base_uri": "https://localhost:8080/"
        },
        "id": "DRoQcMPWklwg",
        "outputId": "f128beae-e191-462a-c4cd-fe31f5d6b620"
      },
      "source": [
        "for i in \"metodos\":\n",
        "  print(\"hola\")"
      ],
      "execution_count": null,
      "outputs": [
        {
          "output_type": "stream",
          "name": "stdout",
          "text": [
            "hola\n",
            "hola\n",
            "hola\n",
            "hola\n",
            "hola\n",
            "hola\n",
            "hola\n"
          ]
        }
      ]
    },
    {
      "cell_type": "code",
      "metadata": {
        "colab": {
          "base_uri": "https://localhost:8080/"
        },
        "id": "Wu8hXknglXlL",
        "outputId": "5847e57a-a789-4910-e0c6-0ad3e3bbe722"
      },
      "source": [
        "for j in [3,7,9]:\n",
        "  print(\"saludos\")"
      ],
      "execution_count": null,
      "outputs": [
        {
          "output_type": "stream",
          "name": "stdout",
          "text": [
            "saludos\n",
            "saludos\n",
            "saludos\n"
          ]
        }
      ]
    },
    {
      "cell_type": "code",
      "metadata": {
        "colab": {
          "base_uri": "https://localhost:8080/"
        },
        "id": "iQ7-OEclppNo",
        "outputId": "0e682caa-ffb9-404c-9dc8-110c672a33db"
      },
      "source": [
        "print(\"Comienzo\")\n",
        "for i in [1, 1, 1]:\n",
        "    print(\"Hola \",end=\"\")\n",
        "print()\n",
        "print(\"Final\")"
      ],
      "execution_count": null,
      "outputs": [
        {
          "output_type": "stream",
          "name": "stdout",
          "text": [
            "Comienzo\n",
            "Hola Hola Hola \n",
            "Final\n"
          ]
        }
      ]
    },
    {
      "cell_type": "markdown",
      "metadata": {
        "id": "LT_0uI5ImpZ0"
      },
      "source": [
        "Hallar los cuadrados de los números en la lista"
      ]
    },
    {
      "cell_type": "code",
      "metadata": {
        "colab": {
          "base_uri": "https://localhost:8080/"
        },
        "id": "0YkBVrBAp55Q",
        "outputId": "182aed68-85ae-4106-9ef3-6209be772216"
      },
      "source": [
        "print(\"Comienzo\")\n",
        "for i in [3, 4, 5]:\n",
        "    print(f\" Si i vale {i} su cuadrado es {i ** 2}\")\n"
      ],
      "execution_count": null,
      "outputs": [
        {
          "output_type": "stream",
          "name": "stdout",
          "text": [
            "Comienzo\n",
            " Si i vale 3 su cuadrado es 9\n",
            " Si i vale 4 su cuadrado es 16\n",
            " Si i vale 5 su cuadrado es 25\n"
          ]
        }
      ]
    },
    {
      "cell_type": "code",
      "metadata": {
        "colab": {
          "base_uri": "https://localhost:8080/"
        },
        "id": "acisTIuanPdG",
        "outputId": "54756bad-7ae0-4847-83ee-3f0e73571ef5"
      },
      "source": [
        "for i in [3,4,5]:\n",
        "  print(\"si i vale\",i,\"su cuadrado es\", i**2)"
      ],
      "execution_count": null,
      "outputs": [
        {
          "output_type": "stream",
          "name": "stdout",
          "text": [
            "si i vale 3 su cuadrado es 9\n",
            "si i vale 4 su cuadrado es 16\n",
            "si i vale 5 su cuadrado es 25\n"
          ]
        }
      ]
    },
    {
      "cell_type": "markdown",
      "metadata": {
        "id": "HhO27048nocm"
      },
      "source": [
        "### Ejercicio\n",
        "Dado un número $n$  calcular los cubos de los n primeros números"
      ]
    },
    {
      "cell_type": "code",
      "metadata": {
        "id": "F7srQ0xjoABR"
      },
      "source": [
        "# escriba su codigo\n",
        "\n",
        "\n"
      ],
      "execution_count": null,
      "outputs": []
    },
    {
      "cell_type": "code",
      "metadata": {
        "colab": {
          "base_uri": "https://localhost:8080/"
        },
        "id": "-DSI8sZiq9z8",
        "outputId": "056b114a-d78c-4542-fa68-fa3acbe86f96"
      },
      "source": [
        "for i in \"Colombia\":\n",
        "    print(f\"Dame una {i}\")\n",
        "print(\"¡Colombia!\")"
      ],
      "execution_count": null,
      "outputs": [
        {
          "output_type": "stream",
          "name": "stdout",
          "text": [
            "Dame una C\n",
            "Dame una o\n",
            "Dame una l\n",
            "Dame una o\n",
            "Dame una m\n",
            "Dame una b\n",
            "Dame una i\n",
            "Dame una a\n",
            "¡Colombia!\n"
          ]
        }
      ]
    },
    {
      "cell_type": "markdown",
      "metadata": {
        "id": "OiOXvq4crxd6"
      },
      "source": [
        "#### Acumulador\n",
        "Se entiende por acumulador una variable que acumula el resultado de una operación. El ejemplo siguiente es un ejemplo de programa con acumulador (en este caso, la variable que hace de acumulador es la variable suma)"
      ]
    },
    {
      "cell_type": "code",
      "metadata": {
        "colab": {
          "base_uri": "https://localhost:8080/"
        },
        "id": "UQ7uhC1rr2sM",
        "outputId": "0f7ae906-e8bf-458d-afaf-cdd5874916af"
      },
      "source": [
        "suma = 0\n",
        "for i in [1, 2, 3, 4]:\n",
        "    suma = suma + i\n",
        "    print(f\"La suma de los números de 1 a {i} es {suma}\")"
      ],
      "execution_count": null,
      "outputs": [
        {
          "output_type": "stream",
          "name": "stdout",
          "text": [
            "La suma de los números de 1 a 1 es 1\n",
            "La suma de los números de 1 a 2 es 3\n",
            "La suma de los números de 1 a 3 es 6\n",
            "La suma de los números de 1 a 4 es 10\n"
          ]
        }
      ]
    },
    {
      "cell_type": "code",
      "metadata": {
        "colab": {
          "base_uri": "https://localhost:8080/"
        },
        "id": "8MXCLk6mqpvF",
        "outputId": "95af5827-e80a-406b-dded-6a3dcb2742a1"
      },
      "source": [
        "suma = 0\n",
        "for i in [1, 2, 3, 4]:\n",
        "    suma +=  i\n",
        "print(f\"La suma de los números de 1 a 4 es {suma}\")"
      ],
      "execution_count": null,
      "outputs": [
        {
          "output_type": "stream",
          "name": "stdout",
          "text": [
            "La suma de los números de 1 a 4 es 10\n"
          ]
        }
      ]
    },
    {
      "cell_type": "markdown",
      "metadata": {
        "id": "_FXDFjCWsZQg"
      },
      "source": [
        "**Ejercicio:**\n",
        "\n",
        "Cree un algoritmo que calcule la suma de los $n$ primeros numeros naturales"
      ]
    },
    {
      "cell_type": "code",
      "metadata": {
        "id": "DnqgU8D-sXSN"
      },
      "source": [],
      "execution_count": null,
      "outputs": []
    },
    {
      "cell_type": "markdown",
      "metadata": {
        "id": "FUkFuEe7NGQw"
      },
      "source": [
        "Por ejemplo, podemos crear la función factorial, \n",
        "$$n!=1\\times 2 \\times 3 \\times \\cdots \\times(n-1)n$$  por ejemplo:\n",
        "\n",
        "$4!=1\\times 2 \\times 3 \\times 4=24$"
      ]
    },
    {
      "cell_type": "code",
      "metadata": {
        "id": "gF3IRM6nNMmE",
        "colab": {
          "base_uri": "https://localhost:8080/"
        },
        "outputId": "b1415000-00a5-4702-f241-32a030609bb3"
      },
      "source": [
        "n=int(input(\"Introduzca un entero para obtener su factorial:\"))\n",
        "factorial=1\n",
        "for i in range(n,0,-1):\n",
        " factorial=factorial*i\n",
        "print(factorial)"
      ],
      "execution_count": null,
      "outputs": [
        {
          "output_type": "stream",
          "name": "stdout",
          "text": [
            "Introduzca un entero para obtener su factorial:0\n",
            "1\n"
          ]
        }
      ]
    },
    {
      "cell_type": "code",
      "metadata": {
        "colab": {
          "base_uri": "https://localhost:8080/"
        },
        "id": "ThDoEJccsgnn",
        "outputId": "7e8f5169-0adf-4999-8d43-145c8dfcf727"
      },
      "source": [
        "n=int(input(\"Introduzca un entero para obtener su factorial:\"))\n",
        "factorial=[1,2]\n",
        "for i in range(1,n+1):\n",
        " factorial.append(i*(i-1))\n",
        "print(factorial)"
      ],
      "execution_count": null,
      "outputs": [
        {
          "output_type": "stream",
          "name": "stdout",
          "text": [
            "Introduzca un entero para obtener su factorial:8\n",
            "[1, 2, 0, 2, 6, 12, 20, 30, 42, 56]\n"
          ]
        }
      ]
    },
    {
      "cell_type": "code",
      "metadata": {
        "colab": {
          "base_uri": "https://localhost:8080/"
        },
        "id": "MF35Btdzv42Y",
        "outputId": "496b36dc-8c37-42ee-e7b0-ec6adfd55d7d"
      },
      "source": [
        "for i in range(1,5):\n",
        "  for j in range(1,5):\n",
        "    print(i,j,end=\"\")"
      ],
      "execution_count": null,
      "outputs": [
        {
          "output_type": "stream",
          "text": [
            "1 11 21 31 42 12 22 32 43 13 23 33 44 14 24 34 4"
          ],
          "name": "stdout"
        }
      ]
    },
    {
      "cell_type": "markdown",
      "metadata": {
        "id": "HnnSZ1hThJ5P"
      },
      "source": [
        "**EJERCICIO**\n",
        "\n",
        "Indique un código, tal que para cada número del $1$ al $4$, imprima los números del $1$ al $4$, es decir que imprima $1\\ 1, 1\\ 2, 1\\ 3, 1\\ 4$, $2\\ 1, 2\\ 2, 2\\ 3, ..., 4\\ 4$ ...\n"
      ]
    },
    {
      "cell_type": "code",
      "metadata": {
        "colab": {
          "base_uri": "https://localhost:8080/"
        },
        "id": "WSC43E8twReZ",
        "outputId": "755cf78e-322b-4da4-e12c-135ebc49cd1e"
      },
      "source": [],
      "execution_count": null,
      "outputs": [
        {
          "output_type": "stream",
          "text": [
            "1 1 ,1 2 ,1 3 ,1 4 ,2 1 ,2 2 ,2 3 ,2 4 ,3 1 ,3 2 ,3 3 ,3 4 ,4 1 ,4 2 ,4 3 ,4 4 ,"
          ],
          "name": "stdout"
        }
      ]
    },
    {
      "cell_type": "code",
      "metadata": {
        "id": "u3uafKLktpTX"
      },
      "source": [
        "## Escriba su código\n"
      ],
      "execution_count": null,
      "outputs": []
    },
    {
      "cell_type": "markdown",
      "metadata": {
        "id": "KzmgH8YgLzgS"
      },
      "source": [
        "Podemos operar los valores usando también condiciones, en este caso solo queremos elevar al cuadrado, los valores que sean divisibles por 3"
      ]
    },
    {
      "cell_type": "code",
      "metadata": {
        "id": "g7ZlP6hVL1Ir",
        "colab": {
          "base_uri": "https://localhost:8080/"
        },
        "outputId": "5dcd2117-9574-44a5-b71f-7dd2c195b176"
      },
      "source": [
        "for i in range(31):\n",
        "  if i % 3 != 0:\n",
        "    continue\n",
        "  else:\n",
        "    print(i**2)\n",
        "    "
      ],
      "execution_count": null,
      "outputs": [
        {
          "output_type": "stream",
          "name": "stdout",
          "text": [
            "0\n",
            "9\n",
            "36\n",
            "81\n",
            "144\n",
            "225\n",
            "324\n",
            "441\n",
            "576\n",
            "729\n",
            "900\n"
          ]
        }
      ]
    },
    {
      "cell_type": "markdown",
      "metadata": {
        "id": "Y8VIRm7dMTic"
      },
      "source": [
        "La palabra reservada **continue** permite saltar a la siguiente iteración del ciclo y **break** permite salirse del ciclo.\n",
        "\n",
        "\n"
      ]
    },
    {
      "cell_type": "markdown",
      "metadata": {
        "id": "jLmEP6-yVFxW"
      },
      "source": [
        "**Ejemplo**\n",
        "\n",
        "Cree un código en el que el usuario ingrese una clave y un nombre de usuario, de tal manera que si coninciden con las registradas indique que el acceso es permitido; defina un número de intentos y en caso de que el nombre de usuario y contraseña no coincida con la registrada, muestre el numero de intentos restantes a medida que el usuario vaya ensayando este ingreso.  "
      ]
    },
    {
      "cell_type": "code",
      "metadata": {
        "id": "bZqEwBLsWg2y",
        "colab": {
          "base_uri": "https://localhost:8080/"
        },
        "outputId": "dd9c35ea-e96c-4986-a286-151c1ba3fdbe"
      },
      "source": [
        "# for\n",
        "no_intentos=5\n",
        "usuario_registrado=\"Usuario_1\"\n",
        "clave_registrada=4567\n",
        "for i in range(no_intentos,0,-1):\n",
        "  if i!=no_intentos:\n",
        "    print(\"Quedan %s intentos.\" % i)\n",
        "  usuario_ingresado=input(\"Ingrese su usuario: \")\n",
        "  clave_ingresada=int(input(\"Ingrese su contraseña: \"))\n",
        "  if usuario_ingresado==usuario_registrado and clave_ingresada==clave_registrada:\n",
        "    print(\"Acceso permitido\")\n",
        "    break\n",
        "  else:\n",
        "    print(\"Clave o usuario incorrectos\")\n",
        "  if i==1:\n",
        "    print(\"NO SE PERMITE EL ACCESO\")"
      ],
      "execution_count": null,
      "outputs": [
        {
          "output_type": "stream",
          "name": "stdout",
          "text": [
            "Ingrese su usuario: jhj\n",
            "Ingrese su contraseña: 21\n",
            "Clave o usuario incorrectos\n",
            "Quedan 4 intentos.\n",
            "Ingrese su usuario: jhjhjh\n",
            "Ingrese su contraseña: 64545\n",
            "Clave o usuario incorrectos\n",
            "Quedan 3 intentos.\n",
            "Ingrese su usuario: hjhjg\n",
            "Ingrese su contraseña: 6565\n",
            "Clave o usuario incorrectos\n",
            "Quedan 2 intentos.\n",
            "Ingrese su usuario: ghgugui\n",
            "Ingrese su contraseña: 6556\n",
            "Clave o usuario incorrectos\n",
            "Quedan 1 intentos.\n",
            "Ingrese su usuario: uuyuyuy\n",
            "Ingrese su contraseña: 989893\n",
            "Clave o usuario incorrectos\n",
            "NO SE PERMITE EL ACCESO\n"
          ]
        }
      ]
    },
    {
      "cell_type": "markdown",
      "metadata": {
        "id": "P-T2h3mbjKy4"
      },
      "source": [
        "**EJEMPLO: Numpy, condicionales y ciclos**\n",
        "\n",
        "Trabajemos ahora con un módulo de [Python](https://www.python.org/), denominado [numpy](https://numpy.org/), los condicionales y ciclos hasta ahora señalados. Con el sguiente código podemos averiguar si el número es $53$ apartir de una escogencia aleatoria de números."
      ]
    },
    {
      "cell_type": "code",
      "metadata": {
        "id": "EEXkUFwHOlLP",
        "colab": {
          "base_uri": "https://localhost:8080/"
        },
        "outputId": "62c254c1-7e58-4e5c-850c-a53639fb05f1"
      },
      "source": [
        "import numpy as np\n",
        "arreglo_aleatorio=np.random.randint(1,100,60)\n",
        "se_ha_encontrado_a_53=False\n",
        "j=0\n",
        "for i in arreglo_aleatorio:\n",
        "  if i==53:\n",
        "    se_ha_encontrado_a_53=True\n",
        "    print(\"En la lista aleatoria  se ha encontrado un 53 en la posición\", j+1, \"ésima posición\")\n",
        "    break\n",
        "  j=j+1 \n",
        "\n",
        "if not (se_ha_encontrado_a_53):\n",
        "  print(\"En la lista aleatoria no se ha encontrado un 53\")    \n",
        "\n",
        "else: \n",
        "  print(\"En la lista aleatoria se ha encontrado un 53\")\n",
        "print(arreglo_aleatorio)  "
      ],
      "execution_count": null,
      "outputs": [
        {
          "output_type": "stream",
          "text": [
            "En la lista aleatoria no se ha encontrado un 53\n",
            "[ 8 13 21 36 39 75 80 51 14 57 99 84 24 11 51 48  8  5 14 76 86 15 78  6\n",
            " 26 66 65 96 13  5 35 49 34  5 81 94 69  4 23 18 46 80 30 24  6 24 75 38\n",
            " 85 78  3 14 72 16 67 70 43 58 54 59]\n"
          ],
          "name": "stdout"
        }
      ]
    },
    {
      "cell_type": "markdown",
      "metadata": {
        "id": "XH2TAmMcSgJa"
      },
      "source": [
        "## ***Bucle while****\n",
        "\n",
        "Al igual que un ciclo **for** en el **while** se repiten varias veces las mismas líneas de código , sin embargo en el **for** ya se sabe cuantas veces se ejecutarán las líneas mientras que en el **while** se pueden repetir indefinidamente.\n",
        "\n",
        "Un bucle while permite repetir la ejecución de un grupo de instrucciones mientras se cumpla una condición (es decir, mientras la condición tenga el valor True).\n",
        "\n",
        "La sintaxis del bucle while es la siguiente:\n",
        "\n",
        "``` python\n",
        "while condicion:\n",
        "  #cuerpo  bucle\n",
        "```\n",
        "La ejecución de esta estructura de control while es la siguiente:\n",
        "\n",
        "* Python evalúa la condición:\n",
        "\n",
        " - si el resultado es True se ejecuta el cuerpo del bucle. Una vez ejecutado el cuerpo del bucle, se repite el proceso (se evalúa de nuevo la condición y, si es cierta, se ejecuta de nuevo el cuerpo del bucle) una y otra vez mientras la condición sea cierta.\n",
        " - si el resultado es False, el cuerpo del bucle no se ejecuta y continúa la ejecución del resto del programa.\n",
        "\n",
        "\n",
        "La variable o las variables que aparezcan en la condición se suelen llamar variables de control. Las variables de control deben definirse antes del bucle while y modificarse en el bucle while.\n",
        "\n",
        "\n",
        "\n"
      ]
    },
    {
      "cell_type": "markdown",
      "metadata": {
        "id": "HApQwswMxksW"
      },
      "source": [
        "**Ejemplo:** el siguiente programa escribe los números del 1 al 7:\n",
        "\n",
        "\n"
      ]
    },
    {
      "cell_type": "code",
      "metadata": {
        "colab": {
          "base_uri": "https://localhost:8080/"
        },
        "id": "8zZVixFYxuMy",
        "outputId": "30b7ad7e-dbfb-4498-9439-d97f61237ec4"
      },
      "source": [
        "i = 1\n",
        "while i <= 7:\n",
        "  print(i)\n",
        "  i += 1\n",
        "print(\"Programa terminado\")"
      ],
      "execution_count": null,
      "outputs": [
        {
          "output_type": "stream",
          "name": "stdout",
          "text": [
            "1\n",
            "2\n",
            "3\n",
            "4\n",
            "5\n",
            "6\n",
            "7\n",
            "Programa terminado\n"
          ]
        }
      ]
    },
    {
      "cell_type": "markdown",
      "metadata": {
        "id": "G1fAj_LlyZEM"
      },
      "source": [
        "Una ventaja  del bucle while es que el número de iteraciones no está definida antes de empezar el bucle, por ejemplo porque los datos los proporciona el usuario. "
      ]
    },
    {
      "cell_type": "code",
      "source": [
        "i=0\n",
        "while 27*i<100:\n",
        "  i+=1\n",
        "print(f\"el numero de mumero de multiplos es {i-1}\")"
      ],
      "metadata": {
        "colab": {
          "base_uri": "https://localhost:8080/"
        },
        "id": "gz1F8ssl97x2",
        "outputId": "db33f586-a795-41e9-b621-0a76471dfa51"
      },
      "execution_count": null,
      "outputs": [
        {
          "output_type": "stream",
          "name": "stdout",
          "text": [
            "el numero de mumero de multiplos es 3\n"
          ]
        }
      ]
    },
    {
      "cell_type": "code",
      "metadata": {
        "colab": {
          "base_uri": "https://localhost:8080/"
        },
        "id": "p-o0ZJbdyLw8",
        "outputId": "662e7021-e3d1-4d1b-d545-5daa707d3869"
      },
      "source": [
        "numero = int(input(\"Escriba un número positivo: \"))\n",
        "while numero < 0:\n",
        "    print(\"¡Ha escrito un número negativo! Inténtelo de nuevo\")\n",
        "    \n",
        "    numero = int(input(\"Escriba un número positivo: \"))\n",
        "print(\"Gracias por su colaboración\")"
      ],
      "execution_count": null,
      "outputs": [
        {
          "output_type": "stream",
          "name": "stdout",
          "text": [
            "Escriba un número positivo: -8\n",
            "¡Ha escrito un número negativo! Inténtelo de nuevo\n",
            "Escriba un número positivo: -5\n",
            "¡Ha escrito un número negativo! Inténtelo de nuevo\n",
            "Escriba un número positivo: -4\n",
            "¡Ha escrito un número negativo! Inténtelo de nuevo\n",
            "Escriba un número positivo: 8\n",
            "Gracias por su colaboración\n"
          ]
        }
      ]
    },
    {
      "cell_type": "code",
      "source": [
        "a=[2,6,8,9]\n",
        "6 in a"
      ],
      "metadata": {
        "colab": {
          "base_uri": "https://localhost:8080/"
        },
        "id": "bqhtEfsTEo8k",
        "outputId": "3e328726-6f43-4388-bc12-91cb3e7a07d6"
      },
      "execution_count": null,
      "outputs": [
        {
          "output_type": "execute_result",
          "data": {
            "text/plain": [
              "True"
            ]
          },
          "metadata": {},
          "execution_count": 25
        }
      ]
    },
    {
      "cell_type": "code",
      "source": [
        "import numpy as np\n",
        "i=1\n",
        "while i<100:\n",
        "  if np.sqrt(i) in list(range(1,100)):\n",
        "    print(i)\n",
        "  i += 1"
      ],
      "metadata": {
        "colab": {
          "base_uri": "https://localhost:8080/"
        },
        "id": "7rMGmokIm7a0",
        "outputId": "f69409ee-d6f9-424f-cee9-b411f37ecc85"
      },
      "execution_count": null,
      "outputs": [
        {
          "output_type": "stream",
          "name": "stdout",
          "text": [
            "1\n",
            "4\n",
            "9\n",
            "16\n",
            "25\n",
            "36\n",
            "49\n",
            "64\n",
            "81\n"
          ]
        }
      ]
    },
    {
      "cell_type": "code",
      "source": [
        "import math\n",
        "i=0\n",
        "\n",
        "while i<100:\n",
        "  i+=1\n",
        "  raiz=math.sqrt(i)\n",
        "  if raiz.is_integer():\n",
        "    print(i)\n",
        "\n"
      ],
      "metadata": {
        "colab": {
          "base_uri": "https://localhost:8080/"
        },
        "id": "DvgrgCADHJrE",
        "outputId": "f84a0897-4cd7-4933-e8e7-0f6452b0a3f0"
      },
      "execution_count": null,
      "outputs": [
        {
          "output_type": "stream",
          "name": "stdout",
          "text": [
            "1\n",
            "4\n",
            "9\n",
            "16\n",
            "25\n",
            "36\n",
            "49\n",
            "64\n",
            "81\n",
            "100\n"
          ]
        }
      ]
    },
    {
      "cell_type": "code",
      "source": [
        "n=0\n",
        "\n",
        "while n**2 <100:\n",
        "  n+=1\n",
        "  print(n**2)\n"
      ],
      "metadata": {
        "colab": {
          "base_uri": "https://localhost:8080/"
        },
        "id": "ICdNl3K0Ht-R",
        "outputId": "9252d849-94cd-4579-d1c9-aa728557f1b3"
      },
      "execution_count": null,
      "outputs": [
        {
          "output_type": "stream",
          "name": "stdout",
          "text": [
            "1\n",
            "4\n",
            "9\n",
            "16\n",
            "25\n",
            "36\n",
            "49\n",
            "64\n",
            "81\n",
            "100\n"
          ]
        }
      ]
    },
    {
      "cell_type": "markdown",
      "metadata": {
        "id": "mUYxnmx9y8ik"
      },
      "source": [
        "**Bucles infinitos**\n",
        "\n",
        "Si la condición del bucle se cumple siempre, el bucle no terminará nunca de ejecutarse y tendremos lo que se denomina un bucle infinito. Aunque a veces es necesario utilizar bucles infinitos en un programa, normalmente se deben a errores que se deben corregir."
      ]
    },
    {
      "cell_type": "code",
      "metadata": {
        "colab": {
          "base_uri": "https://localhost:8080/"
        },
        "id": "1XiDl8mGzAYo",
        "outputId": "72e5a686-04b3-4e00-d8a3-82cfba90be4b"
      },
      "source": [
        "i=1\n",
        "while i<=10:\n",
        "  print(i)\n",
        "  i+=2"
      ],
      "execution_count": null,
      "outputs": [
        {
          "output_type": "stream",
          "name": "stdout",
          "text": [
            "1\n",
            "3\n",
            "5\n",
            "7\n",
            "9\n"
          ]
        }
      ]
    },
    {
      "cell_type": "markdown",
      "metadata": {
        "id": "hpgHslOg1OCx"
      },
      "source": [
        "**Ejercicio**Escriba un programa que pregunte una y otra vez si desea continuar con el programa, siempre que se conteste exactamente sí (en minúsculas y con tilde)."
      ]
    },
    {
      "cell_type": "code",
      "metadata": {
        "id": "869bLNOs1Ni0",
        "colab": {
          "base_uri": "https://localhost:8080/"
        },
        "outputId": "ad702621-7c70-45d8-8248-d8cf75101eeb"
      },
      "source": [
        "###\n",
        "\n",
        "\n"
      ],
      "execution_count": null,
      "outputs": [
        {
          "output_type": "stream",
          "name": "stdout",
          "text": [
            "Si desea continuar con el programa escriba sí sí\n",
            "Desea continuar con el programa: \n",
            "Si desea continuar con el programa escriba sí sí\n",
            "Desea continuar con el programa: \n",
            "Si desea continuar con el programa escriba sí sí\n",
            "Desea continuar con el programa: \n",
            "Si desea continuar con el programa escriba sí no\n",
            "Ha abandonado el programa\n"
          ]
        }
      ]
    },
    {
      "cell_type": "markdown",
      "metadata": {
        "id": "WeAqRAinqiNt"
      },
      "source": [
        "**EJEMPLO DEL EMPLEO DE WHILE**\n",
        "\n",
        "Para ver un modo de empleo de este bucle, consideremos por ejemplo denegar una contraseña incorrecta, veamos:"
      ]
    },
    {
      "cell_type": "code",
      "metadata": {
        "id": "Bmj2dE9K2ht1",
        "colab": {
          "base_uri": "https://localhost:8080/"
        },
        "outputId": "b86235a9-ab95-4d40-8c4a-705d49469357"
      },
      "source": [
        "clave_registrada=1234\n",
        "clave_acertada=True\n",
        "while clave_acertada:\n",
        "  clave_ingresada=int(input(\"Ingrese su clave:  \"))\n",
        "  if clave_ingresada==clave_registrada:\n",
        "    clave_acertada=True\n",
        "    print(\"Acceso permitido\")\n",
        "    break\n",
        "  else:\n",
        "    print(\"La clave es incorrecta, recuerde que tiene 4 dígitos\")  "
      ],
      "execution_count": null,
      "outputs": [
        {
          "output_type": "stream",
          "name": "stdout",
          "text": [
            "Ingrese su clave:  56262\n",
            "La clave es incorrecta, recuerde que tiene 4 dígitos\n",
            "Ingrese su clave:  565665\n",
            "La clave es incorrecta, recuerde que tiene 4 dígitos\n",
            "Ingrese su clave:  1234\n",
            "Acceso permitido\n"
          ]
        }
      ]
    },
    {
      "cell_type": "markdown",
      "metadata": {
        "id": "_aQ96Zzgpp5c"
      },
      "source": [
        "**EJEMPLO CON LISTAS**\n",
        "\n",
        "Comprobar si existe un elemento en una secuencia de valores enteros. Suponga la siguiente lista de valores $[5, 1, 9, 2, 7, 4]$ y se ha solicitado saber si el número $2$ está contenido en dicha lista. Empleemos la estructura de bucle **while** para acatar dicha solicitud"
      ]
    },
    {
      "cell_type": "code",
      "metadata": {
        "id": "xFfJ2G1fpqRB",
        "colab": {
          "base_uri": "https://localhost:8080/"
        },
        "outputId": "f677d390-93db-4171-c76d-d39c3b415a1f"
      },
      "source": [
        "valores = [5, 1, 9, 2, 7, 4]\n",
        "encontrado = False\n",
        "indice = 0\n",
        "longitud = len(valores)\n",
        "while not encontrado and indice < longitud:\n",
        "    valor = valores[indice]\n",
        "    if valor == 2:\n",
        "        encontrado = True\n",
        "    else: \n",
        "        indice += 1   # indice=indice +1\n",
        "if encontrado:\n",
        "    print(f'El número 2 ha sido encontrado en el índice {indice}')\n",
        "else:\n",
        "    print('El número 2 no se encuentra en la lista de valores')"
      ],
      "execution_count": null,
      "outputs": [
        {
          "output_type": "stream",
          "text": [
            "El número 2 ha sido encontrado en el índice 3\n"
          ],
          "name": "stdout"
        }
      ]
    },
    {
      "cell_type": "markdown",
      "metadata": {
        "id": "QiZOFY5HmFa2"
      },
      "source": [
        "**EJERCICIO**\n",
        "\n",
        "Emplee los ciclos **for** y **while** para señalar las primeras cuatro potencias del número $2$."
      ]
    },
    {
      "cell_type": "markdown",
      "metadata": {
        "id": "kZx4tGiOg9KH"
      },
      "source": [
        "# Aplicación simple a finanzas personales\n",
        "**Hipotecar un casa**\n",
        "\\\n",
        "Hace seis años mis padres compraron una casa financiada por $\\$80,000$ por $20$ años, pagando pagos mensuales de $\\$880.87 $ con un interés mensual del $1\\%$. \n",
        "\n",
        "Han realizado $72$ pagos, y desean saber cuánto deben en la hipoteca, pues están considerando pagar con una herencia que acaban de recibir. También contemplan considerar refinanciar la hipoteca con varias opciones de tasa de interés, dependiendo de la duración del período de amortización. \n",
        "\n",
        "El **cambio en el monto adeudado de cada período** $\\Delta b_n=b_(n+1)-b(n)$  aumenta por **el monto de los intereses** $0.01b_n$ y **disminuye por el importe del pago** $\\$880.87 $.\n",
        "\n",
        "Más precisamente tenemos \n",
        "\n",
        "$$\\Delta b_n=0.01b_n-880.87$$\n"
      ]
    },
    {
      "cell_type": "markdown",
      "metadata": {
        "id": "AI2Y_ztELSXe"
      },
      "source": [
        "Se señala la solución numérica del sistema dinámico establecido previamente, que genera este problema, y la susesión solución corresponde a\n",
        "$$b_n=80000+880.87(1.01)^n-((1.01)^n-1)8808.7$$\n",
        "\n",
        "Y el comportamiento de las $240$ cuotas está representada de la siguiente manera:\n"
      ]
    },
    {
      "cell_type": "code",
      "metadata": {
        "id": "foJUqoQoQqYl",
        "colab": {
          "base_uri": "https://localhost:8080/",
          "height": 426
        },
        "outputId": "502e0275-9b37-4c23-f60b-ebb7f2aba48f"
      },
      "source": [
        "import matplotlib.pyplot as plt\n",
        "import numpy as np\n",
        "\n",
        "bn=lambda n: 80800*(1.01)**(n-1)-((1.01)**(n)-1)*88087 \n",
        "\n",
        "n=np.linspace(1,240,240)\n",
        "\n",
        "funcion=bn(n)\n",
        "plt.figure(figsize=(12,6))\n",
        "\n",
        "plt.plot(n,funcion,\"r-\")\n",
        "\n",
        "plt.xlabel(\"Meses\",fontsize=15)\n",
        "plt.ylabel(\"Valor restante\",fontsize=15)\n",
        "plt.title(\"CUOTAS DE CASA\")\n",
        "\n",
        "plt.legend()\n",
        "plt.show()"
      ],
      "execution_count": null,
      "outputs": [
        {
          "output_type": "stream",
          "text": [
            "No handles with labels found to put in legend.\n"
          ],
          "name": "stderr"
        },
        {
          "output_type": "display_data",
          "data": {
            "image/png": "[encoded data removed]",
            "text/plain": [
              "<Figure size 864x432 with 1 Axes>"
            ]
          },
          "metadata": {
            "needs_background": "light"
          }
        }
      ]
    },
    {
      "cell_type": "code",
      "metadata": {
        "id": "kkOkuMWgQ-Gh",
        "colab": {
          "base_uri": "https://localhost:8080/",
          "height": 34
        },
        "outputId": "ebfa9410-3042-4ca5-c760-c1b2a137899d"
      },
      "source": [
        "print(bn(72))"
      ],
      "execution_count": null,
      "outputs": [
        {
          "output_type": "stream",
          "text": [
            "71532.10786304624\n"
          ],
          "name": "stdout"
        }
      ]
    },
    {
      "cell_type": "code",
      "metadata": {
        "id": "PslWeDuhQ_q1",
        "colab": {
          "base_uri": "https://localhost:8080/",
          "height": 34
        },
        "outputId": "ae2eb74c-4925-4711-8f9e-bba9287e65de"
      },
      "source": [
        "80000-bn(72)"
      ],
      "execution_count": null,
      "outputs": [
        {
          "output_type": "execute_result",
          "data": {
            "text/plain": [
              "8467.892136953757"
            ]
          },
          "metadata": {
            "tags": []
          },
          "execution_count": 73
        }
      ]
    },
    {
      "cell_type": "markdown",
      "metadata": {
        "id": "0U8JWUEpicfw"
      },
      "source": [
        "Así si colocamos todos los valores en un arreglo a partir de la información suministrada por el loop while, se sigue:"
      ]
    },
    {
      "cell_type": "code",
      "metadata": {
        "colab": {
          "base_uri": "https://localhost:8080/"
        },
        "id": "OnPMPgs6ilU6",
        "outputId": "4ca2852a-333a-40e0-ff54-853e845f796b"
      },
      "source": [
        "b = 80000\n",
        "n = 0\n",
        "while n <= 240:\n",
        "    b = b*(1.01)-880.87\n",
        "    n += 1\n",
        "    print(b)"
      ],
      "execution_count": null,
      "outputs": [
        {
          "output_type": "stream",
          "text": [
            "79919.13\n",
            "79837.45130000002\n",
            "79754.95581300002\n",
            "79671.63537113003\n",
            "79587.48172484133\n",
            "79502.48654208975\n",
            "79416.64140751066\n",
            "79329.93782158577\n",
            "79242.36719980164\n",
            "79153.92087179965\n",
            "79064.59008051765\n",
            "78974.36598132283\n",
            "78883.23964113607\n",
            "78791.20203754744\n",
            "78698.24405792292\n",
            "78604.35649850215\n",
            "78509.53006348718\n",
            "78413.75536412206\n",
            "78317.02291776329\n",
            "78219.32314694092\n",
            "78120.64637841034\n",
            "78020.98284219445\n",
            "77920.3226706164\n",
            "77818.65589732256\n",
            "77715.9724562958\n",
            "77612.26218085876\n",
            "77507.51480266736\n",
            "77401.71995069404\n",
            "77294.86715020098\n",
            "77186.945821703\n",
            "77077.94527992004\n",
            "76967.85473271925\n",
            "76856.66328004644\n",
            "76744.3599128469\n",
            "76630.93351197538\n",
            "76516.37284709515\n",
            "76400.66657556611\n",
            "76283.80324132177\n",
            "76165.771273735\n",
            "76046.55898647234\n",
            "75926.15457633707\n",
            "75804.54612210044\n",
            "75681.72158332144\n",
            "75557.66879915466\n",
            "75432.37548714622\n",
            "75305.82924201769\n",
            "75178.01753443787\n",
            "75048.92770978225\n",
            "74918.54698688007\n",
            "74786.86245674887\n",
            "74653.86108131637\n",
            "74519.52969212954\n",
            "74383.85498905084\n",
            "74246.82353894136\n",
            "74108.42177433078\n",
            "73968.6359920741\n",
            "73827.45235199484\n",
            "73684.8568755148\n",
            "73540.83544426995\n",
            "73395.37379871265\n",
            "73248.45753669979\n",
            "73100.07211206679\n",
            "72950.20283318746\n",
            "72798.83486151934\n",
            "72645.95321013454\n",
            "72491.54274223589\n",
            "72335.58816965825\n",
            "72178.07405135484\n",
            "72018.9847918684\n",
            "71858.30463978708\n",
            "71696.01768618496\n",
            "71532.10786304681\n",
            "71366.55894167729\n",
            "71199.35453109407\n",
            "71030.47807640501\n",
            "70859.91285716907\n",
            "70687.64198574076\n",
            "70513.64840559817\n",
            "70337.91488965416\n",
            "70160.4240385507\n",
            "69981.15827893621\n",
            "69800.09986172558\n",
            "69617.23086034284\n",
            "69432.53316894628\n",
            "69245.98850063575\n",
            "69057.57838564212\n",
            "68867.28416949854\n",
            "68675.08701119354\n",
            "68480.96788130548\n",
            "68284.90756011853\n",
            "68086.88663571973\n",
            "67886.88550207693\n",
            "67684.8843570977\n",
            "67480.86320066868\n",
            "67274.80183267538\n",
            "67066.67985100215\n",
            "66856.47664951217\n",
            "66644.1714160073\n",
            "66429.74313016738\n",
            "66213.17056146906\n",
            "65994.43226708376\n",
            "65773.5065897546\n",
            "65550.37165565215\n",
            "65325.00537220867\n",
            "65097.38542593075\n",
            "64867.48928019005\n",
            "64635.29417299195\n",
            "64400.77711472187\n",
            "64163.91488586908\n",
            "63924.68403472777\n",
            "63683.06087507505\n",
            "63439.021483825796\n",
            "63192.54169866405\n",
            "62943.597115650686\n",
            "62692.16308680719\n",
            "62438.214717675255\n",
            "62181.726864852004\n",
            "61922.67413350052\n",
            "61661.030874835524\n",
            "61396.77118358388\n",
            "61129.86889541971\n",
            "60860.29758437391\n",
            "60588.030560217645\n",
            "60313.04086581982\n",
            "60035.30127447802\n",
            "59754.7842872228\n",
            "59471.462130095024\n",
            "59185.30675139597\n",
            "58896.28981890993\n",
            "58604.382717099026\n",
            "58309.55654427002\n",
            "58011.782109712716\n",
            "57711.02993080984\n",
            "57407.27023011794\n",
            "57100.472932419114\n",
            "56790.60766174331\n",
            "56477.64373836074\n",
            "56161.55017574435\n",
            "55842.29567750179\n",
            "55519.8486342768\n",
            "55194.17712061957\n",
            "54865.248891825766\n",
            "54533.03138074402\n",
            "54197.491694551456\n",
            "53858.59661149697\n",
            "53516.31257761194\n",
            "53170.60570338806\n",
            "52821.441760421934\n",
            "52468.78617802615\n",
            "52112.604039806414\n",
            "51752.860080204475\n",
            "51389.51868100652\n",
            "51022.54386781658\n",
            "50651.89930649474\n",
            "50277.54829955969\n",
            "49899.45378255528\n",
            "49517.57832038083\n",
            "49131.884103584634\n",
            "48742.33294462048\n",
            "48348.88627406668\n",
            "47951.50513680735\n",
            "47550.150188175416\n",
            "47144.78169005717\n",
            "46735.35950695774\n",
            "46321.84310202732\n",
            "45904.19153304759\n",
            "45482.36344837806\n",
            "45056.31708286184\n",
            "44626.01025369045\n",
            "44191.40035622736\n",
            "43752.44435978963\n",
            "43309.098803387526\n",
            "42861.319791421396\n",
            "42409.06298933561\n",
            "41952.28361922896\n",
            "41490.93645542125\n",
            "41024.975819975465\n",
            "40554.355578175215\n",
            "40079.02913395697\n",
            "39598.94942529653\n",
            "39114.06891954949\n",
            "38624.33960874499\n",
            "38129.71300483243\n",
            "37630.140134880756\n",
            "37125.57153622956\n",
            "36615.957251591855\n",
            "36101.24682410777\n",
            "35581.389292348846\n",
            "35056.333185272335\n",
            "34526.02651712506\n",
            "33990.416782296306\n",
            "33449.450950119266\n",
            "32903.07545962046\n",
            "32351.236214216664\n",
            "31793.87857635883\n",
            "31230.94736212242\n",
            "30662.386835743648\n",
            "30088.140704101086\n",
            "29508.1521111421\n",
            "28922.36363225352\n",
            "28330.717268576056\n",
            "27733.154441261817\n",
            "27129.615985674438\n",
            "26520.042145531184\n",
            "25904.372566986498\n",
            "25282.546292656363\n",
            "24654.50175558293\n",
            "24020.17677313876\n",
            "23379.50854087015\n",
            "22732.433626278853\n",
            "22078.88796254164\n",
            "21418.806842167058\n",
            "20752.12491058873\n",
            "20078.77615969462\n",
            "19398.693921291564\n",
            "18711.81086050448\n",
            "18018.058969109527\n",
            "17317.369558800623\n",
            "16609.673254388632\n",
            "15894.899986932518\n",
            "15172.978986801843\n",
            "14443.838776669862\n",
            "13707.40716443656\n",
            "12963.611236080924\n",
            "12212.377348441732\n",
            "11453.63112192615\n",
            "10687.29743314541\n",
            "9913.300407476863\n",
            "9131.563411551631\n",
            "8342.009045667148\n",
            "7544.559136123819\n",
            "6739.134727485058\n",
            "5925.656074759909\n",
            "5104.042635507508\n",
            "4274.213061862583\n",
            "3436.0851924812096\n",
            "2589.576044406022\n",
            "1734.6018048500823\n",
            "871.0778228985831\n",
            "-1.0813988724310093\n"
          ],
          "name": "stdout"
        }
      ]
    },
    {
      "cell_type": "markdown",
      "metadata": {
        "id": "KVIcViWoQ3xe"
      },
      "source": [
        "No obstante, podemos repensar este ejercicio aprovechando el hecho de que los ciclos cumplen con la condición de ser repetitivos hasta el límite que el código determine. Veamos:"
      ]
    },
    {
      "cell_type": "code",
      "metadata": {
        "id": "cBMAlSRltajp",
        "colab": {
          "base_uri": "https://localhost:8080/"
        },
        "outputId": "9e767ff4-5b53-4946-97bc-495ea2c98ec3"
      },
      "source": [
        "x = 80000\n",
        "n = 0\n",
        "while n < 72:\n",
        "    x = 1.01*x-880.87\n",
        "    n += 1 # es lo mismo que i = i + 1\n",
        "print(\"Dinero consignado\", x)\n",
        "print(\"Número de consignaciones\", n)\n",
        "print(\"Dinero que hace falta por consignar\",80000-x)"
      ],
      "execution_count": null,
      "outputs": [
        {
          "output_type": "stream",
          "text": [
            "Dinero consignado 71532.10786304681\n",
            "Número de consignaciones 72\n",
            "Dinero que hace falta por consignar 8467.892136953189\n"
          ],
          "name": "stdout"
        }
      ]
    },
    {
      "cell_type": "markdown",
      "metadata": {
        "id": "o_y9Wrt3ypER"
      },
      "source": [
        "**EJERCICIO**\n",
        "\n",
        "Indique un código en el que señale los cinco primeros términos de las sucesiones que aparecen en el primer punto de la sección del libro de Giordano (*página 7*).\n"
      ]
    },
    {
      "cell_type": "code",
      "metadata": {
        "id": "gUzlT-xOt6WZ",
        "colab": {
          "base_uri": "https://localhost:8080/",
          "height": 105
        },
        "outputId": "4ba48cdb-eff5-4c59-dc5b-3b127546f189"
      },
      "source": [
        "# Ejemplo, Ejercicio 1.c de la sección de problemas 1.1\n",
        "\n",
        "n=5\n",
        "x=1\n",
        "for i in range(n,0,-1):\n",
        " x=2*x*(x+3)\n",
        " print(x)\n"
      ],
      "execution_count": null,
      "outputs": [
        {
          "output_type": "stream",
          "text": [
            "8\n",
            "176\n",
            "63008\n",
            "7940394176\n",
            "126099719388151803008\n"
          ],
          "name": "stdout"
        }
      ]
    }
  ]
}