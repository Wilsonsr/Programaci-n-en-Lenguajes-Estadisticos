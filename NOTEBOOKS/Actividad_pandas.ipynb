{
  "nbformat": 4,
  "nbformat_minor": 0,
  "metadata": {
    "colab": {
      "provenance": []
    },
    "kernelspec": {
      "name": "python3",
      "display_name": "Python 3"
    },
    "language_info": {
      "name": "python"
    }
  },
  "cells": [
    {
      "cell_type": "markdown",
      "metadata": {
        "id": "dm86WLSihbrh"
      },
      "source": [
        "<center>\n",
        "\n",
        "---\n",
        "\n",
        "# Programación en Lenguajes Estadísticos\n",
        "\n",
        "\n",
        "\n",
        "## Escriba sú nombre\n",
        "---\n",
        "\n",
        "\n",
        "\n",
        "</center>"
      ]
    },
    {
      "cell_type": "markdown",
      "metadata": {
        "id": "oQKai3xZxjk_"
      },
      "source": [
        "##II. \n",
        "El conjunto de datos contiene información sobre los Juegos Olímpicos de Verano desde el año en que se iniciaron hasta los últimos Juegos Olímpicos de Verano de Tokio que tuvieron lugar en Tokio. Los datos contienen parámetros como el nombre, el sexo, la edad, el equipo, el juego, el año, la temporada, el deporte y la medalla.\n",
        "\n",
        "Los parámetros y los títulos de las columnas se explican por sí mismos.\n",
        "La columna Medalla es una columna categórica con valores y referencias como\n",
        "- 0: Sin medalla\n",
        "- 1 :Medalla de bronce\n",
        "- 2 : Medalla de plata\n",
        "- 3 : Medalla de oro\n",
        "\n",
        "\n",
        "\n",
        "\n",
        "\n",
        "\n",
        "\n",
        "\n",
        "Responda las preguntas 6-12 basado en esta base de datos"
      ]
    },
    {
      "cell_type": "code",
      "metadata": {
        "colab": {
          "base_uri": "https://localhost:8080/",
          "height": 363
        },
        "id": "vbf3gFJGhXes",
        "outputId": "b3cd6d54-0d0d-4a3b-cec6-43787025fe73"
      },
      "source": [
        "import pandas as pd\n",
        "base=pd.read_csv(\"https://raw.githubusercontent.com/Wilsonsr/metodos-estadisticos/main/All%20Year%20Olympic%20Dataset%20(with%202020%20Tokyo%20Olympics).csv\")\n",
        "base=base.drop('Unnamed: 0', axis=1)\n",
        "base.head(10)"
      ],
      "execution_count": null,
      "outputs": [
        {
          "output_type": "execute_result",
          "data": {
            "text/plain": [
              "                       Name Sex   Age            Team        Games  Year  \\\n",
              "0                 A Dijiang   M  24.0           China  1992 Summer  1992   \n",
              "1                  A Lamusi   M  23.0           China  2012 Summer  2012   \n",
              "2       Gunnar Nielsen Aaby   M  24.0         Denmark  1920 Summer  1920   \n",
              "3      Edgar Lindenau Aabye   M  34.0  Denmark/Sweden  1900 Summer  1900   \n",
              "4  Christine Jacoba Aaftink   F  21.0     Netherlands  1988 Winter  1988   \n",
              "5  Christine Jacoba Aaftink   F  21.0     Netherlands  1988 Winter  1988   \n",
              "6  Christine Jacoba Aaftink   F  25.0     Netherlands  1992 Winter  1992   \n",
              "7  Christine Jacoba Aaftink   F  25.0     Netherlands  1992 Winter  1992   \n",
              "8  Christine Jacoba Aaftink   F  27.0     Netherlands  1994 Winter  1994   \n",
              "9  Christine Jacoba Aaftink   F  27.0     Netherlands  1994 Winter  1994   \n",
              "\n",
              "   Season          Sport  Medal  \n",
              "0  Summer     Basketball      0  \n",
              "1  Summer           Judo      0  \n",
              "2  Summer       Football      0  \n",
              "3  Summer     Tug-Of-War      3  \n",
              "4  Winter  Speed Skating      0  \n",
              "5  Winter  Speed Skating      0  \n",
              "6  Winter  Speed Skating      0  \n",
              "7  Winter  Speed Skating      0  \n",
              "8  Winter  Speed Skating      0  \n",
              "9  Winter  Speed Skating      0  "
            ],
            "text/html": [
              "\n",
              "  <div id=\"df-aeb230ab-5f05-4ef6-80ff-0f1309108fe5\">\n",
              "    <div class=\"colab-df-container\">\n",
              "      <div>\n",
              "<style scoped>\n",
              "    .dataframe tbody tr th:only-of-type {\n",
              "        vertical-align: middle;\n",
              "    }\n",
              "\n",
              "    .dataframe tbody tr th {\n",
              "        vertical-align: top;\n",
              "    }\n",
              "\n",
              "    .dataframe thead th {\n",
              "        text-align: right;\n",
              "    }\n",
              "</style>\n",
              "<table border=\"1\" class=\"dataframe\">\n",
              "  <thead>\n",
              "    <tr style=\"text-align: right;\">\n",
              "      <th></th>\n",
              "      <th>Name</th>\n",
              "      <th>Sex</th>\n",
              "      <th>Age</th>\n",
              "      <th>Team</th>\n",
              "      <th>Games</th>\n",
              "      <th>Year</th>\n",
              "      <th>Season</th>\n",
              "      <th>Sport</th>\n",
              "      <th>Medal</th>\n",
              "    </tr>\n",
              "  </thead>\n",
              "  <tbody>\n",
              "    <tr>\n",
              "      <th>0</th>\n",
              "      <td>A Dijiang</td>\n",
              "      <td>M</td>\n",
              "      <td>24.0</td>\n",
              "      <td>China</td>\n",
              "      <td>1992 Summer</td>\n",
              "      <td>1992</td>\n",
              "      <td>Summer</td>\n",
              "      <td>Basketball</td>\n",
              "      <td>0</td>\n",
              "    </tr>\n",
              "    <tr>\n",
              "      <th>1</th>\n",
              "      <td>A Lamusi</td>\n",
              "      <td>M</td>\n",
              "      <td>23.0</td>\n",
              "      <td>China</td>\n",
              "      <td>2012 Summer</td>\n",
              "      <td>2012</td>\n",
              "      <td>Summer</td>\n",
              "      <td>Judo</td>\n",
              "      <td>0</td>\n",
              "    </tr>\n",
              "    <tr>\n",
              "      <th>2</th>\n",
              "      <td>Gunnar Nielsen Aaby</td>\n",
              "      <td>M</td>\n",
              "      <td>24.0</td>\n",
              "      <td>Denmark</td>\n",
              "      <td>1920 Summer</td>\n",
              "      <td>1920</td>\n",
              "      <td>Summer</td>\n",
              "      <td>Football</td>\n",
              "      <td>0</td>\n",
              "    </tr>\n",
              "    <tr>\n",
              "      <th>3</th>\n",
              "      <td>Edgar Lindenau Aabye</td>\n",
              "      <td>M</td>\n",
              "      <td>34.0</td>\n",
              "      <td>Denmark/Sweden</td>\n",
              "      <td>1900 Summer</td>\n",
              "      <td>1900</td>\n",
              "      <td>Summer</td>\n",
              "      <td>Tug-Of-War</td>\n",
              "      <td>3</td>\n",
              "    </tr>\n",
              "    <tr>\n",
              "      <th>4</th>\n",
              "      <td>Christine Jacoba Aaftink</td>\n",
              "      <td>F</td>\n",
              "      <td>21.0</td>\n",
              "      <td>Netherlands</td>\n",
              "      <td>1988 Winter</td>\n",
              "      <td>1988</td>\n",
              "      <td>Winter</td>\n",
              "      <td>Speed Skating</td>\n",
              "      <td>0</td>\n",
              "    </tr>\n",
              "    <tr>\n",
              "      <th>5</th>\n",
              "      <td>Christine Jacoba Aaftink</td>\n",
              "      <td>F</td>\n",
              "      <td>21.0</td>\n",
              "      <td>Netherlands</td>\n",
              "      <td>1988 Winter</td>\n",
              "      <td>1988</td>\n",
              "      <td>Winter</td>\n",
              "      <td>Speed Skating</td>\n",
              "      <td>0</td>\n",
              "    </tr>\n",
              "    <tr>\n",
              "      <th>6</th>\n",
              "      <td>Christine Jacoba Aaftink</td>\n",
              "      <td>F</td>\n",
              "      <td>25.0</td>\n",
              "      <td>Netherlands</td>\n",
              "      <td>1992 Winter</td>\n",
              "      <td>1992</td>\n",
              "      <td>Winter</td>\n",
              "      <td>Speed Skating</td>\n",
              "      <td>0</td>\n",
              "    </tr>\n",
              "    <tr>\n",
              "      <th>7</th>\n",
              "      <td>Christine Jacoba Aaftink</td>\n",
              "      <td>F</td>\n",
              "      <td>25.0</td>\n",
              "      <td>Netherlands</td>\n",
              "      <td>1992 Winter</td>\n",
              "      <td>1992</td>\n",
              "      <td>Winter</td>\n",
              "      <td>Speed Skating</td>\n",
              "      <td>0</td>\n",
              "    </tr>\n",
              "    <tr>\n",
              "      <th>8</th>\n",
              "      <td>Christine Jacoba Aaftink</td>\n",
              "      <td>F</td>\n",
              "      <td>27.0</td>\n",
              "      <td>Netherlands</td>\n",
              "      <td>1994 Winter</td>\n",
              "      <td>1994</td>\n",
              "      <td>Winter</td>\n",
              "      <td>Speed Skating</td>\n",
              "      <td>0</td>\n",
              "    </tr>\n",
              "    <tr>\n",
              "      <th>9</th>\n",
              "      <td>Christine Jacoba Aaftink</td>\n",
              "      <td>F</td>\n",
              "      <td>27.0</td>\n",
              "      <td>Netherlands</td>\n",
              "      <td>1994 Winter</td>\n",
              "      <td>1994</td>\n",
              "      <td>Winter</td>\n",
              "      <td>Speed Skating</td>\n",
              "      <td>0</td>\n",
              "    </tr>\n",
              "  </tbody>\n",
              "</table>\n",
              "</div>\n",
              "      <button class=\"colab-df-convert\" onclick=\"convertToInteractive('df-aeb230ab-5f05-4ef6-80ff-0f1309108fe5')\"\n",
              "              title=\"Convert this dataframe to an interactive table.\"\n",
              "              style=\"display:none;\">\n",
              "        \n",
              "  <svg xmlns=\"http://www.w3.org/2000/svg\" height=\"24px\"viewBox=\"0 0 24 24\"\n",
              "       width=\"24px\">\n",
              "    <path d=\"M0 0h24v24H0V0z\" fill=\"none\"/>\n",
              "    <path d=\"M18.56 5.44l.94 2.06.94-2.06 2.06-.94-2.06-.94-.94-2.06-.94 2.06-2.06.94zm-11 1L8.5 8.5l.94-2.06 2.06-.94-2.06-.94L8.5 2.5l-.94 2.06-2.06.94zm10 10l.94 2.06.94-2.06 2.06-.94-2.06-.94-.94-2.06-.94 2.06-2.06.94z\"/><path d=\"M17.41 7.96l-1.37-1.37c-.4-.4-.92-.59-1.43-.59-.52 0-1.04.2-1.43.59L10.3 9.45l-7.72 7.72c-.78.78-.78 2.05 0 2.83L4 21.41c.39.39.9.59 1.41.59.51 0 1.02-.2 1.41-.59l7.78-7.78 2.81-2.81c.8-.78.8-2.07 0-2.86zM5.41 20L4 18.59l7.72-7.72 1.47 1.35L5.41 20z\"/>\n",
              "  </svg>\n",
              "      </button>\n",
              "      \n",
              "  <style>\n",
              "    .colab-df-container {\n",
              "      display:flex;\n",
              "      flex-wrap:wrap;\n",
              "      gap: 12px;\n",
              "    }\n",
              "\n",
              "    .colab-df-convert {\n",
              "      background-color: #E8F0FE;\n",
              "      border: none;\n",
              "      border-radius: 50%;\n",
              "      cursor: pointer;\n",
              "      display: none;\n",
              "      fill: #1967D2;\n",
              "      height: 32px;\n",
              "      padding: 0 0 0 0;\n",
              "      width: 32px;\n",
              "    }\n",
              "\n",
              "    .colab-df-convert:hover {\n",
              "      background-color: #E2EBFA;\n",
              "      box-shadow: 0px 1px 2px rgba(60, 64, 67, 0.3), 0px 1px 3px 1px rgba(60, 64, 67, 0.15);\n",
              "      fill: #174EA6;\n",
              "    }\n",
              "\n",
              "    [theme=dark] .colab-df-convert {\n",
              "      background-color: #3B4455;\n",
              "      fill: #D2E3FC;\n",
              "    }\n",
              "\n",
              "    [theme=dark] .colab-df-convert:hover {\n",
              "      background-color: #434B5C;\n",
              "      box-shadow: 0px 1px 3px 1px rgba(0, 0, 0, 0.15);\n",
              "      filter: drop-shadow(0px 1px 2px rgba(0, 0, 0, 0.3));\n",
              "      fill: #FFFFFF;\n",
              "    }\n",
              "  </style>\n",
              "\n",
              "      <script>\n",
              "        const buttonEl =\n",
              "          document.querySelector('#df-aeb230ab-5f05-4ef6-80ff-0f1309108fe5 button.colab-df-convert');\n",
              "        buttonEl.style.display =\n",
              "          google.colab.kernel.accessAllowed ? 'block' : 'none';\n",
              "\n",
              "        async function convertToInteractive(key) {\n",
              "          const element = document.querySelector('#df-aeb230ab-5f05-4ef6-80ff-0f1309108fe5');\n",
              "          const dataTable =\n",
              "            await google.colab.kernel.invokeFunction('convertToInteractive',\n",
              "                                                     [key], {});\n",
              "          if (!dataTable) return;\n",
              "\n",
              "          const docLinkHtml = 'Like what you see? Visit the ' +\n",
              "            '<a target=\"_blank\" href=https://colab.research.google.com/notebooks/data_table.ipynb>data table notebook</a>'\n",
              "            + ' to learn more about interactive tables.';\n",
              "          element.innerHTML = '';\n",
              "          dataTable['output_type'] = 'display_data';\n",
              "          await google.colab.output.renderOutput(dataTable, element);\n",
              "          const docLink = document.createElement('div');\n",
              "          docLink.innerHTML = docLinkHtml;\n",
              "          element.appendChild(docLink);\n",
              "        }\n",
              "      </script>\n",
              "    </div>\n",
              "  </div>\n",
              "  "
            ]
          },
          "metadata": {},
          "execution_count": 1
        }
      ]
    },
    {
      "cell_type": "markdown",
      "metadata": {
        "id": "FP9TiqFgy2qR"
      },
      "source": [
        "1. **Cuantas filas y columnas tiene la base de datos.**"
      ]
    },
    {
      "cell_type": "code",
      "metadata": {
        "id": "wRDocGqoy7f6"
      },
      "source": [
        "# Escriba su código"
      ],
      "execution_count": null,
      "outputs": []
    },
    {
      "cell_type": "markdown",
      "metadata": {
        "id": "BWfYinK2y-2p"
      },
      "source": [
        "2. **Cuales son los nombres de las columnas** "
      ]
    },
    {
      "cell_type": "code",
      "metadata": {
        "id": "SuPJTYltzRsu"
      },
      "source": [
        "# Escriba su código"
      ],
      "execution_count": null,
      "outputs": []
    },
    {
      "cell_type": "markdown",
      "metadata": {
        "id": "lHYSkJcJzUhZ"
      },
      "source": [
        "3. **Cuantos  deportistas colombianos de genero masculino participaron en tokyo 2020 según la base de datos**"
      ]
    },
    {
      "cell_type": "code",
      "metadata": {
        "id": "ia_WvwLAzl3q"
      },
      "source": [
        "# Escriba su código"
      ],
      "execution_count": null,
      "outputs": []
    },
    {
      "cell_type": "markdown",
      "metadata": {
        "id": "c21Pn1vwc9OB"
      },
      "source": [
        "4. **Cree un DataFrame llamada `base1`  que contenga sólo las columnas `Sex`, `Year`,`Team`, `Medal`  en ese orden. Imprima el encabezado.**"
      ]
    },
    {
      "cell_type": "code",
      "metadata": {
        "id": "guxfBVgb0b0S"
      },
      "source": [
        "# Escriba su código"
      ],
      "execution_count": null,
      "outputs": []
    },
    {
      "cell_type": "markdown",
      "metadata": {
        "id": "WbEIB6tP1Cjq"
      },
      "source": [
        "5. **Cuales han sido los 3 países con mayor cantidad de medallas en la historia de los juegos olimpicos** "
      ]
    },
    {
      "cell_type": "code",
      "metadata": {
        "id": "jmjy9k6c1RkX"
      },
      "source": [
        "# Escriba su código"
      ],
      "execution_count": null,
      "outputs": []
    },
    {
      "cell_type": "markdown",
      "metadata": {
        "id": "kWsTe3dP13T6"
      },
      "source": [
        "6. **Cuantas medallas han obtenido de (oro, plata y bronce)  los deportistas colombianos en toda la historia de los juegos olimpicos**"
      ]
    },
    {
      "cell_type": "code",
      "metadata": {
        "id": "t0KYrHFI2DpW"
      },
      "source": [
        "# Escriba su código"
      ],
      "execution_count": null,
      "outputs": []
    },
    {
      "cell_type": "markdown",
      "metadata": {
        "id": "KnE_Oe8B2OMf"
      },
      "source": [
        "7. **¿Cual fue la edad promedio de los  deportistas colombianos, separado para hombres y mujeres en tokyo 2020?**"
      ]
    },
    {
      "cell_type": "code",
      "metadata": {
        "id": "rkYdrKsY2-g4"
      },
      "source": [
        "# Escriba su código"
      ],
      "execution_count": null,
      "outputs": []
    },
    {
      "cell_type": "markdown",
      "source": [
        "8. **¿Cuál ha sido el deportista de menor y mayor edad que ha participado en unos juegos olimpicos de verano?**"
      ],
      "metadata": {
        "id": "3bqjXV_5Jii_"
      }
    },
    {
      "cell_type": "code",
      "source": [
        "# Escriba sus códigos"
      ],
      "metadata": {
        "id": "FC-Z2GD7J9vM"
      },
      "execution_count": null,
      "outputs": []
    },
    {
      "cell_type": "markdown",
      "source": [
        "9. **¿Cual deporte ha dado más medallas a Colombia?**"
      ],
      "metadata": {
        "id": "iJckSLepKB4B"
      }
    },
    {
      "cell_type": "code",
      "source": [
        "# Escriba su código"
      ],
      "metadata": {
        "id": "G4yl8NH2KMur"
      },
      "execution_count": null,
      "outputs": []
    }
  ]
}