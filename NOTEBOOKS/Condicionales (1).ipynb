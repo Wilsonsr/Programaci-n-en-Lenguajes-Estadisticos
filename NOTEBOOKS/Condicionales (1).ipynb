{
  "nbformat": 4,
  "nbformat_minor": 0,
  "metadata": {
    "colab": {
      "provenance": []
    },
    "kernelspec": {
      "name": "python3",
      "display_name": "Python 3"
    }
  },
  "cells": [
    {
      "cell_type": "markdown",
      "metadata": {
        "id": "oK3Mvq_odowq"
      },
      "source": [
        "---\n",
        "\n",
        "<center>\n",
        "\n",
        "# **Condicionales**\n",
        "\n",
        "</center>\n",
        "\n",
        "---"
      ]
    },
    {
      "cell_type": "markdown",
      "metadata": {
        "id": "qaHYHS0dHjcy"
      },
      "source": [
        "##**CONDICIONALES**\n",
        "\n",
        "**Los condicionales** son estructuras de control que nos permiten manipular el flujo de nuestro programa dependiendo de ciertas condiciones establecidas por el programador.\n",
        "\n",
        "Dicho de otra forma, los condicionales nos ayudan a identificar si una operación o condición de nuestro programa es correcta o falsa y dependiendo de este resultado podemos tomar decisiones: ejecutar una parte del código u otra, volver a comenzar, terminar la ejecución o todo lo que necesitemos.\n",
        "\n",
        "**Operadores de relación**:\n",
        "\n",
        "* Menor que (<, por ejemplo, 1 < 10 es verdadero)\n",
        "*Mayor que (>, por ejemplo, 1 > 10 es falso)\n",
        "*Igual que (==, por ejemplo, 100 == 100 es verdadero, recuerda no confundirlo con el operador de asignación, =)\n",
        "*Menor o igual que (<=, por ejemplo, 10 <= 10 es verdadero)\n",
        "*Mayor o igual que (>=, por ejemplo, 10 >= 10 es verdadero)\n",
        "*Diferente que (!=, por ejemplo, 10 != 10 es falso)\n",
        "\n"
      ]
    },
    {
      "cell_type": "code",
      "metadata": {
        "colab": {
          "base_uri": "https://localhost:8080/"
        },
        "id": "E6-xO_yqNEbb",
        "outputId": "0297b848-68b6-4568-e920-56cb1e20973a"
      },
      "source": [
        "1<10"
      ],
      "execution_count": null,
      "outputs": [
        {
          "output_type": "execute_result",
          "data": {
            "text/plain": [
              "True"
            ]
          },
          "metadata": {},
          "execution_count": 25
        }
      ]
    },
    {
      "cell_type": "code",
      "metadata": {
        "colab": {
          "base_uri": "https://localhost:8080/"
        },
        "id": "r97yqEhdNMzy",
        "outputId": "b53a3cdf-040a-46ac-e9c5-db165290abc7"
      },
      "source": [
        "x=7\n",
        "x<1"
      ],
      "execution_count": null,
      "outputs": [
        {
          "output_type": "execute_result",
          "data": {
            "text/plain": [
              "False"
            ]
          },
          "metadata": {},
          "execution_count": 33
        }
      ]
    },
    {
      "cell_type": "code",
      "source": [
        "10==10"
      ],
      "metadata": {
        "colab": {
          "base_uri": "https://localhost:8080/"
        },
        "id": "ajxoYU06Ls6s",
        "outputId": "fc07e624-b9e6-4c9e-fc3f-6fd79530511e"
      },
      "execution_count": null,
      "outputs": [
        {
          "output_type": "execute_result",
          "data": {
            "text/plain": [
              "True"
            ]
          },
          "metadata": {},
          "execution_count": 34
        }
      ]
    },
    {
      "cell_type": "code",
      "source": [
        "10!=11"
      ],
      "metadata": {
        "colab": {
          "base_uri": "https://localhost:8080/"
        },
        "id": "Ilyt9xw7L6BE",
        "outputId": "3df471aa-17d2-4d36-9846-a5785ea3a2b1"
      },
      "execution_count": null,
      "outputs": [
        {
          "output_type": "execute_result",
          "data": {
            "text/plain": [
              "True"
            ]
          },
          "metadata": {},
          "execution_count": 35
        }
      ]
    },
    {
      "cell_type": "code",
      "metadata": {
        "colab": {
          "base_uri": "https://localhost:8080/"
        },
        "id": "YXioSJ_QNTzG",
        "outputId": "ae41e5c6-a148-49ec-83b6-6e3f6a4d1c8b"
      },
      "source": [
        "x=\"a\"\n",
        "y=\"b\"\n",
        "x<y"
      ],
      "execution_count": null,
      "outputs": [
        {
          "output_type": "execute_result",
          "data": {
            "text/plain": [
              "True"
            ]
          },
          "metadata": {},
          "execution_count": 37
        }
      ]
    },
    {
      "cell_type": "code",
      "metadata": {
        "colab": {
          "base_uri": "https://localhost:8080/"
        },
        "id": "rpibm7qkNhqa",
        "outputId": "80df8042-4e3d-4def-9c48-536403e2c266"
      },
      "source": [
        "s=\"hola\"\n",
        "t=\"Hola\"\n",
        "s<t"
      ],
      "execution_count": null,
      "outputs": [
        {
          "output_type": "execute_result",
          "data": {
            "text/plain": [
              "False"
            ]
          },
          "metadata": {},
          "execution_count": 45
        }
      ]
    },
    {
      "cell_type": "code",
      "metadata": {
        "colab": {
          "base_uri": "https://localhost:8080/"
        },
        "id": "cFYsTSF0N7JH",
        "outputId": "4d5d80e6-5813-4977-b9c6-8302293df209"
      },
      "source": [
        "3==3"
      ],
      "execution_count": null,
      "outputs": [
        {
          "output_type": "execute_result",
          "data": {
            "text/plain": [
              "True"
            ]
          },
          "metadata": {},
          "execution_count": 46
        }
      ]
    },
    {
      "cell_type": "code",
      "metadata": {
        "colab": {
          "base_uri": "https://localhost:8080/"
        },
        "id": "Fwi57-jKN-Q7",
        "outputId": "d3a4383e-8b1a-496b-dcb7-cbd130b080c8"
      },
      "source": [
        "4==6"
      ],
      "execution_count": null,
      "outputs": [
        {
          "output_type": "execute_result",
          "data": {
            "text/plain": [
              "False"
            ]
          },
          "metadata": {},
          "execution_count": 47
        }
      ]
    },
    {
      "cell_type": "code",
      "source": [
        "\"j\"==\"J\""
      ],
      "metadata": {
        "colab": {
          "base_uri": "https://localhost:8080/"
        },
        "id": "MBasNil7fl1N",
        "outputId": "abb4f482-c5f1-4d5a-d5ae-2b23ba799c9d"
      },
      "execution_count": null,
      "outputs": [
        {
          "output_type": "execute_result",
          "data": {
            "text/plain": [
              "False"
            ]
          },
          "metadata": {},
          "execution_count": 48
        }
      ]
    },
    {
      "cell_type": "code",
      "metadata": {
        "colab": {
          "base_uri": "https://localhost:8080/"
        },
        "id": "clXj-60QOBjO",
        "outputId": "f9b1a808-59e1-43de-8e39-2db88ab8f04d"
      },
      "source": [
        "import numpy as np\n",
        "v1=np.array([3,6,9])\n",
        "v2=np.array([3,6,10,5])\n",
        "v1==v2"
      ],
      "execution_count": null,
      "outputs": [
        {
          "output_type": "stream",
          "name": "stderr",
          "text": [
            "/usr/local/lib/python3.7/dist-packages/ipykernel_launcher.py:4: DeprecationWarning: elementwise comparison failed; this will raise an error in the future.\n",
            "  after removing the cwd from sys.path.\n"
          ]
        },
        {
          "output_type": "execute_result",
          "data": {
            "text/plain": [
              "False"
            ]
          },
          "metadata": {},
          "execution_count": 50
        }
      ]
    },
    {
      "cell_type": "code",
      "metadata": {
        "colab": {
          "base_uri": "https://localhost:8080/"
        },
        "id": "lSgBNJMxOdbV",
        "outputId": "6ba0a590-ec47-48fc-9dbd-73a8ad9210be"
      },
      "source": [
        "saludo=\"Hola\"\n",
        "saludo1=\"hola\"\n",
        "saludo==saludo1"
      ],
      "execution_count": null,
      "outputs": [
        {
          "output_type": "execute_result",
          "data": {
            "text/plain": [
              "False"
            ]
          },
          "metadata": {},
          "execution_count": 51
        }
      ]
    },
    {
      "cell_type": "code",
      "metadata": {
        "colab": {
          "base_uri": "https://localhost:8080/"
        },
        "id": "Tejqp4HjOu9X",
        "outputId": "c639a988-609f-405d-df0d-a47df40c9baf"
      },
      "source": [
        "3!=3"
      ],
      "execution_count": null,
      "outputs": [
        {
          "output_type": "execute_result",
          "data": {
            "text/plain": [
              "False"
            ]
          },
          "metadata": {},
          "execution_count": 52
        }
      ]
    },
    {
      "cell_type": "code",
      "metadata": {
        "colab": {
          "base_uri": "https://localhost:8080/"
        },
        "id": "68fJxlzpO2Dt",
        "outputId": "ea0d744f-d384-483a-e45e-df463fd8daa1"
      },
      "source": [
        "4!=5"
      ],
      "execution_count": null,
      "outputs": [
        {
          "output_type": "execute_result",
          "data": {
            "text/plain": [
              "True"
            ]
          },
          "metadata": {},
          "execution_count": 53
        }
      ]
    },
    {
      "cell_type": "code",
      "metadata": {
        "colab": {
          "base_uri": "https://localhost:8080/"
        },
        "id": "nrU3pE1hO8GG",
        "outputId": "c9a3edf7-8a23-4e22-9b82-ed9b3c085a9f"
      },
      "source": [
        "x=6\n",
        "y=7\n",
        "(x<5) & (y>6)"
      ],
      "execution_count": null,
      "outputs": [
        {
          "output_type": "execute_result",
          "data": {
            "text/plain": [
              "False"
            ]
          },
          "metadata": {},
          "execution_count": 54
        }
      ]
    },
    {
      "cell_type": "code",
      "metadata": {
        "colab": {
          "base_uri": "https://localhost:8080/"
        },
        "id": "amW_6hKfPgbw",
        "outputId": "a44596a3-ac5f-4ab8-f971-3e1f8e43ef7e"
      },
      "source": [
        "x=3\n",
        "y=7\n",
        "(x<5) | (y>8)"
      ],
      "execution_count": null,
      "outputs": [
        {
          "output_type": "execute_result",
          "data": {
            "text/plain": [
              "True"
            ]
          },
          "metadata": {},
          "execution_count": 55
        }
      ]
    },
    {
      "cell_type": "markdown",
      "metadata": {
        "id": "F8tswh2Yc6Go"
      },
      "source": [
        "## **Tipos de condicionales**:\n",
        "\n",
        "**if**: Nos permite ejecutar un bloque de código siempre y cuando el resultado de sus condiciones sea verdadero.\n",
        "\n",
        "**else**: Nos permite ejecutar un bloque de código siempre y cuando las condiciones del condicional if NO se cumplan.\n",
        "\n",
        "**elif**: Nos permite ejecutar un bloque de còdigo especificando aún más las condiciones.\n"
      ]
    },
    {
      "cell_type": "markdown",
      "metadata": {
        "id": "oCmvxNkIjaIO"
      },
      "source": [
        "##**Sentencia if**\n",
        "La sentencia condicional más básica en Python es la sentencia if, la cual se expresa de la siguiente forma:\n",
        "```python\n",
        "if condicion:\n",
        "  # ejecutar un código\n",
        "```\n",
        "En la expresión previa:\n",
        "\n",
        "- La condición es una expresión booleana que se evalúa como verdadera (True) o falsa (False).\n",
        "- Se requiere el uso de dos puntos (:) al final de la condición.\n",
        "- Todas las líneas de código a ejecutar si se cumple la condición tienen que estar indentadas respecto la sentencia if."
      ]
    },
    {
      "cell_type": "markdown",
      "metadata": {
        "id": "f0Qeaxg1qRTl"
      },
      "source": [
        "### Ejemplo:"
      ]
    },
    {
      "cell_type": "code",
      "metadata": {
        "id": "UQ_fKDq_kCm4",
        "colab": {
          "base_uri": "https://localhost:8080/"
        },
        "outputId": "502db3ad-c3e4-4676-fa14-8c092d9478a4"
      },
      "source": [
        "x = 10.5\n",
        "if x > 10:\n",
        "  print( 'x es mayor que 10')\n"
      ],
      "execution_count": null,
      "outputs": [
        {
          "output_type": "stream",
          "name": "stdout",
          "text": [
            "x es mayor que 10\n"
          ]
        }
      ]
    },
    {
      "cell_type": "code",
      "metadata": {
        "id": "BWuh3t_2RWti",
        "colab": {
          "base_uri": "https://localhost:8080/"
        },
        "outputId": "a3ca0575-1caa-47b8-9bae-634146ab7c14"
      },
      "source": [
        "v1=np.array([3,6,-5,7,9,7])\n",
        "if v1.size>5:\n",
        "  print(\"El vector tiene 3 elementos\")"
      ],
      "execution_count": null,
      "outputs": [
        {
          "output_type": "stream",
          "name": "stdout",
          "text": [
            "El vector tiene 3 elementos\n"
          ]
        }
      ]
    },
    {
      "cell_type": "markdown",
      "metadata": {
        "id": "m2B3OEpUkwA3"
      },
      "source": [
        "## **Sentencia else**\n",
        "\n",
        "A la sentencia `if` se le puede añadir opcionalmente una sentencia `else`. Esta sentencia contiene el código a ejecutar en caso de que no se cumpla la condición de la sentencia `if`. Esta estructura se expresa del siguiente modo:\n",
        "\n",
        "\n",
        "```python\n",
        "if condicion:\n",
        "  # ejecutar un código\n",
        "else:\n",
        "  # ejecutar un código distinto\n",
        "```\n",
        "\n",
        "La ejecución de esta construcción es la siguiente:\n",
        "\n",
        "- La condición se evalúa siempre.\n",
        "- Si el resultado es `True` se ejecuta solamente el bloque de sentencias 1\n",
        "- Si el resultado es `False` se ejecuta solamente el bloque de sentencias 2.\n",
        "\n"
      ]
    },
    {
      "cell_type": "markdown",
      "metadata": {
        "id": "_00wsQscl_0N"
      },
      "source": [
        "###Ejemplo "
      ]
    },
    {
      "cell_type": "code",
      "metadata": {
        "colab": {
          "base_uri": "https://localhost:8080/"
        },
        "id": "_FyGyFt7mEGa",
        "outputId": "3f533078-8749-4388-f57d-7e9bad4ef43e"
      },
      "source": [
        "x = 13\n",
        "if x>  15:\n",
        "  print('x es mayor que 15')\n",
        "else:\n",
        "  print('x es menor o igual que 15')\n"
      ],
      "execution_count": null,
      "outputs": [
        {
          "output_type": "stream",
          "name": "stdout",
          "text": [
            "x es menor o igual que 15\n"
          ]
        }
      ]
    },
    {
      "cell_type": "markdown",
      "metadata": {
        "id": "7DHhjpTsYMDr"
      },
      "source": [
        "**Ejemplo 2**\n",
        "\n",
        "Realice un código para escribir un programa que determine apartir de los años, si ha pasado su cumpleaños."
      ]
    },
    {
      "cell_type": "code",
      "metadata": {
        "colab": {
          "base_uri": "https://localhost:8080/"
        },
        "id": "xJIjqQCUTw_A",
        "outputId": "a3035b67-9a02-4547-d9d1-f593e415b4ca"
      },
      "source": [
        "int(input(\"Ingrese un número: \"))\n"
      ],
      "execution_count": null,
      "outputs": [
        {
          "name": "stdout",
          "output_type": "stream",
          "text": [
            "Ingrese un número: 5\n"
          ]
        },
        {
          "output_type": "execute_result",
          "data": {
            "text/plain": [
              "5"
            ]
          },
          "metadata": {},
          "execution_count": 64
        }
      ]
    },
    {
      "cell_type": "code",
      "metadata": {
        "id": "rWytOTuvBdQF",
        "colab": {
          "base_uri": "https://localhost:8080/"
        },
        "outputId": "fdb8e00e-f40f-4fe2-eb41-f1ed625abc38"
      },
      "source": [
        "edad=int(input(\"Ingrese su edad: \"))\n",
        "anho_1=2022-edad\n",
        "\n",
        "print(\"¿Usted nació el ?\" , anho_1)\n",
        "respuesta=input(\"Si su respuesta es afirmativa coloque SI:  \")\n",
        "\n",
        "if (respuesta==\"SI\") or (respuesta==\"si\"):\n",
        " print(\"Ya pasó su cumpleaños este año\")\n",
        "else:\n",
        " print(\"No ha pasado su cumpleaños\")"
      ],
      "execution_count": null,
      "outputs": [
        {
          "output_type": "stream",
          "name": "stdout",
          "text": [
            "Ingrese su edad: 32\n",
            "¿Usted nació el ? 1990\n",
            "Si su respuesta es afirmativa coloque SI:  no\n",
            "No ha pasado su cumpleaños\n"
          ]
        }
      ]
    },
    {
      "cell_type": "markdown",
      "metadata": {
        "id": "pzJCS5EfXAp5"
      },
      "source": [
        "**EJERCICIO 1**\n",
        "\n",
        "Escribe un código que permita señalar si ha superado una materia, sabiendo que la mínima nota posible es 3."
      ]
    },
    {
      "cell_type": "code",
      "metadata": {
        "id": "idki6wis7z4o",
        "colab": {
          "base_uri": "https://localhost:8080/"
        },
        "outputId": "de9138e7-958f-4e1a-9617-d62807e7eb61"
      },
      "source": [
        "nota=float(input(\"ingrese la nota: \"))\n",
        "if (nota >=3)&(nota <=5):\n",
        "  print(\"usted aprobó la materia\")\n",
        "else:\n",
        "  print(\"usted perdio la materia\") \n"
      ],
      "execution_count": null,
      "outputs": [
        {
          "output_type": "stream",
          "name": "stdout",
          "text": [
            "ingrese la nota: 2.95\n",
            "usted perdio la materia\n"
          ]
        }
      ]
    },
    {
      "cell_type": "code",
      "metadata": {
        "id": "uNtatwalYAow"
      },
      "source": [],
      "execution_count": null,
      "outputs": []
    },
    {
      "cell_type": "markdown",
      "metadata": {
        "id": "oO6ZxLIGVUWL"
      },
      "source": [
        "**EJERCICIO 2**\n",
        "\n",
        "Se sabe que en Colombia, la mayoría de edad se cumple a los 18 años. Realice un código para escribir un programa que determine si un usuario es mayor de edad o no?\n"
      ]
    },
    {
      "cell_type": "code",
      "metadata": {
        "id": "VI8wMXbloADv"
      },
      "source": [],
      "execution_count": null,
      "outputs": []
    },
    {
      "cell_type": "markdown",
      "metadata": {
        "id": "qNSnX_KXn43v"
      },
      "source": [
        "## **Sentencia `elif`**\n",
        "\n",
        "A una sentencia `if` `else` se pueden añadir un número indefinido de condiciones adicionales a verificar. Estas condiciones se definen mediante la sentencia `elif` , la cual es un abreviación de `else` `if`. Ésta se define así:\n",
        "\n",
        "\n",
        "\n",
        "```python\n",
        "if condicion:\n",
        "  # ejecutar un código\n",
        "elif otra_condicion:\n",
        "  # ejecutar otro código\n",
        "else:\n",
        "  # ejecutar un código distinto\n",
        "```\n",
        "\n",
        "\n",
        "- Si se cumple la condición 1, se ejecuta el bloque 1\n",
        "- Si no se cumple la condición 1 pero sí que se cumple la condición 2, se ejecuta el bloque 2\n",
        "- Si no se cumplen ni la condición 1 ni la condición 2, se ejecuta el bloque 3.\n"
      ]
    },
    {
      "cell_type": "code",
      "metadata": {
        "colab": {
          "base_uri": "https://localhost:8080/"
        },
        "id": "cDJZjEYOvzu0",
        "outputId": "00fef83d-f88b-496c-cbfa-32a2322d68cc"
      },
      "source": [
        "x = 10\n",
        "\n",
        "if x > 9:\n",
        "  print('x es mayor que 9')\n",
        "elif x < 12:\n",
        "  print('x es menor que 12')\n",
        "else:\n",
        "  print('x es 10')\n"
      ],
      "execution_count": null,
      "outputs": [
        {
          "output_type": "stream",
          "name": "stdout",
          "text": [
            "x es mayor que 9\n"
          ]
        }
      ]
    },
    {
      "cell_type": "markdown",
      "metadata": {
        "id": "n1ECKs2zwEGA"
      },
      "source": [
        "Un punto importante de las sentencias `if elif` es que una cuando una condición es evaluada como verdadera se ignoran el resto de condiciones. Este hecho se ilustra en el siguiente ejemplo:"
      ]
    },
    {
      "cell_type": "code",
      "metadata": {
        "colab": {
          "base_uri": "https://localhost:8080/"
        },
        "id": "Q2XJOZdzwFgQ",
        "outputId": "75b75ecb-697b-4e77-b103-1b532b023bfc"
      },
      "source": [
        "x = 15\n",
        "if x > 15:\n",
        "  print('x es mayor que 15')\n",
        "elif x > 10:\n",
        "  print('x es mayor que 10')\n",
        "elif x>6:\n",
        "  print(\"x es mayor a 6\")\n",
        "else:\n",
        "  print('x es menor que 5')\n"
      ],
      "execution_count": null,
      "outputs": [
        {
          "output_type": "stream",
          "name": "stdout",
          "text": [
            "x es mayor que 10\n"
          ]
        }
      ]
    },
    {
      "cell_type": "markdown",
      "metadata": {
        "id": "mxQobLeAYw6w"
      },
      "source": [
        "**EJERCICIO**\n",
        "\n",
        "Realice un código para escribir un programa que determine apartir de los años, si ha pasado su cumpleaños.\n",
        "\n",
        "Complementando el **Ejemplo**, indicando además si no ha pasado su cumpleaños."
      ]
    },
    {
      "cell_type": "code",
      "metadata": {
        "id": "JxYx2FeHEV-I"
      },
      "source": [
        "# ingrese su código"
      ],
      "execution_count": null,
      "outputs": []
    },
    {
      "cell_type": "markdown",
      "metadata": {
        "id": "8U2qkbJMZSwP"
      },
      "source": [
        "\n",
        "**EJERCICIO**\n",
        "\n",
        "Para definir la calidad del aire se hace una medición de partículas presentes en este. Dependiendo de su valor se definen 5 posibles estados de calidad de aire:\n",
        "\n",
        "- Favorable: 0-50\n",
        "\n",
        "- Moderada: 50.1- 100\n",
        "\n",
        "- Regular: 100.1 -150\n",
        "\n",
        "- Mala: 150.1-200\n",
        "\n",
        "- Peligrosa: Superior a 200.1\n",
        "\n",
        "Esto quiere decir si la medición es de menos de 50, la calidad es buena, si la medición es de menos de 100, es moderada pero más de 100 es regular, etc.\n",
        "\n",
        "(Fuente: http://iboca.ambientebogota.gov.co/mapa/)\n",
        "\n",
        "Escriba un código que reciba una medición e imprima la calidad del aire.\n",
        "\n",
        "\n",
        "\n"
      ]
    },
    {
      "cell_type": "code",
      "metadata": {
        "id": "6VKEPebTeESq",
        "colab": {
          "base_uri": "https://localhost:8080/"
        },
        "outputId": "45edf3d7-2e7d-435c-906e-7ef4616617c6"
      },
      "source": [
        "x=float(input(\"ingrese el indice de calidad del aire\"))\n",
        "if (x>=0)&(x<=50):\n",
        "  print(\"{x}la calidad del aire  es favorable\")\n",
        "elif (x>50)&(x<=100):\n",
        "  print(\"{} la calidad del aire  es moderada\")\n",
        "elif (x>100)&(x<=150):\n",
        "  print(\"{} la calidad del aire  es regular\")\n",
        "elif (x>150)&(x<=200):\n",
        "  print(\"{} la calidad del aire  es mala\")\n",
        "elif x>200:\n",
        "  print(\" la calidad del aire  es peligrosa\")\n",
        "else:\n",
        "  print(\"{} ingrese un dato valido\")"
      ],
      "execution_count": null,
      "outputs": [
        {
          "output_type": "stream",
          "name": "stdout",
          "text": [
            "ingrese el indice de calidad del aire50.0004\n",
            "{} la calidad del aire  es moderada\n"
          ]
        }
      ]
    },
    {
      "cell_type": "markdown",
      "metadata": {
        "id": "jYaPa6-wo7Su"
      },
      "source": [
        "**EJERCICIO**\n",
        "\n",
        "Se conoce como año bisiesto a un año que tiene un día extra. Todo año bisiesto debe cumplir alguna de las siguientes condiciones:\n",
        "\n",
        "1.   Debe ser divisible por 4, pero no por 100.\n",
        "2.   Debe ser divisible por 100, pero no por 400.\n",
        "\n",
        "Por ejemplo, 1996 es año bisiesto porque cumple la condición uno. Por otro lado 1900 no lo es, ya que no cumple ninguna de las condiciones.\n",
        "\n",
        "Describa las condiciones en código que permita determinar si un año $A$ es bisiesto?\n",
        "\n",
        "(Fuente: https://spaceplace.nasa.gov/leap-year/en/)"
      ]
    },
    {
      "cell_type": "code",
      "metadata": {
        "id": "eUPmUtF8aXIc"
      },
      "source": [
        "# Escriba su código"
      ],
      "execution_count": null,
      "outputs": []
    },
    {
      "cell_type": "markdown",
      "metadata": {
        "id": "xClVkDCDerDQ"
      },
      "source": [
        "### **Ejercicio**\n",
        "\n",
        "Un banco paga intereses a los depositos depiendo del saldo. Si el saldo es menor a \\$10.000 sepaga un interés anual del 3% pero si es mayor a \\$10.000 se \n",
        "paga un interés anual del 4%. Escriba un algoritmo que reciba el saldo, calcule el interés correspondiente y muestre el saldo de la cuenta al final del primer año.\n",
        "\n"
      ]
    },
    {
      "cell_type": "code",
      "metadata": {
        "id": "4u8dWmpqeKG4"
      },
      "source": [
        "# Escriba su código"
      ],
      "execution_count": null,
      "outputs": []
    },
    {
      "cell_type": "markdown",
      "metadata": {
        "id": "n52xsnTheK5c"
      },
      "source": [
        "### **Ejercicio**\n",
        "\n",
        "Resuelva un algoritmo que resuelva la ecuación cuadrática"
      ]
    },
    {
      "cell_type": "markdown",
      "source": [
        "$$ax^2 +bx+ c=0$$\n",
        "\n",
        "$$x=\\frac{-b \\pm \\sqrt{b^2-4ac}}{2a}$$"
      ],
      "metadata": {
        "id": "Jg-JJJLRYqrm"
      }
    },
    {
      "cell_type": "code",
      "metadata": {
        "id": "5bFEdi1UbTzb"
      },
      "source": [
        "from math import*"
      ],
      "execution_count": null,
      "outputs": []
    },
    {
      "cell_type": "code",
      "source": [
        "a=float(input(\"ingrese el valor de a \"))\n",
        "b=float(input(\"ingrese el valor de b \"))\n",
        "c=float(input(\"ingrese el valor de c \"))\n",
        "\n",
        "d=b**2-4*a*c\n",
        "\n",
        "if d>0:\n",
        "  print(\"la ecuacion tiene dos soluciones reales distintas\")\n",
        "  x1=(-b+sqrt(d))/2*a\n",
        "  x2=(-b-sqrt(d))/2*a\n",
        "  print(x1)\n",
        "  print(x2)\n",
        "\n"
      ],
      "metadata": {
        "colab": {
          "base_uri": "https://localhost:8080/"
        },
        "id": "BMVcRHa3bc63",
        "outputId": "9ec96416-e672-48b3-ea4d-aeb4fc9041f5"
      },
      "execution_count": null,
      "outputs": [
        {
          "output_type": "stream",
          "name": "stdout",
          "text": [
            "ingrese el valor de a 1\n",
            "ingrese el valor de b 5\n",
            "ingrese el valor de c 6\n",
            "la ecuacion tiene dos soluciones reales distintas\n",
            "-2.0\n",
            "-3.0\n"
          ]
        }
      ]
    }
  ]
}