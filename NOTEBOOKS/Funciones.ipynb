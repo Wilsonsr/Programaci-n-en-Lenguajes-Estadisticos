{
  "nbformat": 4,
  "nbformat_minor": 0,
  "metadata": {
    "colab": {
      "provenance": []
    },
    "kernelspec": {
      "name": "python3",
      "display_name": "Python 3"
    },
    "language_info": {
      "name": "python"
    }
  },
  "cells": [
    {
      "cell_type": "markdown",
      "metadata": {
        "id": "4F4e9tWHfClO"
      },
      "source": [
        "## **Funciones en Python**\n",
        "Anteriormente hemos usado funciones nativas que vienen con Python como `len()` para calcular la longitud de una lista, pero al igual que en otros lenguajes de programación, también podemos definir nuestras propias funciones. Para ello hacemos uso de def.\n",
        "\n",
        "\n",
        "```python\n",
        "def nombre_funcion(argumentos):\n",
        "  código\n",
        "  return retorno\n",
        "```\n",
        "\n",
        "\n",
        "\n",
        "Cualquier función tendrá un nombre, unos argumentos de entrada, un código a ejecutar y unos parámetros de salida. Al igual que las funciones matemáticas, en programación nos permiten realizar diferentes operaciones con la entrada, para entregar una determinada salida que dependerá del código que escribamos dentro. Por lo tanto, es totalmente análogo al clásico y=f(x) de las matemáticas.\n",
        "\n"
      ]
    },
    {
      "cell_type": "code",
      "metadata": {
        "id": "DyiYbhklfunj"
      },
      "source": [
        "def mi_primera_funcion(x):\n",
        "  print(2**x)\n",
        "  return"
      ],
      "execution_count": 1,
      "outputs": []
    },
    {
      "cell_type": "code",
      "source": [
        "mi_primera_funcion(3)"
      ],
      "metadata": {
        "colab": {
          "base_uri": "https://localhost:8080/"
        },
        "id": "fmEUCUZ3A048",
        "outputId": "d4b5031c-080a-44a8-9eb1-6a6ac861b9cc"
      },
      "execution_count": 2,
      "outputs": [
        {
          "output_type": "stream",
          "name": "stdout",
          "text": [
            "8\n"
          ]
        }
      ]
    },
    {
      "cell_type": "code",
      "metadata": {
        "colab": {
          "base_uri": "https://localhost:8080/"
        },
        "id": "Bk4nKygVf2Ew",
        "outputId": "40e74a52-a929-4a19-e46e-9503c08a5b94"
      },
      "source": [
        "mi_primera_funcion(5)"
      ],
      "execution_count": 3,
      "outputs": [
        {
          "output_type": "stream",
          "name": "stdout",
          "text": [
            "32\n"
          ]
        }
      ]
    },
    {
      "cell_type": "code",
      "source": [
        "def sumita(m,n):\n",
        "  print(m+n)\n",
        "  return"
      ],
      "metadata": {
        "id": "hBcosAdCn-Qt"
      },
      "execution_count": 4,
      "outputs": []
    },
    {
      "cell_type": "code",
      "source": [
        "sumita(9,8)"
      ],
      "metadata": {
        "colab": {
          "base_uri": "https://localhost:8080/"
        },
        "id": "RjueKd0cBNQl",
        "outputId": "93f14ed3-98fc-4865-9c2b-8a62e9d783e4"
      },
      "execution_count": 5,
      "outputs": [
        {
          "output_type": "stream",
          "name": "stdout",
          "text": [
            "17\n"
          ]
        }
      ]
    },
    {
      "cell_type": "code",
      "source": [
        "sumita(2.8,9)"
      ],
      "metadata": {
        "colab": {
          "base_uri": "https://localhost:8080/"
        },
        "id": "rvJ2IsKuoI-7",
        "outputId": "d38b2835-b9da-4a82-a176-beef8aabcbdd"
      },
      "execution_count": 6,
      "outputs": [
        {
          "output_type": "stream",
          "name": "stdout",
          "text": [
            "11.8\n"
          ]
        }
      ]
    },
    {
      "cell_type": "code",
      "source": [
        "import math\n",
        "def raiz_cuadrada(x):\n",
        "  print(x**(1/2))"
      ],
      "metadata": {
        "id": "vBOsJEZNCol0"
      },
      "execution_count": 7,
      "outputs": []
    },
    {
      "cell_type": "code",
      "source": [
        "raiz_cuadrada(2.5)"
      ],
      "metadata": {
        "colab": {
          "base_uri": "https://localhost:8080/"
        },
        "id": "rPI3dVsYDBsy",
        "outputId": "fff2e066-def8-4776-c4f8-604e4e80b4b8"
      },
      "execution_count": 8,
      "outputs": [
        {
          "output_type": "stream",
          "name": "stdout",
          "text": [
            "1.5811388300841898\n"
          ]
        }
      ]
    },
    {
      "cell_type": "markdown",
      "source": [
        "calcular el promedio de dos numeros"
      ],
      "metadata": {
        "id": "Px0ryXHmDOTb"
      }
    },
    {
      "cell_type": "code",
      "source": [
        "def promedio(a, y):\n",
        "  return (a+y)/2"
      ],
      "metadata": {
        "id": "xJWdTJBfDVRM"
      },
      "execution_count": 9,
      "outputs": []
    },
    {
      "cell_type": "code",
      "source": [
        "promedio(3,4)"
      ],
      "metadata": {
        "colab": {
          "base_uri": "https://localhost:8080/"
        },
        "id": "fHNrElW2D7gD",
        "outputId": "9b94ec7f-81b9-413c-ca81-e41a35d748d6"
      },
      "execution_count": 10,
      "outputs": [
        {
          "output_type": "execute_result",
          "data": {
            "text/plain": [
              "3.5"
            ]
          },
          "metadata": {},
          "execution_count": 10
        }
      ]
    },
    {
      "cell_type": "code",
      "source": [
        "raiz_cuadrada(9)"
      ],
      "metadata": {
        "colab": {
          "base_uri": "https://localhost:8080/"
        },
        "id": "IF0sG4FrC14N",
        "outputId": "fec33123-8445-419d-b7fa-3d988e4b98ef"
      },
      "execution_count": 11,
      "outputs": [
        {
          "output_type": "stream",
          "name": "stdout",
          "text": [
            "3.0\n"
          ]
        }
      ]
    },
    {
      "cell_type": "markdown",
      "source": [
        "## Ejercicio: Crear una función que reciba una palabra y cuente cuantas letras tiene"
      ],
      "metadata": {
        "id": "e1PUqT-hQUWH"
      }
    },
    {
      "cell_type": "code",
      "source": [
        "def cuenta_letras(palabras):\n",
        "  print(len(palabras))\n",
        "  return"
      ],
      "metadata": {
        "id": "e0iWYL1MQi5C"
      },
      "execution_count": 12,
      "outputs": []
    },
    {
      "cell_type": "code",
      "source": [
        "cuenta_letras(\"wilson\")"
      ],
      "metadata": {
        "colab": {
          "base_uri": "https://localhost:8080/"
        },
        "id": "FkpIu_iZSen7",
        "outputId": "1afa83f0-ecd8-453a-8e2d-cf7936b06862"
      },
      "execution_count": 13,
      "outputs": [
        {
          "output_type": "stream",
          "name": "stdout",
          "text": [
            "6\n"
          ]
        }
      ]
    },
    {
      "cell_type": "code",
      "source": [
        "from math import*"
      ],
      "metadata": {
        "id": "1cuQXyXXUesi"
      },
      "execution_count": 14,
      "outputs": []
    },
    {
      "cell_type": "code",
      "source": [
        "def circulo(r):\n",
        "  a=pi*r**2\n",
        "  p=2*pi*r\n",
        "  return a, p"
      ],
      "metadata": {
        "id": "N0U746E4UPs6"
      },
      "execution_count": 15,
      "outputs": []
    },
    {
      "cell_type": "code",
      "source": [
        "def circulo(r):\n",
        "  a=pi*r**2\n",
        "  p=2*pi*r\n",
        "  print(f\" el area del circulo de radio {r}  es {a}\")\n",
        "  print(f\"el perimetro del circulo de radio {r} es{p}\")\n"
      ],
      "metadata": {
        "id": "gYT-3XH0U4Fq"
      },
      "execution_count": 16,
      "outputs": []
    },
    {
      "cell_type": "code",
      "source": [
        "r=float(input(\"ingrese el radio\"))\n",
        "circulo(r)"
      ],
      "metadata": {
        "colab": {
          "base_uri": "https://localhost:8080/",
          "height": 346
        },
        "id": "Ufzrf6UfUbKC",
        "outputId": "5eb7a2d1-1a1a-469e-ce68-b15f89373456"
      },
      "execution_count": 17,
      "outputs": [
        {
          "output_type": "error",
          "ename": "KeyboardInterrupt",
          "evalue": "ignored",
          "traceback": [
            "\u001b[0;31m---------------------------------------------------------------------------\u001b[0m",
            "\u001b[0;31mKeyboardInterrupt\u001b[0m                         Traceback (most recent call last)",
            "\u001b[0;32m<ipython-input-17-5dd0c43940d8>\u001b[0m in \u001b[0;36m<cell line: 1>\u001b[0;34m()\u001b[0m\n\u001b[0;32m----> 1\u001b[0;31m \u001b[0mr\u001b[0m\u001b[0;34m=\u001b[0m\u001b[0mfloat\u001b[0m\u001b[0;34m(\u001b[0m\u001b[0minput\u001b[0m\u001b[0;34m(\u001b[0m\u001b[0;34m\"ingrese el radio\"\u001b[0m\u001b[0;34m)\u001b[0m\u001b[0;34m)\u001b[0m\u001b[0;34m\u001b[0m\u001b[0;34m\u001b[0m\u001b[0m\n\u001b[0m\u001b[1;32m      2\u001b[0m \u001b[0mcirculo\u001b[0m\u001b[0;34m(\u001b[0m\u001b[0mr\u001b[0m\u001b[0;34m)\u001b[0m\u001b[0;34m\u001b[0m\u001b[0;34m\u001b[0m\u001b[0m\n",
            "\u001b[0;32m/usr/local/lib/python3.9/dist-packages/ipykernel/kernelbase.py\u001b[0m in \u001b[0;36mraw_input\u001b[0;34m(self, prompt)\u001b[0m\n\u001b[1;32m    849\u001b[0m                 \u001b[0;34m\"raw_input was called, but this frontend does not support input requests.\"\u001b[0m\u001b[0;34m\u001b[0m\u001b[0;34m\u001b[0m\u001b[0m\n\u001b[1;32m    850\u001b[0m             )\n\u001b[0;32m--> 851\u001b[0;31m         return self._input_request(str(prompt),\n\u001b[0m\u001b[1;32m    852\u001b[0m             \u001b[0mself\u001b[0m\u001b[0;34m.\u001b[0m\u001b[0m_parent_ident\u001b[0m\u001b[0;34m,\u001b[0m\u001b[0;34m\u001b[0m\u001b[0;34m\u001b[0m\u001b[0m\n\u001b[1;32m    853\u001b[0m             \u001b[0mself\u001b[0m\u001b[0;34m.\u001b[0m\u001b[0m_parent_header\u001b[0m\u001b[0;34m,\u001b[0m\u001b[0;34m\u001b[0m\u001b[0;34m\u001b[0m\u001b[0m\n",
            "\u001b[0;32m/usr/local/lib/python3.9/dist-packages/ipykernel/kernelbase.py\u001b[0m in \u001b[0;36m_input_request\u001b[0;34m(self, prompt, ident, parent, password)\u001b[0m\n\u001b[1;32m    893\u001b[0m             \u001b[0;32mexcept\u001b[0m \u001b[0mKeyboardInterrupt\u001b[0m\u001b[0;34m:\u001b[0m\u001b[0;34m\u001b[0m\u001b[0;34m\u001b[0m\u001b[0m\n\u001b[1;32m    894\u001b[0m                 \u001b[0;31m# re-raise KeyboardInterrupt, to truncate traceback\u001b[0m\u001b[0;34m\u001b[0m\u001b[0;34m\u001b[0m\u001b[0m\n\u001b[0;32m--> 895\u001b[0;31m                 \u001b[0;32mraise\u001b[0m \u001b[0mKeyboardInterrupt\u001b[0m\u001b[0;34m(\u001b[0m\u001b[0;34m\"Interrupted by user\"\u001b[0m\u001b[0;34m)\u001b[0m \u001b[0;32mfrom\u001b[0m \u001b[0;32mNone\u001b[0m\u001b[0;34m\u001b[0m\u001b[0;34m\u001b[0m\u001b[0m\n\u001b[0m\u001b[1;32m    896\u001b[0m             \u001b[0;32mexcept\u001b[0m \u001b[0mException\u001b[0m \u001b[0;32mas\u001b[0m \u001b[0me\u001b[0m\u001b[0;34m:\u001b[0m\u001b[0;34m\u001b[0m\u001b[0;34m\u001b[0m\u001b[0m\n\u001b[1;32m    897\u001b[0m                 \u001b[0mself\u001b[0m\u001b[0;34m.\u001b[0m\u001b[0mlog\u001b[0m\u001b[0;34m.\u001b[0m\u001b[0mwarning\u001b[0m\u001b[0;34m(\u001b[0m\u001b[0;34m\"Invalid Message:\"\u001b[0m\u001b[0;34m,\u001b[0m \u001b[0mexc_info\u001b[0m\u001b[0;34m=\u001b[0m\u001b[0;32mTrue\u001b[0m\u001b[0;34m)\u001b[0m\u001b[0;34m\u001b[0m\u001b[0;34m\u001b[0m\u001b[0m\n",
            "\u001b[0;31mKeyboardInterrupt\u001b[0m: Interrupted by user"
          ]
        }
      ]
    },
    {
      "cell_type": "markdown",
      "metadata": {
        "id": "QslE7lL0gq5J"
      },
      "source": [
        "#### Pasando argumentos de entrada\n",
        "Empecemos por la función más sencilla de todas. Una función sin parámetros de entrada ni parámetros de salida.\n",
        "\n"
      ]
    },
    {
      "cell_type": "code",
      "metadata": {
        "id": "5f0tI0MggvyI"
      },
      "source": [
        "def di_hola():\n",
        "    print(\"Hola\")"
      ],
      "execution_count": null,
      "outputs": []
    },
    {
      "cell_type": "code",
      "metadata": {
        "id": "xY_k_AstgxdD"
      },
      "source": [
        "di_hola()"
      ],
      "execution_count": null,
      "outputs": []
    },
    {
      "cell_type": "code",
      "source": [
        "di_hola()"
      ],
      "metadata": {
        "id": "jJlQLLluojre"
      },
      "execution_count": null,
      "outputs": []
    },
    {
      "cell_type": "code",
      "metadata": {
        "id": "N3Nl_Smpg7vA"
      },
      "source": [
        "def di_hola(nombre):\n",
        "    print(\"Hola\", nombre)\n"
      ],
      "execution_count": null,
      "outputs": []
    },
    {
      "cell_type": "code",
      "metadata": {
        "id": "SkVgSZvdhBfa"
      },
      "source": [
        "di_hola(\"Wilson\")"
      ],
      "execution_count": null,
      "outputs": []
    },
    {
      "cell_type": "code",
      "source": [
        "di_hola(\"andrea\")"
      ],
      "metadata": {
        "id": "XHfkummwo2fj"
      },
      "execution_count": null,
      "outputs": []
    },
    {
      "cell_type": "code",
      "source": [
        "di_hola(5)"
      ],
      "metadata": {
        "id": "0H4AkMjpETz-"
      },
      "execution_count": null,
      "outputs": []
    },
    {
      "cell_type": "code",
      "source": [
        "import numpy as np\n",
        "nombres=np.array([\"Juan\", \"Pedro\", \"Carlos\", \"María\"])\n",
        "\n",
        "for i in nombres:\n",
        "  di_hola(i)\n"
      ],
      "metadata": {
        "id": "MDjnk_A4pTUg"
      },
      "execution_count": null,
      "outputs": []
    },
    {
      "cell_type": "code",
      "source": [
        "import pandas as pd\n",
        "players=pd.read_csv(\"/content/epldata_final.csv\")\n"
      ],
      "metadata": {
        "id": "T94x-SOeYupK"
      },
      "execution_count": null,
      "outputs": []
    },
    {
      "cell_type": "code",
      "source": [
        "players"
      ],
      "metadata": {
        "id": "YtXeXSRjZCOZ"
      },
      "execution_count": null,
      "outputs": []
    },
    {
      "cell_type": "code",
      "source": [
        "import numpy as np\n",
        "players.iloc[0:,0]"
      ],
      "metadata": {
        "id": "2BIK-PZYaXvj"
      },
      "execution_count": null,
      "outputs": []
    },
    {
      "cell_type": "code",
      "source": [
        "players[\"name\"][4]"
      ],
      "metadata": {
        "id": "LiG984SkbhiH"
      },
      "execution_count": null,
      "outputs": []
    },
    {
      "cell_type": "code",
      "source": [
        "len(players)"
      ],
      "metadata": {
        "id": "gUUEmsqadeY4"
      },
      "execution_count": null,
      "outputs": []
    },
    {
      "cell_type": "code",
      "source": [
        "for i in players[\"name\"]:\n",
        "  di_hola(i)"
      ],
      "metadata": {
        "id": "pvWPY6wkeIoA"
      },
      "execution_count": null,
      "outputs": []
    },
    {
      "cell_type": "code",
      "source": [
        "for i in range(len(players)):\n",
        "  print(\"hola\", players[\"name\"][i])\n"
      ],
      "metadata": {
        "id": "7XWRsuqsdFFs"
      },
      "execution_count": null,
      "outputs": []
    },
    {
      "cell_type": "code",
      "source": [
        "def cuenta_letras(palabra):\n",
        "  print(len(palabra))"
      ],
      "metadata": {
        "id": "kAbgLKt3sb1h"
      },
      "execution_count": null,
      "outputs": []
    },
    {
      "cell_type": "code",
      "source": [
        "cuenta_letras(\"MAÑJFOIEJFSO\")"
      ],
      "metadata": {
        "id": "weGQohGWsma9"
      },
      "execution_count": null,
      "outputs": []
    },
    {
      "cell_type": "markdown",
      "metadata": {
        "id": "4_r1mXmbhUl6"
      },
      "source": [
        "**Argumentos por posición**\n",
        "Los argumentos por posición o posicionales son la forma más básica e intuitiva de pasar parámetros. Si tenemos una función resta() que acepta dos parámetros, se puede llamar como se muestra a continuación.\n",
        "\n"
      ]
    },
    {
      "cell_type": "code",
      "metadata": {
        "id": "35zv0ro5hbAl"
      },
      "source": [
        "def resta(a, b):\n",
        "    return a-b\n",
        "\n",
        "resta(3,5)\n"
      ],
      "execution_count": null,
      "outputs": []
    },
    {
      "cell_type": "code",
      "metadata": {
        "id": "dLHiiJt8dsEG"
      },
      "source": [
        "resta(5,3)"
      ],
      "execution_count": null,
      "outputs": []
    },
    {
      "cell_type": "markdown",
      "metadata": {
        "id": "hcZbVeOvhfBf"
      },
      "source": [
        "Al tratarse de parámetros posicionales, se interpretará que el primer número es la a y el segundo la b. El número de parámetros es fijo, por lo que si intentamos llamar a la función con solo uno, dará error."
      ]
    },
    {
      "cell_type": "markdown",
      "metadata": {
        "id": "d9yAyUGuhtmI"
      },
      "source": [
        "**Argumentos por nombre**\n",
        "Otra forma de llamar a una función, es usando el nombre del argumento con = y su valor. El siguiente código hace lo mismo que el código anterior, con la diferencia de que los argumentos no son posicionales.\n",
        "\n"
      ]
    },
    {
      "cell_type": "code",
      "metadata": {
        "id": "Kyi1Ox1OhebE"
      },
      "source": [
        "resta(a=3, b=5) # -2\n",
        "resta(b=5, a=3) # -2\n",
        "resta(a=5, b=4)"
      ],
      "execution_count": null,
      "outputs": []
    },
    {
      "cell_type": "markdown",
      "metadata": {
        "id": "bXshl0mJh2ct"
      },
      "source": [
        "Al indicar en la llamada a la función el nombre de la variable y el valor, el orden ya no importa, y se podría llamar de la siguiente forma.\n"
      ]
    },
    {
      "cell_type": "markdown",
      "metadata": {
        "id": "GwOZaEPgivU2"
      },
      "source": [
        "**Argumentos por defecto**\n",
        "\n",
        "Tal vez queramos tener una función con algún parámetro opcional, que pueda ser usado o no dependiendo de diferentes circunstancias. Para ello, lo que podemos hacer es asignar un valor por defecto a la función. En el siguiente caso c valdría cero salvo que se indique lo contrario.\n",
        "\n",
        "\n"
      ]
    },
    {
      "cell_type": "code",
      "metadata": {
        "id": "YYiVeZkai8Uz"
      },
      "source": [
        "def suma(a, b, c=0):\n",
        "    return a+b+c\n",
        "\n",
        "suma(5,5,3) \n",
        "\n",
        "suma(3,6)"
      ],
      "execution_count": null,
      "outputs": []
    },
    {
      "cell_type": "code",
      "metadata": {
        "id": "V0RBVc7xehpv"
      },
      "source": [
        "suma(4,7,9)"
      ],
      "execution_count": null,
      "outputs": []
    },
    {
      "cell_type": "markdown",
      "metadata": {
        "id": "9lUKwGrIi4Xl"
      },
      "source": [
        "Dado que el parámetro c tiene un valor por defecto, la función puede ser llamada sin ese valor.\n",
        "\n"
      ]
    },
    {
      "cell_type": "code",
      "metadata": {
        "id": "jLNSWL0QjFYR"
      },
      "source": [
        "suma(4,3) # 7\n"
      ],
      "execution_count": null,
      "outputs": []
    },
    {
      "cell_type": "markdown",
      "metadata": {
        "id": "WHuMXQI5jIKa"
      },
      "source": [
        "Podemos incluso asignar un valor por defecto a todos los parámetros, por lo que se podría llamar a la función sin ningún argumento de entrada."
      ]
    },
    {
      "cell_type": "code",
      "metadata": {
        "id": "nigjeLoOjUbr"
      },
      "source": [
        "def suma(a=3, b=5, c=0):\n",
        "    return a+b+c\n",
        "suma()"
      ],
      "execution_count": null,
      "outputs": []
    },
    {
      "cell_type": "code",
      "metadata": {
        "id": "xgcPWoIOevUF"
      },
      "source": [
        "suma(4,7)"
      ],
      "execution_count": null,
      "outputs": []
    },
    {
      "cell_type": "markdown",
      "metadata": {
        "id": "CY0TODsgjbAE"
      },
      "source": [
        "**Argumentos de longitud variable**\n",
        "\n",
        "En el ejemplo con argumentos por defecto, hemos visto que la función puede ser llamada con diferente número de argumentos de entrada, pero esto no es realmente una función con argumentos de longitud variable, ya que existe un número máximo.\n",
        "\n",
        "Imaginemos que queremos una función suma() como la de antes, pero en este caso necesitamos que sume todos los números de entrada que se le pasen, sin importar si son 3 o 100. Una primera forma de hacerlo sería con una lista."
      ]
    },
    {
      "cell_type": "code",
      "metadata": {
        "id": "7ZH6q8D5jlIJ"
      },
      "source": [
        "def suma(numeros):\n",
        "    total = 0\n",
        "    for n in numeros:\n",
        "        total += n\n",
        "    print(total)\n",
        "    return \n",
        "\n",
        "\n"
      ],
      "execution_count": null,
      "outputs": []
    },
    {
      "cell_type": "code",
      "metadata": {
        "id": "MldOgHEzfEth"
      },
      "source": [
        "suma([1,3,5,4])"
      ],
      "execution_count": null,
      "outputs": []
    },
    {
      "cell_type": "markdown",
      "metadata": {
        "id": "mzH7BIWoj7-s"
      },
      "source": [
        "La forma es válida y cumple nuestro requisito, pero realmente no estamos trabajando con argumentos de longitud variable. En realidad tenemos un solo argumento que es una lista de números.\n",
        "\n",
        "Por suerte, Python tiene una herramienta muy potente. Si declaramos un argumento con *, esto hará que el argumento que se pase sea empaquetado en una tupla de manera automática. No confundir * con los punteros en otros lenguajes de programación, no tiene nada que ver."
      ]
    },
    {
      "cell_type": "code",
      "metadata": {
        "id": "5iQ7HNGAkAhl"
      },
      "source": [
        "def suma(*numeros):\n",
        "    print(type(numeros))\n",
        "    total = 0\n",
        "    for n in numeros:\n",
        "        total += n\n",
        "    return total\n",
        "\n",
        "\n"
      ],
      "execution_count": null,
      "outputs": []
    },
    {
      "cell_type": "code",
      "metadata": {
        "id": "xWp6tVtIfg9B"
      },
      "source": [
        "suma(1, 3, 5, 7.3, 49000)"
      ],
      "execution_count": null,
      "outputs": []
    },
    {
      "cell_type": "markdown",
      "metadata": {
        "id": "bIk4PuFIkYBX"
      },
      "source": [
        "Usando doble ** es posible también tener como parámetro de entrada una lista de elementos almacenados en forma de clave y valor. En este caso podemos iterar los valores haciendo uso de `items()`."
      ]
    },
    {
      "cell_type": "code",
      "metadata": {
        "id": "AZnLURrckf3P"
      },
      "source": [
        "def suma(**kwargs):\n",
        "    suma = 0;\n",
        "    for key, value in kwargs.items():\n",
        "        print(key, value)\n",
        "        suma += value\n",
        "    return suma\n",
        "\n",
        "suma(a=5, b=20, c=23)"
      ],
      "execution_count": null,
      "outputs": []
    },
    {
      "cell_type": "markdown",
      "metadata": {
        "id": "rFkdR-3Hk2Xw"
      },
      "source": [
        "**Sentencia return**\n",
        "\n",
        "El uso de la sentencia return permite realizar dos cosas:\n",
        "\n",
        "- Salir de la función y transferir la ejecución de vuelta a donde se realizó la llamada.\n",
        "- Devolver uno o varios parámetros, fruto de la ejecución de la función.\n",
        "\n",
        "En lo relativo a lo primero, una vez se llama a return se para la ejecución de la función y se vuelve o retorna al punto donde fue llamada. Es por ello por lo que el código que va después del return no es ejecutado en el siguiente ejemplo."
      ]
    },
    {
      "cell_type": "code",
      "metadata": {
        "id": "5vSuFtTwlCab"
      },
      "source": [
        "def mi_funcion():\n",
        "    print(\"Entra en mi_funcion\")\n",
        "    return \n",
        "    print(\"No llega\")\n",
        "\n",
        "mi_funcion()"
      ],
      "execution_count": null,
      "outputs": []
    },
    {
      "cell_type": "markdown",
      "metadata": {
        "id": "jYQ34mw3lSHK"
      },
      "source": [
        "Por ello, sólo llamamos a `return` una vez hemos acabado de hacer lo que teníamos que hacer en la función.\n",
        "\n",
        "Por otro lado, se pueden devolver parámetros. Normalmente las funciones son llamadas para realizar unos cálculos en base a una entrada, por lo que es interesante poder devolver ese resultado a quien llamó a la función."
      ]
    },
    {
      "cell_type": "code",
      "metadata": {
        "id": "TNXVD9KllcQU"
      },
      "source": [
        "def di_hola():\n",
        "    return \"Hola\"\n",
        "\n",
        "di_hola()\n"
      ],
      "execution_count": null,
      "outputs": []
    },
    {
      "cell_type": "markdown",
      "metadata": {
        "id": "Wgs2k_G5lmyg"
      },
      "source": [
        "También es posible devolver mas de una variable, separadas por ,. En el siguiente ejemplo tenemos una función que calcula la suma y media de tres números, y devuelve su resultado."
      ]
    },
    {
      "cell_type": "code",
      "metadata": {
        "id": "CLHF_DKGln0J"
      },
      "source": [
        "def suma_y_media(a, b, c):\n",
        "    suma = a+b+c\n",
        "    media = suma/3\n",
        "    return suma, media\n",
        "\n",
        "\n",
        "suma, media = suma_y_media(9, 6, 3)\n",
        "print(suma)  \n",
        "print(media) "
      ],
      "execution_count": null,
      "outputs": []
    },
    {
      "cell_type": "markdown",
      "metadata": {
        "id": "N_MXWmAHl0m-"
      },
      "source": [
        "Ejercicio: Escriba una función que pida la anchura y altura de un rectángulo y lo dibuje con caracteres producto (*):"
      ]
    },
    {
      "cell_type": "code",
      "metadata": {
        "id": "62T8mbgMmYG2"
      },
      "source": [],
      "execution_count": null,
      "outputs": []
    },
    {
      "cell_type": "code",
      "metadata": {
        "id": "MOcpCqPboEbC"
      },
      "source": [],
      "execution_count": null,
      "outputs": []
    },
    {
      "cell_type": "markdown",
      "metadata": {
        "id": "NLDm5BpnoYhh"
      },
      "source": [
        "Ejercicio: Escriba un programa que pida el tamaño de una matriz, que ingrese una matriz y sus entradas"
      ]
    },
    {
      "cell_type": "code",
      "metadata": {
        "id": "6-Ja3fuEgk_D"
      },
      "source": [],
      "execution_count": null,
      "outputs": []
    }
  ]
}